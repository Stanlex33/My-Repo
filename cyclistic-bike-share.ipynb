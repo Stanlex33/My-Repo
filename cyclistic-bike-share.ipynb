{
 "cells": [
  {
   "cell_type": "code",
   "execution_count": 1,
   "id": "5710503f",
   "metadata": {
    "_execution_state": "idle",
    "_uuid": "051d70d956493feee0c6d64651c6a088724dca2a",
    "execution": {
     "iopub.execute_input": "2022-04-23T11:57:00.260154Z",
     "iopub.status.busy": "2022-04-23T11:57:00.258123Z",
     "iopub.status.idle": "2022-04-23T11:57:01.632119Z",
     "shell.execute_reply": "2022-04-23T11:57:01.630257Z"
    },
    "papermill": {
     "duration": 1.399021,
     "end_time": "2022-04-23T11:57:01.634783",
     "exception": false,
     "start_time": "2022-04-23T11:57:00.235762",
     "status": "completed"
    },
    "tags": []
   },
   "outputs": [
    {
     "name": "stderr",
     "output_type": "stream",
     "text": [
      "── \u001b[1mAttaching packages\u001b[22m ─────────────────────────────────────── tidyverse 1.3.1 ──\n",
      "\n",
      "\u001b[32m✔\u001b[39m \u001b[34mggplot2\u001b[39m 3.3.5     \u001b[32m✔\u001b[39m \u001b[34mpurrr  \u001b[39m 0.3.4\n",
      "\u001b[32m✔\u001b[39m \u001b[34mtibble \u001b[39m 3.1.6     \u001b[32m✔\u001b[39m \u001b[34mdplyr  \u001b[39m 1.0.8\n",
      "\u001b[32m✔\u001b[39m \u001b[34mtidyr  \u001b[39m 1.2.0     \u001b[32m✔\u001b[39m \u001b[34mstringr\u001b[39m 1.4.0\n",
      "\u001b[32m✔\u001b[39m \u001b[34mreadr  \u001b[39m 2.1.2     \u001b[32m✔\u001b[39m \u001b[34mforcats\u001b[39m 0.5.1\n",
      "\n",
      "── \u001b[1mConflicts\u001b[22m ────────────────────────────────────────── tidyverse_conflicts() ──\n",
      "\u001b[31m✖\u001b[39m \u001b[34mdplyr\u001b[39m::\u001b[32mfilter()\u001b[39m masks \u001b[34mstats\u001b[39m::filter()\n",
      "\u001b[31m✖\u001b[39m \u001b[34mdplyr\u001b[39m::\u001b[32mlag()\u001b[39m    masks \u001b[34mstats\u001b[39m::lag()\n",
      "\n"
     ]
    },
    {
     "data": {
      "text/html": [
       "<style>\n",
       ".list-inline {list-style: none; margin:0; padding: 0}\n",
       ".list-inline>li {display: inline-block}\n",
       ".list-inline>li:not(:last-child)::after {content: \"\\00b7\"; padding: 0 .5ex}\n",
       "</style>\n",
       "<ol class=list-inline><li>'202103-202203-cyclistic-dataset'</li><li>'cyclistic-dataset-google-certificate-capstone'</li></ol>\n"
      ],
      "text/latex": [
       "\\begin{enumerate*}\n",
       "\\item '202103-202203-cyclistic-dataset'\n",
       "\\item 'cyclistic-dataset-google-certificate-capstone'\n",
       "\\end{enumerate*}\n"
      ],
      "text/markdown": [
       "1. '202103-202203-cyclistic-dataset'\n",
       "2. 'cyclistic-dataset-google-certificate-capstone'\n",
       "\n",
       "\n"
      ],
      "text/plain": [
       "[1] \"202103-202203-cyclistic-dataset\"              \n",
       "[2] \"cyclistic-dataset-google-certificate-capstone\""
      ]
     },
     "metadata": {},
     "output_type": "display_data"
    }
   ],
   "source": [
    "# This R environment comes with many helpful analytics packages installed\n",
    "# It is defined by the kaggle/rstats Docker image: https://github.com/kaggle/docker-rstats\n",
    "# For example, here's a helpful package to load\n",
    "\n",
    "library(tidyverse) # metapackage of all tidyverse packages\n",
    "\n",
    "# Input data files are available in the read-only \"../input/\" directory\n",
    "# For example, running this (by clicking run or pressing Shift+Enter) will list all files under the input directory\n",
    "\n",
    "list.files(path = \"../input\")\n",
    "\n",
    "# You can write up to 20GB to the current directory (/kaggle/working/) that gets preserved as output when you create a version using \"Save & Run All\" \n",
    "# You can also write temporary files to /kaggle/temp/, but they won't be saved outside of the current session"
   ]
  },
  {
   "cell_type": "markdown",
   "id": "2f00d462",
   "metadata": {
    "papermill": {
     "duration": 0.019572,
     "end_time": "2022-04-23T11:57:01.673836",
     "exception": false,
     "start_time": "2022-04-23T11:57:01.654264",
     "status": "completed"
    },
    "tags": []
   },
   "source": [
    "# **Cyclistic Bike Share - Case Study**"
   ]
  },
  {
   "cell_type": "markdown",
   "id": "964344d6",
   "metadata": {
    "papermill": {
     "duration": 0.019576,
     "end_time": "2022-04-23T11:57:01.712753",
     "exception": false,
     "start_time": "2022-04-23T11:57:01.693177",
     "status": "completed"
    },
    "tags": []
   },
   "source": [
    "# Introduction"
   ]
  },
  {
   "cell_type": "markdown",
   "id": "de1771eb",
   "metadata": {
    "papermill": {
     "duration": 0.019451,
     "end_time": "2022-04-23T11:57:01.752276",
     "exception": false,
     "start_time": "2022-04-23T11:57:01.732825",
     "status": "completed"
    },
    "tags": []
   },
   "source": [
    "In this case study. I'll be working with a fictional company called Cyclistic as a Junior Data Analyst. Cyclistic is a bike sharing company in Chicago. They offer a bike share program that features more than 5800 bikes and 600 docking stations.\n",
    "\n",
    "Cyclistic sets itself apart by also offering reclining bikes, hand tricycles, and cargo bikes, making bike-share more inclusive to people with disabilities and riders who can’t use a standard two-wheeled bike. The majority of riders opt for traditional bikes; about 8% of riders use the assistive options. Cyclistic users are more likely to ride for leisure, but about 30% use them to commute to work each day.\n",
    "\n",
    "The business task here is to understand how casual riders and annual members use Cyclistic bikes differently which will be used to design a new marketing strategy to convert casual riders into annual members.\n",
    "\n",
    "As a Junior Data Analyst, I have been assigned the task of understanding how annual members and casual riders differ which would guide the marketing strategy team in converting casual riders to annual members."
   ]
  },
  {
   "cell_type": "markdown",
   "id": "7046a5b6",
   "metadata": {
    "papermill": {
     "duration": 0.020066,
     "end_time": "2022-04-23T11:57:01.791764",
     "exception": false,
     "start_time": "2022-04-23T11:57:01.771698",
     "status": "completed"
    },
    "tags": []
   },
   "source": [
    "# PHASE 1 - Ask"
   ]
  },
  {
   "cell_type": "markdown",
   "id": "3d4a1eae",
   "metadata": {
    "papermill": {
     "duration": 0.019065,
     "end_time": "2022-04-23T11:57:01.829971",
     "exception": false,
     "start_time": "2022-04-23T11:57:01.810906",
     "status": "completed"
    },
    "tags": []
   },
   "source": [
    "****Identify business tasks****"
   ]
  },
  {
   "cell_type": "markdown",
   "id": "baabe17f",
   "metadata": {
    "papermill": {
     "duration": 0.01973,
     "end_time": "2022-04-23T11:57:01.869459",
     "exception": false,
     "start_time": "2022-04-23T11:57:01.849729",
     "status": "completed"
    },
    "tags": []
   },
   "source": [
    "In this phase, I will need to understand the business question or the problem the company is trying to solve and how my analysis can help drive the business decision. In this instance, the business task is to know how casual and member riders use Cyclistic differently. The insights gotten from this can be used in marketing strategy to convert casual riders to annual members."
   ]
  },
  {
   "cell_type": "markdown",
   "id": "af787755",
   "metadata": {
    "papermill": {
     "duration": 0.019465,
     "end_time": "2022-04-23T11:57:01.907923",
     "exception": false,
     "start_time": "2022-04-23T11:57:01.888458",
     "status": "completed"
    },
    "tags": []
   },
   "source": [
    "****Consider Key Stakeholders****"
   ]
  },
  {
   "cell_type": "markdown",
   "id": "daf9d0c9",
   "metadata": {
    "papermill": {
     "duration": 0.01907,
     "end_time": "2022-04-23T11:57:01.946388",
     "exception": false,
     "start_time": "2022-04-23T11:57:01.927318",
     "status": "completed"
    },
    "tags": []
   },
   "source": [
    "In this case study, I'll be working with a few stakeholders:\n",
    "\n",
    "*  Lily Moreno: She is my manager and the director of marketing. She is responsible for the development of campaigns and initiative to promote the bike share program.\n",
    "*  Cyclistic Executive team: They will be responsible on deciding whether to approve the recommended marketing program.\n",
    "*  Cyclistic marketing analytics team: They are a team of data analysts who are responsible for collecting, analyzing, and reporting data that helps guide Cyclistic marketing strategy.\n"
   ]
  },
  {
   "cell_type": "markdown",
   "id": "7aa1a561",
   "metadata": {
    "papermill": {
     "duration": 0.019817,
     "end_time": "2022-04-23T11:57:01.985491",
     "exception": false,
     "start_time": "2022-04-23T11:57:01.965674",
     "status": "completed"
    },
    "tags": []
   },
   "source": [
    "# # PHASE 2 - Prepare"
   ]
  },
  {
   "cell_type": "markdown",
   "id": "664d4bcb",
   "metadata": {
    "papermill": {
     "duration": 0.019301,
     "end_time": "2022-04-23T11:57:02.024043",
     "exception": false,
     "start_time": "2022-04-23T11:57:02.004742",
     "status": "completed"
    },
    "tags": []
   },
   "source": [
    "\n",
    "In this phase, I'll be loading the datasets that will be used for the analysis. The datasets were gotten from this source link\n",
    "\n",
    "Before working with the datasets, I had to load some libraries that would be used in the analysis. The libraries are Tidyverse for data analysis, readr for loading the datasets, ggplot2 for visualization and lubridate package for working with dates."
   ]
  },
  {
   "cell_type": "markdown",
   "id": "e2756399",
   "metadata": {
    "papermill": {
     "duration": 0.020271,
     "end_time": "2022-04-23T11:57:02.069111",
     "exception": false,
     "start_time": "2022-04-23T11:57:02.048840",
     "status": "completed"
    },
    "tags": []
   },
   "source": [
    "Loading Packages\n"
   ]
  },
  {
   "cell_type": "markdown",
   "id": "7c50f6ec",
   "metadata": {
    "papermill": {
     "duration": 0.019316,
     "end_time": "2022-04-23T11:57:02.107482",
     "exception": false,
     "start_time": "2022-04-23T11:57:02.088166",
     "status": "completed"
    },
    "tags": []
   },
   "source": [
    "Loading the necessary libraries"
   ]
  },
  {
   "cell_type": "code",
   "execution_count": 2,
   "id": "435da58a",
   "metadata": {
    "execution": {
     "iopub.execute_input": "2022-04-23T11:57:02.179045Z",
     "iopub.status.busy": "2022-04-23T11:57:02.147283Z",
     "iopub.status.idle": "2022-04-23T11:57:02.212847Z",
     "shell.execute_reply": "2022-04-23T11:57:02.210843Z"
    },
    "papermill": {
     "duration": 0.089021,
     "end_time": "2022-04-23T11:57:02.215441",
     "exception": false,
     "start_time": "2022-04-23T11:57:02.126420",
     "status": "completed"
    },
    "tags": []
   },
   "outputs": [
    {
     "name": "stderr",
     "output_type": "stream",
     "text": [
      "\n",
      "Attaching package: ‘lubridate’\n",
      "\n",
      "\n",
      "The following objects are masked from ‘package:base’:\n",
      "\n",
      "    date, intersect, setdiff, union\n",
      "\n",
      "\n"
     ]
    }
   ],
   "source": [
    "library(tidyverse)   \n",
    "library(lubridate)   \n",
    "library(ggplot2) "
   ]
  },
  {
   "cell_type": "markdown",
   "id": "9bdcd600",
   "metadata": {
    "papermill": {
     "duration": 0.01921,
     "end_time": "2022-04-23T11:57:02.254726",
     "exception": false,
     "start_time": "2022-04-23T11:57:02.235516",
     "status": "completed"
    },
    "tags": []
   },
   "source": [
    "# Importing and preparing the data\n"
   ]
  },
  {
   "cell_type": "code",
   "execution_count": 3,
   "id": "b21322ae",
   "metadata": {
    "execution": {
     "iopub.execute_input": "2022-04-23T11:57:02.298617Z",
     "iopub.status.busy": "2022-04-23T11:57:02.296891Z",
     "iopub.status.idle": "2022-04-23T11:57:35.163391Z",
     "shell.execute_reply": "2022-04-23T11:57:35.161522Z"
    },
    "papermill": {
     "duration": 32.89051,
     "end_time": "2022-04-23T11:57:35.166151",
     "exception": false,
     "start_time": "2022-04-23T11:57:02.275641",
     "status": "completed"
    },
    "tags": []
   },
   "outputs": [
    {
     "name": "stderr",
     "output_type": "stream",
     "text": [
      "\u001b[1mRows: \u001b[22m\u001b[34m284042\u001b[39m \u001b[1mColumns: \u001b[22m\u001b[34m13\u001b[39m\n",
      "\u001b[36m──\u001b[39m \u001b[1mColumn specification\u001b[22m \u001b[36m────────────────────────────────────────────────────────\u001b[39m\n",
      "\u001b[1mDelimiter:\u001b[22m \",\"\n",
      "\u001b[31mchr\u001b[39m  (7): ride_id, rideable_type, start_station_name, start_station_id, end_...\n",
      "\u001b[32mdbl\u001b[39m  (4): start_lat, start_lng, end_lat, end_lng\n",
      "\u001b[34mdttm\u001b[39m (2): started_at, ended_at\n",
      "\n",
      "\u001b[36mℹ\u001b[39m Use `spec()` to retrieve the full column specification for this data.\n",
      "\u001b[36mℹ\u001b[39m Specify the column types or set `show_col_types = FALSE` to quiet this message.\n",
      "\u001b[1mRows: \u001b[22m\u001b[34m115609\u001b[39m \u001b[1mColumns: \u001b[22m\u001b[34m13\u001b[39m\n",
      "\u001b[36m──\u001b[39m \u001b[1mColumn specification\u001b[22m \u001b[36m────────────────────────────────────────────────────────\u001b[39m\n",
      "\u001b[1mDelimiter:\u001b[22m \",\"\n",
      "\u001b[31mchr\u001b[39m  (7): ride_id, rideable_type, start_station_name, start_station_id, end_...\n",
      "\u001b[32mdbl\u001b[39m  (4): start_lat, start_lng, end_lat, end_lng\n",
      "\u001b[34mdttm\u001b[39m (2): started_at, ended_at\n",
      "\n",
      "\u001b[36mℹ\u001b[39m Use `spec()` to retrieve the full column specification for this data.\n",
      "\u001b[36mℹ\u001b[39m Specify the column types or set `show_col_types = FALSE` to quiet this message.\n",
      "\u001b[1mRows: \u001b[22m\u001b[34m103770\u001b[39m \u001b[1mColumns: \u001b[22m\u001b[34m13\u001b[39m\n",
      "\u001b[36m──\u001b[39m \u001b[1mColumn specification\u001b[22m \u001b[36m────────────────────────────────────────────────────────\u001b[39m\n",
      "\u001b[1mDelimiter:\u001b[22m \",\"\n",
      "\u001b[31mchr\u001b[39m  (7): ride_id, rideable_type, start_station_name, start_station_id, end_...\n",
      "\u001b[32mdbl\u001b[39m  (4): start_lat, start_lng, end_lat, end_lng\n",
      "\u001b[34mdttm\u001b[39m (2): started_at, ended_at\n",
      "\n",
      "\u001b[36mℹ\u001b[39m Use `spec()` to retrieve the full column specification for this data.\n",
      "\u001b[36mℹ\u001b[39m Specify the column types or set `show_col_types = FALSE` to quiet this message.\n",
      "\u001b[1mRows: \u001b[22m\u001b[34m247540\u001b[39m \u001b[1mColumns: \u001b[22m\u001b[34m13\u001b[39m\n",
      "\u001b[36m──\u001b[39m \u001b[1mColumn specification\u001b[22m \u001b[36m────────────────────────────────────────────────────────\u001b[39m\n",
      "\u001b[1mDelimiter:\u001b[22m \",\"\n",
      "\u001b[31mchr\u001b[39m  (7): ride_id, rideable_type, start_station_name, start_station_id, end_...\n",
      "\u001b[32mdbl\u001b[39m  (4): start_lat, start_lng, end_lat, end_lng\n",
      "\u001b[34mdttm\u001b[39m (2): started_at, ended_at\n",
      "\n",
      "\u001b[36mℹ\u001b[39m Use `spec()` to retrieve the full column specification for this data.\n",
      "\u001b[36mℹ\u001b[39m Specify the column types or set `show_col_types = FALSE` to quiet this message.\n",
      "\u001b[1mRows: \u001b[22m\u001b[34m359978\u001b[39m \u001b[1mColumns: \u001b[22m\u001b[34m13\u001b[39m\n",
      "\u001b[36m──\u001b[39m \u001b[1mColumn specification\u001b[22m \u001b[36m────────────────────────────────────────────────────────\u001b[39m\n",
      "\u001b[1mDelimiter:\u001b[22m \",\"\n",
      "\u001b[31mchr\u001b[39m  (7): ride_id, rideable_type, start_station_name, start_station_id, end_...\n",
      "\u001b[32mdbl\u001b[39m  (4): start_lat, start_lng, end_lat, end_lng\n",
      "\u001b[34mdttm\u001b[39m (2): started_at, ended_at\n",
      "\n",
      "\u001b[36mℹ\u001b[39m Use `spec()` to retrieve the full column specification for this data.\n",
      "\u001b[36mℹ\u001b[39m Specify the column types or set `show_col_types = FALSE` to quiet this message.\n",
      "\u001b[1mRows: \u001b[22m\u001b[34m631226\u001b[39m \u001b[1mColumns: \u001b[22m\u001b[34m13\u001b[39m\n",
      "\u001b[36m──\u001b[39m \u001b[1mColumn specification\u001b[22m \u001b[36m────────────────────────────────────────────────────────\u001b[39m\n",
      "\u001b[1mDelimiter:\u001b[22m \",\"\n",
      "\u001b[31mchr\u001b[39m  (7): ride_id, rideable_type, start_station_name, start_station_id, end_...\n",
      "\u001b[32mdbl\u001b[39m  (4): start_lat, start_lng, end_lat, end_lng\n",
      "\u001b[34mdttm\u001b[39m (2): started_at, ended_at\n",
      "\n",
      "\u001b[36mℹ\u001b[39m Use `spec()` to retrieve the full column specification for this data.\n",
      "\u001b[36mℹ\u001b[39m Specify the column types or set `show_col_types = FALSE` to quiet this message.\n",
      "\u001b[1mRows: \u001b[22m\u001b[34m756147\u001b[39m \u001b[1mColumns: \u001b[22m\u001b[34m13\u001b[39m\n",
      "\u001b[36m──\u001b[39m \u001b[1mColumn specification\u001b[22m \u001b[36m────────────────────────────────────────────────────────\u001b[39m\n",
      "\u001b[1mDelimiter:\u001b[22m \",\"\n",
      "\u001b[31mchr\u001b[39m  (7): ride_id, rideable_type, start_station_name, start_station_id, end_...\n",
      "\u001b[32mdbl\u001b[39m  (4): start_lat, start_lng, end_lat, end_lng\n",
      "\u001b[34mdttm\u001b[39m (2): started_at, ended_at\n",
      "\n",
      "\u001b[36mℹ\u001b[39m Use `spec()` to retrieve the full column specification for this data.\n",
      "\u001b[36mℹ\u001b[39m Specify the column types or set `show_col_types = FALSE` to quiet this message.\n",
      "\u001b[1mRows: \u001b[22m\u001b[34m804352\u001b[39m \u001b[1mColumns: \u001b[22m\u001b[34m13\u001b[39m\n",
      "\u001b[36m──\u001b[39m \u001b[1mColumn specification\u001b[22m \u001b[36m────────────────────────────────────────────────────────\u001b[39m\n",
      "\u001b[1mDelimiter:\u001b[22m \",\"\n",
      "\u001b[31mchr\u001b[39m  (7): ride_id, rideable_type, start_station_name, start_station_id, end_...\n",
      "\u001b[32mdbl\u001b[39m  (4): start_lat, start_lng, end_lat, end_lng\n",
      "\u001b[34mdttm\u001b[39m (2): started_at, ended_at\n",
      "\n",
      "\u001b[36mℹ\u001b[39m Use `spec()` to retrieve the full column specification for this data.\n",
      "\u001b[36mℹ\u001b[39m Specify the column types or set `show_col_types = FALSE` to quiet this message.\n",
      "\u001b[1mRows: \u001b[22m\u001b[34m822410\u001b[39m \u001b[1mColumns: \u001b[22m\u001b[34m13\u001b[39m\n",
      "\u001b[36m──\u001b[39m \u001b[1mColumn specification\u001b[22m \u001b[36m────────────────────────────────────────────────────────\u001b[39m\n",
      "\u001b[1mDelimiter:\u001b[22m \",\"\n",
      "\u001b[31mchr\u001b[39m  (7): ride_id, rideable_type, start_station_name, start_station_id, end_...\n",
      "\u001b[32mdbl\u001b[39m  (4): start_lat, start_lng, end_lat, end_lng\n",
      "\u001b[34mdttm\u001b[39m (2): started_at, ended_at\n",
      "\n",
      "\u001b[36mℹ\u001b[39m Use `spec()` to retrieve the full column specification for this data.\n",
      "\u001b[36mℹ\u001b[39m Specify the column types or set `show_col_types = FALSE` to quiet this message.\n",
      "\u001b[1mRows: \u001b[22m\u001b[34m729595\u001b[39m \u001b[1mColumns: \u001b[22m\u001b[34m13\u001b[39m\n",
      "\u001b[36m──\u001b[39m \u001b[1mColumn specification\u001b[22m \u001b[36m────────────────────────────────────────────────────────\u001b[39m\n",
      "\u001b[1mDelimiter:\u001b[22m \",\"\n",
      "\u001b[31mchr\u001b[39m  (7): ride_id, rideable_type, start_station_name, start_station_id, end_...\n",
      "\u001b[32mdbl\u001b[39m  (4): start_lat, start_lng, end_lat, end_lng\n",
      "\u001b[34mdttm\u001b[39m (2): started_at, ended_at\n",
      "\n",
      "\u001b[36mℹ\u001b[39m Use `spec()` to retrieve the full column specification for this data.\n",
      "\u001b[36mℹ\u001b[39m Specify the column types or set `show_col_types = FALSE` to quiet this message.\n",
      "\u001b[1mRows: \u001b[22m\u001b[34m531633\u001b[39m \u001b[1mColumns: \u001b[22m\u001b[34m13\u001b[39m\n",
      "\u001b[36m──\u001b[39m \u001b[1mColumn specification\u001b[22m \u001b[36m────────────────────────────────────────────────────────\u001b[39m\n",
      "\u001b[1mDelimiter:\u001b[22m \",\"\n",
      "\u001b[31mchr\u001b[39m  (7): ride_id, rideable_type, start_station_name, start_station_id, end_...\n",
      "\u001b[32mdbl\u001b[39m  (4): start_lat, start_lng, end_lat, end_lng\n",
      "\u001b[34mdttm\u001b[39m (2): started_at, ended_at\n",
      "\n",
      "\u001b[36mℹ\u001b[39m Use `spec()` to retrieve the full column specification for this data.\n",
      "\u001b[36mℹ\u001b[39m Specify the column types or set `show_col_types = FALSE` to quiet this message.\n",
      "\u001b[1mRows: \u001b[22m\u001b[34m337230\u001b[39m \u001b[1mColumns: \u001b[22m\u001b[34m13\u001b[39m\n",
      "\u001b[36m──\u001b[39m \u001b[1mColumn specification\u001b[22m \u001b[36m────────────────────────────────────────────────────────\u001b[39m\n",
      "\u001b[1mDelimiter:\u001b[22m \",\"\n",
      "\u001b[31mchr\u001b[39m  (7): ride_id, rideable_type, start_station_name, start_station_id, end_...\n",
      "\u001b[32mdbl\u001b[39m  (4): start_lat, start_lng, end_lat, end_lng\n",
      "\u001b[34mdttm\u001b[39m (2): started_at, ended_at\n",
      "\n",
      "\u001b[36mℹ\u001b[39m Use `spec()` to retrieve the full column specification for this data.\n",
      "\u001b[36mℹ\u001b[39m Specify the column types or set `show_col_types = FALSE` to quiet this message.\n"
     ]
    }
   ],
   "source": [
    "df_march_2022<- read_csv(\"../input/202103-202203-cyclistic-dataset/202203-divvy-tripdata.csv\" )\n",
    "df_february_2022<- read_csv(\"../input/202103-202203-cyclistic-dataset/202202-divvy-tripdata.csv\")\n",
    "df_january_2022 <- read_csv(\"../input/202103-202203-cyclistic-dataset/202201-divvy-tripdata.csv\")\n",
    "df_december_2021<- read_csv(\"../input/202103-202203-cyclistic-dataset/202112-divvy-tripdata.csv\")\n",
    "df_november_2021<- read_csv(\"../input/202103-202203-cyclistic-dataset/202111-divvy-tripdata.csv\")\n",
    "df_october_2021 <- read_csv(\"../input/202103-202203-cyclistic-dataset/202110-divvy-tripdata.csv\")\n",
    "df_september_2021 <- read_csv(\"../input/202103-202203-cyclistic-dataset/202109-divvy-tripdata.csv\")\n",
    "df_august_2021 <- read_csv(\"../input/202103-202203-cyclistic-dataset/202108-divvy-tripdata.csv\")\n",
    "df_july_2021 <- read_csv(\"../input/202103-202203-cyclistic-dataset/202107-divvy-tripdata.csv\")\n",
    "df_june_2021<- read_csv(\"../input/202103-202203-cyclistic-dataset/202106-divvy-tripdata.csv\")\n",
    "df_may_2021 <- read_csv(\"../input/202103-202203-cyclistic-dataset/202105-divvy-tripdata.csv\")\n",
    "df_april_2021<- read_csv(\"../input/202103-202203-cyclistic-dataset/202104-divvy-tripdata.csv\")\n"
   ]
  },
  {
   "cell_type": "markdown",
   "id": "745595b8",
   "metadata": {
    "papermill": {
     "duration": 0.021837,
     "end_time": "2022-04-23T11:57:35.211019",
     "exception": false,
     "start_time": "2022-04-23T11:57:35.189182",
     "status": "completed"
    },
    "tags": []
   },
   "source": [
    "****Checking each dataframe to look for inconsistencies in col datatype****"
   ]
  },
  {
   "cell_type": "code",
   "execution_count": 4,
   "id": "dd569aae",
   "metadata": {
    "execution": {
     "iopub.execute_input": "2022-04-23T11:57:35.292824Z",
     "iopub.status.busy": "2022-04-23T11:57:35.291219Z",
     "iopub.status.idle": "2022-04-23T11:57:35.477833Z",
     "shell.execute_reply": "2022-04-23T11:57:35.475820Z"
    },
    "papermill": {
     "duration": 0.246799,
     "end_time": "2022-04-23T11:57:35.480597",
     "exception": false,
     "start_time": "2022-04-23T11:57:35.233798",
     "status": "completed"
    },
    "tags": []
   },
   "outputs": [
    {
     "name": "stdout",
     "output_type": "stream",
     "text": [
      "Rows: 284,042\n",
      "Columns: 13\n",
      "$ ride_id            \u001b[3m\u001b[90m<chr>\u001b[39m\u001b[23m \"47EC0A7F82E65D52\", \"8494861979B0F477\", \"EFE527AF80…\n",
      "$ rideable_type      \u001b[3m\u001b[90m<chr>\u001b[39m\u001b[23m \"classic_bike\", \"electric_bike\", \"classic_bike\", \"c…\n",
      "$ started_at         \u001b[3m\u001b[90m<dttm>\u001b[39m\u001b[23m 2022-03-21 13:45:01, 2022-03-16 09:37:16, 2022-03-…\n",
      "$ ended_at           \u001b[3m\u001b[90m<dttm>\u001b[39m\u001b[23m 2022-03-21 13:51:18, 2022-03-16 09:43:34, 2022-03-…\n",
      "$ start_station_name \u001b[3m\u001b[90m<chr>\u001b[39m\u001b[23m \"Wabash Ave & Wacker Pl\", \"Michigan Ave & Oak St\", …\n",
      "$ start_station_id   \u001b[3m\u001b[90m<chr>\u001b[39m\u001b[23m \"TA1307000131\", \"13042\", \"13109\", \"TA1307000131\", \"…\n",
      "$ end_station_name   \u001b[3m\u001b[90m<chr>\u001b[39m\u001b[23m \"Kingsbury St & Kinzie St\", \"Orleans St & Chestnut …\n",
      "$ end_station_id     \u001b[3m\u001b[90m<chr>\u001b[39m\u001b[23m \"KA1503000043\", \"620\", \"15578\", \"TA1305000025\", \"13…\n",
      "$ start_lat          \u001b[3m\u001b[90m<dbl>\u001b[39m\u001b[23m 41.88688, 41.90100, 41.97835, 41.88688, 41.91172, 4…\n",
      "$ start_lng          \u001b[3m\u001b[90m<dbl>\u001b[39m\u001b[23m -87.62603, -87.62375, -87.65975, -87.62603, -87.626…\n",
      "$ end_lat            \u001b[3m\u001b[90m<dbl>\u001b[39m\u001b[23m 41.88918, 41.89820, 41.98404, 41.87771, 41.87794, 4…\n",
      "$ end_lng            \u001b[3m\u001b[90m<dbl>\u001b[39m\u001b[23m -87.63851, -87.63754, -87.66027, -87.63532, -87.662…\n",
      "$ member_casual      \u001b[3m\u001b[90m<chr>\u001b[39m\u001b[23m \"member\", \"member\", \"member\", \"member\", \"member\", \"…\n",
      "Rows: 115,609\n",
      "Columns: 13\n",
      "$ ride_id            \u001b[3m\u001b[90m<chr>\u001b[39m\u001b[23m \"E1E065E7ED285C02\", \"1602DCDC5B30FFE3\", \"BE7DD2AF4B…\n",
      "$ rideable_type      \u001b[3m\u001b[90m<chr>\u001b[39m\u001b[23m \"classic_bike\", \"classic_bike\", \"classic_bike\", \"cl…\n",
      "$ started_at         \u001b[3m\u001b[90m<dttm>\u001b[39m\u001b[23m 2022-02-19 18:08:41, 2022-02-20 17:41:30, 2022-02-…\n",
      "$ ended_at           \u001b[3m\u001b[90m<dttm>\u001b[39m\u001b[23m 2022-02-19 18:23:56, 2022-02-20 17:45:56, 2022-02-…\n",
      "$ start_station_name \u001b[3m\u001b[90m<chr>\u001b[39m\u001b[23m \"State St & Randolph St\", \"Halsted St & Wrightwood …\n",
      "$ start_station_id   \u001b[3m\u001b[90m<chr>\u001b[39m\u001b[23m \"TA1305000029\", \"TA1309000061\", \"TA1305000029\", \"13…\n",
      "$ end_station_name   \u001b[3m\u001b[90m<chr>\u001b[39m\u001b[23m \"Clark St & Lincoln Ave\", \"Southport Ave & Wrightwo…\n",
      "$ end_station_id     \u001b[3m\u001b[90m<chr>\u001b[39m\u001b[23m \"13179\", \"TA1307000113\", \"13011\", \"13323\", \"TA13070…\n",
      "$ start_lat          \u001b[3m\u001b[90m<dbl>\u001b[39m\u001b[23m 41.88462, 41.92914, 41.88462, 41.94815, 41.88462, 4…\n",
      "$ start_lng          \u001b[3m\u001b[90m<dbl>\u001b[39m\u001b[23m -87.62783, -87.64908, -87.62783, -87.66394, -87.627…\n",
      "$ end_lat            \u001b[3m\u001b[90m<dbl>\u001b[39m\u001b[23m 41.91569, 41.92877, 41.87926, 41.95283, 41.88584, 4…\n",
      "$ end_lng            \u001b[3m\u001b[90m<dbl>\u001b[39m\u001b[23m -87.63460, -87.66391, -87.63990, -87.64999, -87.635…\n",
      "$ member_casual      \u001b[3m\u001b[90m<chr>\u001b[39m\u001b[23m \"member\", \"member\", \"member\", \"member\", \"member\", \"…\n",
      "Rows: 103,770\n",
      "Columns: 13\n",
      "$ ride_id            \u001b[3m\u001b[90m<chr>\u001b[39m\u001b[23m \"C2F7DD78E82EC875\", \"A6CF8980A652D272\", \"BD0F91DFF7…\n",
      "$ rideable_type      \u001b[3m\u001b[90m<chr>\u001b[39m\u001b[23m \"electric_bike\", \"electric_bike\", \"classic_bike\", \"…\n",
      "$ started_at         \u001b[3m\u001b[90m<dttm>\u001b[39m\u001b[23m 2022-01-13 11:59:47, 2022-01-10 08:41:56, 2022-01-…\n",
      "$ ended_at           \u001b[3m\u001b[90m<dttm>\u001b[39m\u001b[23m 2022-01-13 12:02:44, 2022-01-10 08:46:17, 2022-01-…\n",
      "$ start_station_name \u001b[3m\u001b[90m<chr>\u001b[39m\u001b[23m \"Glenwood Ave & Touhy Ave\", \"Glenwood Ave & Touhy A…\n",
      "$ start_station_id   \u001b[3m\u001b[90m<chr>\u001b[39m\u001b[23m \"525\", \"525\", \"TA1306000016\", \"KA1504000151\", \"TA13…\n",
      "$ end_station_name   \u001b[3m\u001b[90m<chr>\u001b[39m\u001b[23m \"Clark St & Touhy Ave\", \"Clark St & Touhy Ave\", \"Gr…\n",
      "$ end_station_id     \u001b[3m\u001b[90m<chr>\u001b[39m\u001b[23m \"RP-007\", \"RP-007\", \"TA1307000001\", \"TA1309000021\",…\n",
      "$ start_lat          \u001b[3m\u001b[90m<dbl>\u001b[39m\u001b[23m 42.01280, 42.01276, 41.92560, 41.98359, 41.87785, 4…\n",
      "$ start_lng          \u001b[3m\u001b[90m<dbl>\u001b[39m\u001b[23m -87.66591, -87.66597, -87.65371, -87.66915, -87.624…\n",
      "$ end_lat            \u001b[3m\u001b[90m<dbl>\u001b[39m\u001b[23m 42.01256, 42.01256, 41.92533, 41.96151, 41.88462, 4…\n",
      "$ end_lng            \u001b[3m\u001b[90m<dbl>\u001b[39m\u001b[23m -87.67437, -87.67437, -87.66580, -87.67139, -87.627…\n",
      "$ member_casual      \u001b[3m\u001b[90m<chr>\u001b[39m\u001b[23m \"casual\", \"casual\", \"member\", \"casual\", \"member\", \"…\n",
      "Rows: 247,540\n",
      "Columns: 13\n",
      "$ ride_id            \u001b[3m\u001b[90m<chr>\u001b[39m\u001b[23m \"46F8167220E4431F\", \"73A77762838B32FD\", \"4CF4245205…\n",
      "$ rideable_type      \u001b[3m\u001b[90m<chr>\u001b[39m\u001b[23m \"electric_bike\", \"electric_bike\", \"electric_bike\", …\n",
      "$ started_at         \u001b[3m\u001b[90m<dttm>\u001b[39m\u001b[23m 2021-12-07 15:06:07, 2021-12-11 03:43:29, 2021-12-…\n",
      "$ ended_at           \u001b[3m\u001b[90m<dttm>\u001b[39m\u001b[23m 2021-12-07 15:13:42, 2021-12-11 04:10:23, 2021-12-…\n",
      "$ start_station_name \u001b[3m\u001b[90m<chr>\u001b[39m\u001b[23m \"Laflin St & Cullerton St\", \"LaSalle Dr & Huron St\"…\n",
      "$ start_station_id   \u001b[3m\u001b[90m<chr>\u001b[39m\u001b[23m \"13307\", \"KP1705001026\", \"KA1504000117\", \"KA1504000…\n",
      "$ end_station_name   \u001b[3m\u001b[90m<chr>\u001b[39m\u001b[23m \"Morgan St & Polk St\", \"Clarendon Ave & Leland Ave\"…\n",
      "$ end_station_id     \u001b[3m\u001b[90m<chr>\u001b[39m\u001b[23m \"TA1307000130\", \"TA1307000119\", \"13137\", \"KP1705001…\n",
      "$ start_lat          \u001b[3m\u001b[90m<dbl>\u001b[39m\u001b[23m 41.85483, 41.89441, 41.89936, 41.89939, 41.89558, 4…\n",
      "$ start_lng          \u001b[3m\u001b[90m<dbl>\u001b[39m\u001b[23m -87.66366, -87.63233, -87.64852, -87.64854, -87.682…\n",
      "$ end_lat            \u001b[3m\u001b[90m<dbl>\u001b[39m\u001b[23m 41.87197, 41.96797, 41.93758, 41.89488, 41.93125, 4…\n",
      "$ end_lng            \u001b[3m\u001b[90m<dbl>\u001b[39m\u001b[23m -87.65097, -87.65000, -87.64410, -87.63233, -87.644…\n",
      "$ member_casual      \u001b[3m\u001b[90m<chr>\u001b[39m\u001b[23m \"member\", \"casual\", \"member\", \"member\", \"member\", \"…\n",
      "Rows: 359,978\n",
      "Columns: 13\n",
      "$ ride_id            \u001b[3m\u001b[90m<chr>\u001b[39m\u001b[23m \"7C00A93E10556E47\", \"90854840DFD508BA\", \"0A7D10CDD1…\n",
      "$ rideable_type      \u001b[3m\u001b[90m<chr>\u001b[39m\u001b[23m \"electric_bike\", \"electric_bike\", \"electric_bike\", …\n",
      "$ started_at         \u001b[3m\u001b[90m<dttm>\u001b[39m\u001b[23m 2021-11-27 13:27:38, 2021-11-27 13:38:25, 2021-11-…\n",
      "$ ended_at           \u001b[3m\u001b[90m<dttm>\u001b[39m\u001b[23m 2021-11-27 13:46:38, 2021-11-27 13:56:10, 2021-11-…\n",
      "$ start_station_name \u001b[3m\u001b[90m<chr>\u001b[39m\u001b[23m NA, NA, NA, NA, NA, \"Michigan Ave & Oak St\", NA, NA…\n",
      "$ start_station_id   \u001b[3m\u001b[90m<chr>\u001b[39m\u001b[23m NA, NA, NA, NA, NA, \"13042\", NA, NA, NA, NA, NA, NA…\n",
      "$ end_station_name   \u001b[3m\u001b[90m<chr>\u001b[39m\u001b[23m NA, NA, NA, NA, NA, NA, NA, NA, NA, NA, NA, NA, NA,…\n",
      "$ end_station_id     \u001b[3m\u001b[90m<chr>\u001b[39m\u001b[23m NA, NA, NA, NA, NA, NA, NA, NA, NA, NA, NA, NA, NA,…\n",
      "$ start_lat          \u001b[3m\u001b[90m<dbl>\u001b[39m\u001b[23m 41.93000, 41.96000, 41.96000, 41.94000, 41.90000, 4…\n",
      "$ start_lng          \u001b[3m\u001b[90m<dbl>\u001b[39m\u001b[23m -87.72000, -87.70000, -87.70000, -87.79000, -87.630…\n",
      "$ end_lat            \u001b[3m\u001b[90m<dbl>\u001b[39m\u001b[23m 41.96, 41.92, 41.96, 41.93, 41.88, 41.90, 41.80, 41…\n",
      "$ end_lng            \u001b[3m\u001b[90m<dbl>\u001b[39m\u001b[23m -87.73, -87.70, -87.70, -87.79, -87.62, -87.63, -87…\n",
      "$ member_casual      \u001b[3m\u001b[90m<chr>\u001b[39m\u001b[23m \"casual\", \"casual\", \"casual\", \"casual\", \"casual\", \"…\n",
      "Rows: 631,226\n",
      "Columns: 13\n",
      "$ ride_id            \u001b[3m\u001b[90m<chr>\u001b[39m\u001b[23m \"620BC6107255BF4C\", \"4471C70731AB2E45\", \"26CA69D43D…\n",
      "$ rideable_type      \u001b[3m\u001b[90m<chr>\u001b[39m\u001b[23m \"electric_bike\", \"electric_bike\", \"electric_bike\", …\n",
      "$ started_at         \u001b[3m\u001b[90m<dttm>\u001b[39m\u001b[23m 2021-10-22 12:46:42, 2021-10-21 09:12:37, 2021-10-…\n",
      "$ ended_at           \u001b[3m\u001b[90m<dttm>\u001b[39m\u001b[23m 2021-10-22 12:49:50, 2021-10-21 09:14:14, 2021-10-…\n",
      "$ start_station_name \u001b[3m\u001b[90m<chr>\u001b[39m\u001b[23m \"Kingsbury St & Kinzie St\", NA, NA, NA, NA, NA, NA,…\n",
      "$ start_station_id   \u001b[3m\u001b[90m<chr>\u001b[39m\u001b[23m \"KA1503000043\", NA, NA, NA, NA, NA, NA, NA, NA, NA,…\n",
      "$ end_station_name   \u001b[3m\u001b[90m<chr>\u001b[39m\u001b[23m NA, NA, NA, NA, NA, NA, NA, NA, NA, NA, NA, NA, NA,…\n",
      "$ end_station_id     \u001b[3m\u001b[90m<chr>\u001b[39m\u001b[23m NA, NA, NA, NA, NA, NA, NA, NA, NA, NA, NA, NA, NA,…\n",
      "$ start_lat          \u001b[3m\u001b[90m<dbl>\u001b[39m\u001b[23m 41.88919, 41.93000, 41.92000, 41.92000, 41.89000, 4…\n",
      "$ start_lng          \u001b[3m\u001b[90m<dbl>\u001b[39m\u001b[23m -87.63850, -87.70000, -87.70000, -87.69000, -87.710…\n",
      "$ end_lat            \u001b[3m\u001b[90m<dbl>\u001b[39m\u001b[23m 41.89000, 41.93000, 41.94000, 41.92000, 41.89000, 4…\n",
      "$ end_lng            \u001b[3m\u001b[90m<dbl>\u001b[39m\u001b[23m -87.63000, -87.71000, -87.72000, -87.69000, -87.690…\n",
      "$ member_casual      \u001b[3m\u001b[90m<chr>\u001b[39m\u001b[23m \"member\", \"member\", \"member\", \"member\", \"member\", \"…\n",
      "Rows: 756,147\n",
      "Columns: 13\n",
      "$ ride_id            \u001b[3m\u001b[90m<chr>\u001b[39m\u001b[23m \"9DC7B962304CBFD8\", \"F930E2C6872D6B32\", \"6EF7213790…\n",
      "$ rideable_type      \u001b[3m\u001b[90m<chr>\u001b[39m\u001b[23m \"electric_bike\", \"electric_bike\", \"electric_bike\", …\n",
      "$ started_at         \u001b[3m\u001b[90m<dttm>\u001b[39m\u001b[23m 2021-09-28 16:07:10, 2021-09-28 14:24:51, 2021-09-…\n",
      "$ ended_at           \u001b[3m\u001b[90m<dttm>\u001b[39m\u001b[23m 2021-09-28 16:09:54, 2021-09-28 14:40:05, 2021-09-…\n",
      "$ start_station_name \u001b[3m\u001b[90m<chr>\u001b[39m\u001b[23m NA, NA, NA, NA, NA, NA, NA, NA, NA, NA, \"Clark St &…\n",
      "$ start_station_id   \u001b[3m\u001b[90m<chr>\u001b[39m\u001b[23m NA, NA, NA, NA, NA, NA, NA, NA, NA, NA, \"TA13070001…\n",
      "$ end_station_name   \u001b[3m\u001b[90m<chr>\u001b[39m\u001b[23m NA, NA, NA, NA, NA, NA, NA, NA, NA, NA, NA, NA, NA,…\n",
      "$ end_station_id     \u001b[3m\u001b[90m<chr>\u001b[39m\u001b[23m NA, NA, NA, NA, NA, NA, NA, NA, NA, NA, NA, NA, NA,…\n",
      "$ start_lat          \u001b[3m\u001b[90m<dbl>\u001b[39m\u001b[23m 41.89000, 41.94000, 41.81000, 41.80000, 41.88000, 4…\n",
      "$ start_lng          \u001b[3m\u001b[90m<dbl>\u001b[39m\u001b[23m -87.68000, -87.64000, -87.72000, -87.72000, -87.740…\n",
      "$ end_lat            \u001b[3m\u001b[90m<dbl>\u001b[39m\u001b[23m 41.89, 41.98, 41.80, 41.81, 41.88, 41.88, 41.74, 41…\n",
      "$ end_lng            \u001b[3m\u001b[90m<dbl>\u001b[39m\u001b[23m -87.67, -87.67, -87.72, -87.72, -87.71, -87.74, -87…\n",
      "$ member_casual      \u001b[3m\u001b[90m<chr>\u001b[39m\u001b[23m \"casual\", \"casual\", \"casual\", \"casual\", \"casual\", \"…\n",
      "Rows: 804,352\n",
      "Columns: 13\n",
      "$ ride_id            \u001b[3m\u001b[90m<chr>\u001b[39m\u001b[23m \"99103BB87CC6C1BB\", \"EAFCCCFB0A3FC5A1\", \"9EF4F46C57…\n",
      "$ rideable_type      \u001b[3m\u001b[90m<chr>\u001b[39m\u001b[23m \"electric_bike\", \"electric_bike\", \"electric_bike\", …\n",
      "$ started_at         \u001b[3m\u001b[90m<dttm>\u001b[39m\u001b[23m 2021-08-10 17:15:49, 2021-08-10 17:23:14, 2021-08-…\n",
      "$ ended_at           \u001b[3m\u001b[90m<dttm>\u001b[39m\u001b[23m 2021-08-10 17:22:44, 2021-08-10 17:39:24, 2021-08-…\n",
      "$ start_station_name \u001b[3m\u001b[90m<chr>\u001b[39m\u001b[23m NA, NA, NA, NA, NA, NA, NA, NA, NA, NA, NA, NA, NA,…\n",
      "$ start_station_id   \u001b[3m\u001b[90m<chr>\u001b[39m\u001b[23m NA, NA, NA, NA, NA, NA, NA, NA, NA, NA, NA, NA, NA,…\n",
      "$ end_station_name   \u001b[3m\u001b[90m<chr>\u001b[39m\u001b[23m NA, NA, NA, NA, NA, NA, NA, \"Clark St & Grace St\", …\n",
      "$ end_station_id     \u001b[3m\u001b[90m<chr>\u001b[39m\u001b[23m NA, NA, NA, NA, NA, NA, NA, \"TA1307000127\", NA, NA,…\n",
      "$ start_lat          \u001b[3m\u001b[90m<dbl>\u001b[39m\u001b[23m 41.77000, 41.77000, 41.95000, 41.97000, 41.79000, 4…\n",
      "$ start_lng          \u001b[3m\u001b[90m<dbl>\u001b[39m\u001b[23m -87.68000, -87.68000, -87.65000, -87.67000, -87.600…\n",
      "$ end_lat            \u001b[3m\u001b[90m<dbl>\u001b[39m\u001b[23m 41.77000, 41.77000, 41.97000, 41.95000, 41.77000, 4…\n",
      "$ end_lng            \u001b[3m\u001b[90m<dbl>\u001b[39m\u001b[23m -87.68000, -87.63000, -87.66000, -87.65000, -87.620…\n",
      "$ member_casual      \u001b[3m\u001b[90m<chr>\u001b[39m\u001b[23m \"member\", \"member\", \"member\", \"member\", \"member\", \"…\n",
      "Rows: 822,410\n",
      "Columns: 13\n",
      "$ ride_id            \u001b[3m\u001b[90m<chr>\u001b[39m\u001b[23m \"0A1B623926EF4E16\", \"B2D5583A5A5E76EE\", \"6F264597DD…\n",
      "$ rideable_type      \u001b[3m\u001b[90m<chr>\u001b[39m\u001b[23m \"docked_bike\", \"classic_bike\", \"classic_bike\", \"cla…\n",
      "$ started_at         \u001b[3m\u001b[90m<dttm>\u001b[39m\u001b[23m 2021-07-02 14:44:36, 2021-07-07 16:57:42, 2021-07-…\n",
      "$ ended_at           \u001b[3m\u001b[90m<dttm>\u001b[39m\u001b[23m 2021-07-02 15:19:58, 2021-07-07 17:16:09, 2021-07-…\n",
      "$ start_station_name \u001b[3m\u001b[90m<chr>\u001b[39m\u001b[23m \"Michigan Ave & Washington St\", \"California Ave & C…\n",
      "$ start_station_id   \u001b[3m\u001b[90m<chr>\u001b[39m\u001b[23m \"13001\", \"17660\", \"SL-012\", \"17660\", \"17660\", \"1766…\n",
      "$ end_station_name   \u001b[3m\u001b[90m<chr>\u001b[39m\u001b[23m \"Halsted St & North Branch St\", \"Wood St & Hubbard …\n",
      "$ end_station_id     \u001b[3m\u001b[90m<chr>\u001b[39m\u001b[23m \"KA1504000117\", \"13432\", \"KA1503000044\", \"13196\", \"…\n",
      "$ start_lat          \u001b[3m\u001b[90m<dbl>\u001b[39m\u001b[23m 41.88398, 41.90036, 41.86038, 41.90036, 41.90035, 4…\n",
      "$ start_lng          \u001b[3m\u001b[90m<dbl>\u001b[39m\u001b[23m -87.62468, -87.69670, -87.62581, -87.69670, -87.696…\n",
      "$ end_lat            \u001b[3m\u001b[90m<dbl>\u001b[39m\u001b[23m 41.89937, 41.88990, 41.89017, 41.89456, 41.88659, 4…\n",
      "$ end_lng            \u001b[3m\u001b[90m<dbl>\u001b[39m\u001b[23m -87.64848, -87.67147, -87.62619, -87.65345, -87.658…\n",
      "$ member_casual      \u001b[3m\u001b[90m<chr>\u001b[39m\u001b[23m \"casual\", \"casual\", \"member\", \"member\", \"casual\", \"…\n",
      "Rows: 729,595\n",
      "Columns: 13\n",
      "$ ride_id            \u001b[3m\u001b[90m<chr>\u001b[39m\u001b[23m \"99FEC93BA843FB20\", \"06048DCFC8520CAF\", \"9598066F68…\n",
      "$ rideable_type      \u001b[3m\u001b[90m<chr>\u001b[39m\u001b[23m \"electric_bike\", \"electric_bike\", \"electric_bike\", …\n",
      "$ started_at         \u001b[3m\u001b[90m<dttm>\u001b[39m\u001b[23m 2021-06-13 14:31:28, 2021-06-04 11:18:02, 2021-06-…\n",
      "$ ended_at           \u001b[3m\u001b[90m<dttm>\u001b[39m\u001b[23m 2021-06-13 14:34:11, 2021-06-04 11:24:19, 2021-06-…\n",
      "$ start_station_name \u001b[3m\u001b[90m<chr>\u001b[39m\u001b[23m NA, NA, NA, NA, NA, NA, NA, NA, NA, NA, NA, NA, NA,…\n",
      "$ start_station_id   \u001b[3m\u001b[90m<chr>\u001b[39m\u001b[23m NA, NA, NA, NA, NA, NA, NA, NA, NA, NA, NA, NA, NA,…\n",
      "$ end_station_name   \u001b[3m\u001b[90m<chr>\u001b[39m\u001b[23m NA, NA, NA, NA, NA, NA, NA, NA, NA, \"Michigan Ave &…\n",
      "$ end_station_id     \u001b[3m\u001b[90m<chr>\u001b[39m\u001b[23m NA, NA, NA, NA, NA, NA, NA, NA, NA, \"13042\", NA, NA…\n",
      "$ start_lat          \u001b[3m\u001b[90m<dbl>\u001b[39m\u001b[23m 41.80, 41.79, 41.80, 41.78, 41.80, 41.78, 41.79, 41…\n",
      "$ start_lng          \u001b[3m\u001b[90m<dbl>\u001b[39m\u001b[23m -87.59, -87.59, -87.60, -87.58, -87.59, -87.58, -87…\n",
      "$ end_lat            \u001b[3m\u001b[90m<dbl>\u001b[39m\u001b[23m 41.80000, 41.80000, 41.79000, 41.80000, 41.79000, 4…\n",
      "$ end_lng            \u001b[3m\u001b[90m<dbl>\u001b[39m\u001b[23m -87.6000, -87.6000, -87.5900, -87.6000, -87.5900, -…\n",
      "$ member_casual      \u001b[3m\u001b[90m<chr>\u001b[39m\u001b[23m \"member\", \"member\", \"member\", \"member\", \"member\", \"…\n",
      "Rows: 531,633\n",
      "Columns: 13\n",
      "$ ride_id            \u001b[3m\u001b[90m<chr>\u001b[39m\u001b[23m \"C809ED75D6160B2A\", \"DD59FDCE0ACACAF3\", \"0AB83CB88C…\n",
      "$ rideable_type      \u001b[3m\u001b[90m<chr>\u001b[39m\u001b[23m \"electric_bike\", \"electric_bike\", \"electric_bike\", …\n",
      "$ started_at         \u001b[3m\u001b[90m<dttm>\u001b[39m\u001b[23m 2021-05-30 11:58:15, 2021-05-30 11:29:14, 2021-05-…\n",
      "$ ended_at           \u001b[3m\u001b[90m<dttm>\u001b[39m\u001b[23m 2021-05-30 12:10:39, 2021-05-30 12:14:09, 2021-05-…\n",
      "$ start_station_name \u001b[3m\u001b[90m<chr>\u001b[39m\u001b[23m NA, NA, NA, NA, NA, NA, NA, NA, NA, NA, NA, NA, NA,…\n",
      "$ start_station_id   \u001b[3m\u001b[90m<chr>\u001b[39m\u001b[23m NA, NA, NA, NA, NA, NA, NA, NA, NA, NA, NA, NA, NA,…\n",
      "$ end_station_name   \u001b[3m\u001b[90m<chr>\u001b[39m\u001b[23m NA, NA, NA, NA, NA, NA, NA, NA, NA, NA, NA, NA, NA,…\n",
      "$ end_station_id     \u001b[3m\u001b[90m<chr>\u001b[39m\u001b[23m NA, NA, NA, NA, NA, NA, NA, NA, NA, NA, NA, NA, NA,…\n",
      "$ start_lat          \u001b[3m\u001b[90m<dbl>\u001b[39m\u001b[23m 41.90000, 41.88000, 41.92000, 41.92000, 41.94000, 4…\n",
      "$ start_lng          \u001b[3m\u001b[90m<dbl>\u001b[39m\u001b[23m -87.63000, -87.62000, -87.70000, -87.70000, -87.690…\n",
      "$ end_lat            \u001b[3m\u001b[90m<dbl>\u001b[39m\u001b[23m 41.89000, 41.79000, 41.92000, 41.94000, 41.94000, 4…\n",
      "$ end_lng            \u001b[3m\u001b[90m<dbl>\u001b[39m\u001b[23m -87.61000, -87.58000, -87.70000, -87.69000, -87.700…\n",
      "$ member_casual      \u001b[3m\u001b[90m<chr>\u001b[39m\u001b[23m \"casual\", \"casual\", \"casual\", \"casual\", \"casual\", \"…\n",
      "Rows: 337,230\n",
      "Columns: 13\n",
      "$ ride_id            \u001b[3m\u001b[90m<chr>\u001b[39m\u001b[23m \"6C992BD37A98A63F\", \"1E0145613A209000\", \"E498E15508…\n",
      "$ rideable_type      \u001b[3m\u001b[90m<chr>\u001b[39m\u001b[23m \"classic_bike\", \"docked_bike\", \"docked_bike\", \"clas…\n",
      "$ started_at         \u001b[3m\u001b[90m<dttm>\u001b[39m\u001b[23m 2021-04-12 18:25:36, 2021-04-27 17:27:11, 2021-04-…\n",
      "$ ended_at           \u001b[3m\u001b[90m<dttm>\u001b[39m\u001b[23m 2021-04-12 18:56:55, 2021-04-27 18:31:29, 2021-04-…\n",
      "$ start_station_name \u001b[3m\u001b[90m<chr>\u001b[39m\u001b[23m \"State St & Pearson St\", \"Dorchester Ave & 49th St\"…\n",
      "$ start_station_id   \u001b[3m\u001b[90m<chr>\u001b[39m\u001b[23m \"TA1307000061\", \"KA1503000069\", \"20121\", \"TA1305000…\n",
      "$ end_station_name   \u001b[3m\u001b[90m<chr>\u001b[39m\u001b[23m \"Southport Ave & Waveland Ave\", \"Dorchester Ave & 4…\n",
      "$ end_station_id     \u001b[3m\u001b[90m<chr>\u001b[39m\u001b[23m \"13235\", \"KA1503000069\", \"20121\", \"13235\", \"20121\",…\n",
      "$ start_lat          \u001b[3m\u001b[90m<dbl>\u001b[39m\u001b[23m 41.89745, 41.80577, 41.74149, 41.90312, 41.74149, 4…\n",
      "$ start_lng          \u001b[3m\u001b[90m<dbl>\u001b[39m\u001b[23m -87.62872, -87.59246, -87.65841, -87.67394, -87.658…\n",
      "$ end_lat            \u001b[3m\u001b[90m<dbl>\u001b[39m\u001b[23m 41.94815, 41.80577, 41.74149, 41.94815, 41.74149, 4…\n",
      "$ end_lng            \u001b[3m\u001b[90m<dbl>\u001b[39m\u001b[23m -87.66394, -87.59246, -87.65841, -87.66394, -87.658…\n",
      "$ member_casual      \u001b[3m\u001b[90m<chr>\u001b[39m\u001b[23m \"member\", \"casual\", \"casual\", \"member\", \"casual\", \"…\n"
     ]
    }
   ],
   "source": [
    "glimpse(df_march_2022)\n",
    "glimpse(df_february_2022)\n",
    "glimpse(df_january_2022)\n",
    "glimpse(df_december_2021)\n",
    "glimpse(df_november_2021)\n",
    "glimpse(df_october_2021 )\n",
    "glimpse(df_september_2021)\n",
    "glimpse(df_august_2021)\n",
    "glimpse(df_july_2021)\n",
    "glimpse(df_june_2021)\n",
    "glimpse(df_may_2021)\n",
    "glimpse(df_april_2021)"
   ]
  },
  {
   "cell_type": "markdown",
   "id": "073455c5",
   "metadata": {
    "papermill": {
     "duration": 0.023393,
     "end_time": "2022-04-23T11:57:35.528072",
     "exception": false,
     "start_time": "2022-04-23T11:57:35.504679",
     "status": "completed"
    },
    "tags": []
   },
   "source": [
    "****compare column names to check for inconsistencies****"
   ]
  },
  {
   "cell_type": "code",
   "execution_count": 5,
   "id": "d232c5c8",
   "metadata": {
    "execution": {
     "iopub.execute_input": "2022-04-23T11:57:35.579441Z",
     "iopub.status.busy": "2022-04-23T11:57:35.577692Z",
     "iopub.status.idle": "2022-04-23T11:57:35.676561Z",
     "shell.execute_reply": "2022-04-23T11:57:35.674349Z"
    },
    "papermill": {
     "duration": 0.127688,
     "end_time": "2022-04-23T11:57:35.680015",
     "exception": false,
     "start_time": "2022-04-23T11:57:35.552327",
     "status": "completed"
    },
    "tags": []
   },
   "outputs": [
    {
     "data": {
      "text/html": [
       "<style>\n",
       ".list-inline {list-style: none; margin:0; padding: 0}\n",
       ".list-inline>li {display: inline-block}\n",
       ".list-inline>li:not(:last-child)::after {content: \"\\00b7\"; padding: 0 .5ex}\n",
       "</style>\n",
       "<ol class=list-inline><li>'ride_id'</li><li>'rideable_type'</li><li>'started_at'</li><li>'ended_at'</li><li>'start_station_name'</li><li>'start_station_id'</li><li>'end_station_name'</li><li>'end_station_id'</li><li>'start_lat'</li><li>'start_lng'</li><li>'end_lat'</li><li>'end_lng'</li><li>'member_casual'</li></ol>\n"
      ],
      "text/latex": [
       "\\begin{enumerate*}\n",
       "\\item 'ride\\_id'\n",
       "\\item 'rideable\\_type'\n",
       "\\item 'started\\_at'\n",
       "\\item 'ended\\_at'\n",
       "\\item 'start\\_station\\_name'\n",
       "\\item 'start\\_station\\_id'\n",
       "\\item 'end\\_station\\_name'\n",
       "\\item 'end\\_station\\_id'\n",
       "\\item 'start\\_lat'\n",
       "\\item 'start\\_lng'\n",
       "\\item 'end\\_lat'\n",
       "\\item 'end\\_lng'\n",
       "\\item 'member\\_casual'\n",
       "\\end{enumerate*}\n"
      ],
      "text/markdown": [
       "1. 'ride_id'\n",
       "2. 'rideable_type'\n",
       "3. 'started_at'\n",
       "4. 'ended_at'\n",
       "5. 'start_station_name'\n",
       "6. 'start_station_id'\n",
       "7. 'end_station_name'\n",
       "8. 'end_station_id'\n",
       "9. 'start_lat'\n",
       "10. 'start_lng'\n",
       "11. 'end_lat'\n",
       "12. 'end_lng'\n",
       "13. 'member_casual'\n",
       "\n",
       "\n"
      ],
      "text/plain": [
       " [1] \"ride_id\"            \"rideable_type\"      \"started_at\"        \n",
       " [4] \"ended_at\"           \"start_station_name\" \"start_station_id\"  \n",
       " [7] \"end_station_name\"   \"end_station_id\"     \"start_lat\"         \n",
       "[10] \"start_lng\"          \"end_lat\"            \"end_lng\"           \n",
       "[13] \"member_casual\"     "
      ]
     },
     "metadata": {},
     "output_type": "display_data"
    },
    {
     "data": {
      "text/html": [
       "<style>\n",
       ".list-inline {list-style: none; margin:0; padding: 0}\n",
       ".list-inline>li {display: inline-block}\n",
       ".list-inline>li:not(:last-child)::after {content: \"\\00b7\"; padding: 0 .5ex}\n",
       "</style>\n",
       "<ol class=list-inline><li>'ride_id'</li><li>'rideable_type'</li><li>'started_at'</li><li>'ended_at'</li><li>'start_station_name'</li><li>'start_station_id'</li><li>'end_station_name'</li><li>'end_station_id'</li><li>'start_lat'</li><li>'start_lng'</li><li>'end_lat'</li><li>'end_lng'</li><li>'member_casual'</li></ol>\n"
      ],
      "text/latex": [
       "\\begin{enumerate*}\n",
       "\\item 'ride\\_id'\n",
       "\\item 'rideable\\_type'\n",
       "\\item 'started\\_at'\n",
       "\\item 'ended\\_at'\n",
       "\\item 'start\\_station\\_name'\n",
       "\\item 'start\\_station\\_id'\n",
       "\\item 'end\\_station\\_name'\n",
       "\\item 'end\\_station\\_id'\n",
       "\\item 'start\\_lat'\n",
       "\\item 'start\\_lng'\n",
       "\\item 'end\\_lat'\n",
       "\\item 'end\\_lng'\n",
       "\\item 'member\\_casual'\n",
       "\\end{enumerate*}\n"
      ],
      "text/markdown": [
       "1. 'ride_id'\n",
       "2. 'rideable_type'\n",
       "3. 'started_at'\n",
       "4. 'ended_at'\n",
       "5. 'start_station_name'\n",
       "6. 'start_station_id'\n",
       "7. 'end_station_name'\n",
       "8. 'end_station_id'\n",
       "9. 'start_lat'\n",
       "10. 'start_lng'\n",
       "11. 'end_lat'\n",
       "12. 'end_lng'\n",
       "13. 'member_casual'\n",
       "\n",
       "\n"
      ],
      "text/plain": [
       " [1] \"ride_id\"            \"rideable_type\"      \"started_at\"        \n",
       " [4] \"ended_at\"           \"start_station_name\" \"start_station_id\"  \n",
       " [7] \"end_station_name\"   \"end_station_id\"     \"start_lat\"         \n",
       "[10] \"start_lng\"          \"end_lat\"            \"end_lng\"           \n",
       "[13] \"member_casual\"     "
      ]
     },
     "metadata": {},
     "output_type": "display_data"
    },
    {
     "data": {
      "text/html": [
       "<style>\n",
       ".list-inline {list-style: none; margin:0; padding: 0}\n",
       ".list-inline>li {display: inline-block}\n",
       ".list-inline>li:not(:last-child)::after {content: \"\\00b7\"; padding: 0 .5ex}\n",
       "</style>\n",
       "<ol class=list-inline><li>'ride_id'</li><li>'rideable_type'</li><li>'started_at'</li><li>'ended_at'</li><li>'start_station_name'</li><li>'start_station_id'</li><li>'end_station_name'</li><li>'end_station_id'</li><li>'start_lat'</li><li>'start_lng'</li><li>'end_lat'</li><li>'end_lng'</li><li>'member_casual'</li></ol>\n"
      ],
      "text/latex": [
       "\\begin{enumerate*}\n",
       "\\item 'ride\\_id'\n",
       "\\item 'rideable\\_type'\n",
       "\\item 'started\\_at'\n",
       "\\item 'ended\\_at'\n",
       "\\item 'start\\_station\\_name'\n",
       "\\item 'start\\_station\\_id'\n",
       "\\item 'end\\_station\\_name'\n",
       "\\item 'end\\_station\\_id'\n",
       "\\item 'start\\_lat'\n",
       "\\item 'start\\_lng'\n",
       "\\item 'end\\_lat'\n",
       "\\item 'end\\_lng'\n",
       "\\item 'member\\_casual'\n",
       "\\end{enumerate*}\n"
      ],
      "text/markdown": [
       "1. 'ride_id'\n",
       "2. 'rideable_type'\n",
       "3. 'started_at'\n",
       "4. 'ended_at'\n",
       "5. 'start_station_name'\n",
       "6. 'start_station_id'\n",
       "7. 'end_station_name'\n",
       "8. 'end_station_id'\n",
       "9. 'start_lat'\n",
       "10. 'start_lng'\n",
       "11. 'end_lat'\n",
       "12. 'end_lng'\n",
       "13. 'member_casual'\n",
       "\n",
       "\n"
      ],
      "text/plain": [
       " [1] \"ride_id\"            \"rideable_type\"      \"started_at\"        \n",
       " [4] \"ended_at\"           \"start_station_name\" \"start_station_id\"  \n",
       " [7] \"end_station_name\"   \"end_station_id\"     \"start_lat\"         \n",
       "[10] \"start_lng\"          \"end_lat\"            \"end_lng\"           \n",
       "[13] \"member_casual\"     "
      ]
     },
     "metadata": {},
     "output_type": "display_data"
    },
    {
     "data": {
      "text/html": [
       "<style>\n",
       ".list-inline {list-style: none; margin:0; padding: 0}\n",
       ".list-inline>li {display: inline-block}\n",
       ".list-inline>li:not(:last-child)::after {content: \"\\00b7\"; padding: 0 .5ex}\n",
       "</style>\n",
       "<ol class=list-inline><li>'ride_id'</li><li>'rideable_type'</li><li>'started_at'</li><li>'ended_at'</li><li>'start_station_name'</li><li>'start_station_id'</li><li>'end_station_name'</li><li>'end_station_id'</li><li>'start_lat'</li><li>'start_lng'</li><li>'end_lat'</li><li>'end_lng'</li><li>'member_casual'</li></ol>\n"
      ],
      "text/latex": [
       "\\begin{enumerate*}\n",
       "\\item 'ride\\_id'\n",
       "\\item 'rideable\\_type'\n",
       "\\item 'started\\_at'\n",
       "\\item 'ended\\_at'\n",
       "\\item 'start\\_station\\_name'\n",
       "\\item 'start\\_station\\_id'\n",
       "\\item 'end\\_station\\_name'\n",
       "\\item 'end\\_station\\_id'\n",
       "\\item 'start\\_lat'\n",
       "\\item 'start\\_lng'\n",
       "\\item 'end\\_lat'\n",
       "\\item 'end\\_lng'\n",
       "\\item 'member\\_casual'\n",
       "\\end{enumerate*}\n"
      ],
      "text/markdown": [
       "1. 'ride_id'\n",
       "2. 'rideable_type'\n",
       "3. 'started_at'\n",
       "4. 'ended_at'\n",
       "5. 'start_station_name'\n",
       "6. 'start_station_id'\n",
       "7. 'end_station_name'\n",
       "8. 'end_station_id'\n",
       "9. 'start_lat'\n",
       "10. 'start_lng'\n",
       "11. 'end_lat'\n",
       "12. 'end_lng'\n",
       "13. 'member_casual'\n",
       "\n",
       "\n"
      ],
      "text/plain": [
       " [1] \"ride_id\"            \"rideable_type\"      \"started_at\"        \n",
       " [4] \"ended_at\"           \"start_station_name\" \"start_station_id\"  \n",
       " [7] \"end_station_name\"   \"end_station_id\"     \"start_lat\"         \n",
       "[10] \"start_lng\"          \"end_lat\"            \"end_lng\"           \n",
       "[13] \"member_casual\"     "
      ]
     },
     "metadata": {},
     "output_type": "display_data"
    },
    {
     "data": {
      "text/html": [
       "<style>\n",
       ".list-inline {list-style: none; margin:0; padding: 0}\n",
       ".list-inline>li {display: inline-block}\n",
       ".list-inline>li:not(:last-child)::after {content: \"\\00b7\"; padding: 0 .5ex}\n",
       "</style>\n",
       "<ol class=list-inline><li>'ride_id'</li><li>'rideable_type'</li><li>'started_at'</li><li>'ended_at'</li><li>'start_station_name'</li><li>'start_station_id'</li><li>'end_station_name'</li><li>'end_station_id'</li><li>'start_lat'</li><li>'start_lng'</li><li>'end_lat'</li><li>'end_lng'</li><li>'member_casual'</li></ol>\n"
      ],
      "text/latex": [
       "\\begin{enumerate*}\n",
       "\\item 'ride\\_id'\n",
       "\\item 'rideable\\_type'\n",
       "\\item 'started\\_at'\n",
       "\\item 'ended\\_at'\n",
       "\\item 'start\\_station\\_name'\n",
       "\\item 'start\\_station\\_id'\n",
       "\\item 'end\\_station\\_name'\n",
       "\\item 'end\\_station\\_id'\n",
       "\\item 'start\\_lat'\n",
       "\\item 'start\\_lng'\n",
       "\\item 'end\\_lat'\n",
       "\\item 'end\\_lng'\n",
       "\\item 'member\\_casual'\n",
       "\\end{enumerate*}\n"
      ],
      "text/markdown": [
       "1. 'ride_id'\n",
       "2. 'rideable_type'\n",
       "3. 'started_at'\n",
       "4. 'ended_at'\n",
       "5. 'start_station_name'\n",
       "6. 'start_station_id'\n",
       "7. 'end_station_name'\n",
       "8. 'end_station_id'\n",
       "9. 'start_lat'\n",
       "10. 'start_lng'\n",
       "11. 'end_lat'\n",
       "12. 'end_lng'\n",
       "13. 'member_casual'\n",
       "\n",
       "\n"
      ],
      "text/plain": [
       " [1] \"ride_id\"            \"rideable_type\"      \"started_at\"        \n",
       " [4] \"ended_at\"           \"start_station_name\" \"start_station_id\"  \n",
       " [7] \"end_station_name\"   \"end_station_id\"     \"start_lat\"         \n",
       "[10] \"start_lng\"          \"end_lat\"            \"end_lng\"           \n",
       "[13] \"member_casual\"     "
      ]
     },
     "metadata": {},
     "output_type": "display_data"
    },
    {
     "data": {
      "text/html": [
       "<style>\n",
       ".list-inline {list-style: none; margin:0; padding: 0}\n",
       ".list-inline>li {display: inline-block}\n",
       ".list-inline>li:not(:last-child)::after {content: \"\\00b7\"; padding: 0 .5ex}\n",
       "</style>\n",
       "<ol class=list-inline><li>'ride_id'</li><li>'rideable_type'</li><li>'started_at'</li><li>'ended_at'</li><li>'start_station_name'</li><li>'start_station_id'</li><li>'end_station_name'</li><li>'end_station_id'</li><li>'start_lat'</li><li>'start_lng'</li><li>'end_lat'</li><li>'end_lng'</li><li>'member_casual'</li></ol>\n"
      ],
      "text/latex": [
       "\\begin{enumerate*}\n",
       "\\item 'ride\\_id'\n",
       "\\item 'rideable\\_type'\n",
       "\\item 'started\\_at'\n",
       "\\item 'ended\\_at'\n",
       "\\item 'start\\_station\\_name'\n",
       "\\item 'start\\_station\\_id'\n",
       "\\item 'end\\_station\\_name'\n",
       "\\item 'end\\_station\\_id'\n",
       "\\item 'start\\_lat'\n",
       "\\item 'start\\_lng'\n",
       "\\item 'end\\_lat'\n",
       "\\item 'end\\_lng'\n",
       "\\item 'member\\_casual'\n",
       "\\end{enumerate*}\n"
      ],
      "text/markdown": [
       "1. 'ride_id'\n",
       "2. 'rideable_type'\n",
       "3. 'started_at'\n",
       "4. 'ended_at'\n",
       "5. 'start_station_name'\n",
       "6. 'start_station_id'\n",
       "7. 'end_station_name'\n",
       "8. 'end_station_id'\n",
       "9. 'start_lat'\n",
       "10. 'start_lng'\n",
       "11. 'end_lat'\n",
       "12. 'end_lng'\n",
       "13. 'member_casual'\n",
       "\n",
       "\n"
      ],
      "text/plain": [
       " [1] \"ride_id\"            \"rideable_type\"      \"started_at\"        \n",
       " [4] \"ended_at\"           \"start_station_name\" \"start_station_id\"  \n",
       " [7] \"end_station_name\"   \"end_station_id\"     \"start_lat\"         \n",
       "[10] \"start_lng\"          \"end_lat\"            \"end_lng\"           \n",
       "[13] \"member_casual\"     "
      ]
     },
     "metadata": {},
     "output_type": "display_data"
    },
    {
     "data": {
      "text/html": [
       "<style>\n",
       ".list-inline {list-style: none; margin:0; padding: 0}\n",
       ".list-inline>li {display: inline-block}\n",
       ".list-inline>li:not(:last-child)::after {content: \"\\00b7\"; padding: 0 .5ex}\n",
       "</style>\n",
       "<ol class=list-inline><li>'ride_id'</li><li>'rideable_type'</li><li>'started_at'</li><li>'ended_at'</li><li>'start_station_name'</li><li>'start_station_id'</li><li>'end_station_name'</li><li>'end_station_id'</li><li>'start_lat'</li><li>'start_lng'</li><li>'end_lat'</li><li>'end_lng'</li><li>'member_casual'</li></ol>\n"
      ],
      "text/latex": [
       "\\begin{enumerate*}\n",
       "\\item 'ride\\_id'\n",
       "\\item 'rideable\\_type'\n",
       "\\item 'started\\_at'\n",
       "\\item 'ended\\_at'\n",
       "\\item 'start\\_station\\_name'\n",
       "\\item 'start\\_station\\_id'\n",
       "\\item 'end\\_station\\_name'\n",
       "\\item 'end\\_station\\_id'\n",
       "\\item 'start\\_lat'\n",
       "\\item 'start\\_lng'\n",
       "\\item 'end\\_lat'\n",
       "\\item 'end\\_lng'\n",
       "\\item 'member\\_casual'\n",
       "\\end{enumerate*}\n"
      ],
      "text/markdown": [
       "1. 'ride_id'\n",
       "2. 'rideable_type'\n",
       "3. 'started_at'\n",
       "4. 'ended_at'\n",
       "5. 'start_station_name'\n",
       "6. 'start_station_id'\n",
       "7. 'end_station_name'\n",
       "8. 'end_station_id'\n",
       "9. 'start_lat'\n",
       "10. 'start_lng'\n",
       "11. 'end_lat'\n",
       "12. 'end_lng'\n",
       "13. 'member_casual'\n",
       "\n",
       "\n"
      ],
      "text/plain": [
       " [1] \"ride_id\"            \"rideable_type\"      \"started_at\"        \n",
       " [4] \"ended_at\"           \"start_station_name\" \"start_station_id\"  \n",
       " [7] \"end_station_name\"   \"end_station_id\"     \"start_lat\"         \n",
       "[10] \"start_lng\"          \"end_lat\"            \"end_lng\"           \n",
       "[13] \"member_casual\"     "
      ]
     },
     "metadata": {},
     "output_type": "display_data"
    },
    {
     "data": {
      "text/html": [
       "<style>\n",
       ".list-inline {list-style: none; margin:0; padding: 0}\n",
       ".list-inline>li {display: inline-block}\n",
       ".list-inline>li:not(:last-child)::after {content: \"\\00b7\"; padding: 0 .5ex}\n",
       "</style>\n",
       "<ol class=list-inline><li>'ride_id'</li><li>'rideable_type'</li><li>'started_at'</li><li>'ended_at'</li><li>'start_station_name'</li><li>'start_station_id'</li><li>'end_station_name'</li><li>'end_station_id'</li><li>'start_lat'</li><li>'start_lng'</li><li>'end_lat'</li><li>'end_lng'</li><li>'member_casual'</li></ol>\n"
      ],
      "text/latex": [
       "\\begin{enumerate*}\n",
       "\\item 'ride\\_id'\n",
       "\\item 'rideable\\_type'\n",
       "\\item 'started\\_at'\n",
       "\\item 'ended\\_at'\n",
       "\\item 'start\\_station\\_name'\n",
       "\\item 'start\\_station\\_id'\n",
       "\\item 'end\\_station\\_name'\n",
       "\\item 'end\\_station\\_id'\n",
       "\\item 'start\\_lat'\n",
       "\\item 'start\\_lng'\n",
       "\\item 'end\\_lat'\n",
       "\\item 'end\\_lng'\n",
       "\\item 'member\\_casual'\n",
       "\\end{enumerate*}\n"
      ],
      "text/markdown": [
       "1. 'ride_id'\n",
       "2. 'rideable_type'\n",
       "3. 'started_at'\n",
       "4. 'ended_at'\n",
       "5. 'start_station_name'\n",
       "6. 'start_station_id'\n",
       "7. 'end_station_name'\n",
       "8. 'end_station_id'\n",
       "9. 'start_lat'\n",
       "10. 'start_lng'\n",
       "11. 'end_lat'\n",
       "12. 'end_lng'\n",
       "13. 'member_casual'\n",
       "\n",
       "\n"
      ],
      "text/plain": [
       " [1] \"ride_id\"            \"rideable_type\"      \"started_at\"        \n",
       " [4] \"ended_at\"           \"start_station_name\" \"start_station_id\"  \n",
       " [7] \"end_station_name\"   \"end_station_id\"     \"start_lat\"         \n",
       "[10] \"start_lng\"          \"end_lat\"            \"end_lng\"           \n",
       "[13] \"member_casual\"     "
      ]
     },
     "metadata": {},
     "output_type": "display_data"
    },
    {
     "data": {
      "text/html": [
       "<style>\n",
       ".list-inline {list-style: none; margin:0; padding: 0}\n",
       ".list-inline>li {display: inline-block}\n",
       ".list-inline>li:not(:last-child)::after {content: \"\\00b7\"; padding: 0 .5ex}\n",
       "</style>\n",
       "<ol class=list-inline><li>'ride_id'</li><li>'rideable_type'</li><li>'started_at'</li><li>'ended_at'</li><li>'start_station_name'</li><li>'start_station_id'</li><li>'end_station_name'</li><li>'end_station_id'</li><li>'start_lat'</li><li>'start_lng'</li><li>'end_lat'</li><li>'end_lng'</li><li>'member_casual'</li></ol>\n"
      ],
      "text/latex": [
       "\\begin{enumerate*}\n",
       "\\item 'ride\\_id'\n",
       "\\item 'rideable\\_type'\n",
       "\\item 'started\\_at'\n",
       "\\item 'ended\\_at'\n",
       "\\item 'start\\_station\\_name'\n",
       "\\item 'start\\_station\\_id'\n",
       "\\item 'end\\_station\\_name'\n",
       "\\item 'end\\_station\\_id'\n",
       "\\item 'start\\_lat'\n",
       "\\item 'start\\_lng'\n",
       "\\item 'end\\_lat'\n",
       "\\item 'end\\_lng'\n",
       "\\item 'member\\_casual'\n",
       "\\end{enumerate*}\n"
      ],
      "text/markdown": [
       "1. 'ride_id'\n",
       "2. 'rideable_type'\n",
       "3. 'started_at'\n",
       "4. 'ended_at'\n",
       "5. 'start_station_name'\n",
       "6. 'start_station_id'\n",
       "7. 'end_station_name'\n",
       "8. 'end_station_id'\n",
       "9. 'start_lat'\n",
       "10. 'start_lng'\n",
       "11. 'end_lat'\n",
       "12. 'end_lng'\n",
       "13. 'member_casual'\n",
       "\n",
       "\n"
      ],
      "text/plain": [
       " [1] \"ride_id\"            \"rideable_type\"      \"started_at\"        \n",
       " [4] \"ended_at\"           \"start_station_name\" \"start_station_id\"  \n",
       " [7] \"end_station_name\"   \"end_station_id\"     \"start_lat\"         \n",
       "[10] \"start_lng\"          \"end_lat\"            \"end_lng\"           \n",
       "[13] \"member_casual\"     "
      ]
     },
     "metadata": {},
     "output_type": "display_data"
    },
    {
     "data": {
      "text/html": [
       "<style>\n",
       ".list-inline {list-style: none; margin:0; padding: 0}\n",
       ".list-inline>li {display: inline-block}\n",
       ".list-inline>li:not(:last-child)::after {content: \"\\00b7\"; padding: 0 .5ex}\n",
       "</style>\n",
       "<ol class=list-inline><li>'ride_id'</li><li>'rideable_type'</li><li>'started_at'</li><li>'ended_at'</li><li>'start_station_name'</li><li>'start_station_id'</li><li>'end_station_name'</li><li>'end_station_id'</li><li>'start_lat'</li><li>'start_lng'</li><li>'end_lat'</li><li>'end_lng'</li><li>'member_casual'</li></ol>\n"
      ],
      "text/latex": [
       "\\begin{enumerate*}\n",
       "\\item 'ride\\_id'\n",
       "\\item 'rideable\\_type'\n",
       "\\item 'started\\_at'\n",
       "\\item 'ended\\_at'\n",
       "\\item 'start\\_station\\_name'\n",
       "\\item 'start\\_station\\_id'\n",
       "\\item 'end\\_station\\_name'\n",
       "\\item 'end\\_station\\_id'\n",
       "\\item 'start\\_lat'\n",
       "\\item 'start\\_lng'\n",
       "\\item 'end\\_lat'\n",
       "\\item 'end\\_lng'\n",
       "\\item 'member\\_casual'\n",
       "\\end{enumerate*}\n"
      ],
      "text/markdown": [
       "1. 'ride_id'\n",
       "2. 'rideable_type'\n",
       "3. 'started_at'\n",
       "4. 'ended_at'\n",
       "5. 'start_station_name'\n",
       "6. 'start_station_id'\n",
       "7. 'end_station_name'\n",
       "8. 'end_station_id'\n",
       "9. 'start_lat'\n",
       "10. 'start_lng'\n",
       "11. 'end_lat'\n",
       "12. 'end_lng'\n",
       "13. 'member_casual'\n",
       "\n",
       "\n"
      ],
      "text/plain": [
       " [1] \"ride_id\"            \"rideable_type\"      \"started_at\"        \n",
       " [4] \"ended_at\"           \"start_station_name\" \"start_station_id\"  \n",
       " [7] \"end_station_name\"   \"end_station_id\"     \"start_lat\"         \n",
       "[10] \"start_lng\"          \"end_lat\"            \"end_lng\"           \n",
       "[13] \"member_casual\"     "
      ]
     },
     "metadata": {},
     "output_type": "display_data"
    },
    {
     "data": {
      "text/html": [
       "<style>\n",
       ".list-inline {list-style: none; margin:0; padding: 0}\n",
       ".list-inline>li {display: inline-block}\n",
       ".list-inline>li:not(:last-child)::after {content: \"\\00b7\"; padding: 0 .5ex}\n",
       "</style>\n",
       "<ol class=list-inline><li>'ride_id'</li><li>'rideable_type'</li><li>'started_at'</li><li>'ended_at'</li><li>'start_station_name'</li><li>'start_station_id'</li><li>'end_station_name'</li><li>'end_station_id'</li><li>'start_lat'</li><li>'start_lng'</li><li>'end_lat'</li><li>'end_lng'</li><li>'member_casual'</li></ol>\n"
      ],
      "text/latex": [
       "\\begin{enumerate*}\n",
       "\\item 'ride\\_id'\n",
       "\\item 'rideable\\_type'\n",
       "\\item 'started\\_at'\n",
       "\\item 'ended\\_at'\n",
       "\\item 'start\\_station\\_name'\n",
       "\\item 'start\\_station\\_id'\n",
       "\\item 'end\\_station\\_name'\n",
       "\\item 'end\\_station\\_id'\n",
       "\\item 'start\\_lat'\n",
       "\\item 'start\\_lng'\n",
       "\\item 'end\\_lat'\n",
       "\\item 'end\\_lng'\n",
       "\\item 'member\\_casual'\n",
       "\\end{enumerate*}\n"
      ],
      "text/markdown": [
       "1. 'ride_id'\n",
       "2. 'rideable_type'\n",
       "3. 'started_at'\n",
       "4. 'ended_at'\n",
       "5. 'start_station_name'\n",
       "6. 'start_station_id'\n",
       "7. 'end_station_name'\n",
       "8. 'end_station_id'\n",
       "9. 'start_lat'\n",
       "10. 'start_lng'\n",
       "11. 'end_lat'\n",
       "12. 'end_lng'\n",
       "13. 'member_casual'\n",
       "\n",
       "\n"
      ],
      "text/plain": [
       " [1] \"ride_id\"            \"rideable_type\"      \"started_at\"        \n",
       " [4] \"ended_at\"           \"start_station_name\" \"start_station_id\"  \n",
       " [7] \"end_station_name\"   \"end_station_id\"     \"start_lat\"         \n",
       "[10] \"start_lng\"          \"end_lat\"            \"end_lng\"           \n",
       "[13] \"member_casual\"     "
      ]
     },
     "metadata": {},
     "output_type": "display_data"
    },
    {
     "data": {
      "text/html": [
       "<style>\n",
       ".list-inline {list-style: none; margin:0; padding: 0}\n",
       ".list-inline>li {display: inline-block}\n",
       ".list-inline>li:not(:last-child)::after {content: \"\\00b7\"; padding: 0 .5ex}\n",
       "</style>\n",
       "<ol class=list-inline><li>'ride_id'</li><li>'rideable_type'</li><li>'started_at'</li><li>'ended_at'</li><li>'start_station_name'</li><li>'start_station_id'</li><li>'end_station_name'</li><li>'end_station_id'</li><li>'start_lat'</li><li>'start_lng'</li><li>'end_lat'</li><li>'end_lng'</li><li>'member_casual'</li></ol>\n"
      ],
      "text/latex": [
       "\\begin{enumerate*}\n",
       "\\item 'ride\\_id'\n",
       "\\item 'rideable\\_type'\n",
       "\\item 'started\\_at'\n",
       "\\item 'ended\\_at'\n",
       "\\item 'start\\_station\\_name'\n",
       "\\item 'start\\_station\\_id'\n",
       "\\item 'end\\_station\\_name'\n",
       "\\item 'end\\_station\\_id'\n",
       "\\item 'start\\_lat'\n",
       "\\item 'start\\_lng'\n",
       "\\item 'end\\_lat'\n",
       "\\item 'end\\_lng'\n",
       "\\item 'member\\_casual'\n",
       "\\end{enumerate*}\n"
      ],
      "text/markdown": [
       "1. 'ride_id'\n",
       "2. 'rideable_type'\n",
       "3. 'started_at'\n",
       "4. 'ended_at'\n",
       "5. 'start_station_name'\n",
       "6. 'start_station_id'\n",
       "7. 'end_station_name'\n",
       "8. 'end_station_id'\n",
       "9. 'start_lat'\n",
       "10. 'start_lng'\n",
       "11. 'end_lat'\n",
       "12. 'end_lng'\n",
       "13. 'member_casual'\n",
       "\n",
       "\n"
      ],
      "text/plain": [
       " [1] \"ride_id\"            \"rideable_type\"      \"started_at\"        \n",
       " [4] \"ended_at\"           \"start_station_name\" \"start_station_id\"  \n",
       " [7] \"end_station_name\"   \"end_station_id\"     \"start_lat\"         \n",
       "[10] \"start_lng\"          \"end_lat\"            \"end_lng\"           \n",
       "[13] \"member_casual\"     "
      ]
     },
     "metadata": {},
     "output_type": "display_data"
    }
   ],
   "source": [
    "colnames(df_march_2022)\n",
    "colnames(df_february_2022)\n",
    "colnames(df_january_2022)\n",
    "colnames(df_december_2021)\n",
    "colnames(df_november_2021)\n",
    "colnames(df_october_2021 )\n",
    "colnames(df_september_2021)\n",
    "colnames(df_august_2021)\n",
    "colnames(df_july_2021)\n",
    "colnames(df_june_2021)\n",
    "colnames(df_may_2021)\n",
    "colnames(df_april_2021)"
   ]
  },
  {
   "cell_type": "markdown",
   "id": "4443a229",
   "metadata": {
    "papermill": {
     "duration": 0.02624,
     "end_time": "2022-04-23T11:57:35.732121",
     "exception": false,
     "start_time": "2022-04-23T11:57:35.705881",
     "status": "completed"
    },
    "tags": []
   },
   "source": [
    "All column names are consistent :)"
   ]
  },
  {
   "cell_type": "markdown",
   "id": "290f6510",
   "metadata": {
    "papermill": {
     "duration": 0.026338,
     "end_time": "2022-04-23T11:57:35.784334",
     "exception": false,
     "start_time": "2022-04-23T11:57:35.757996",
     "status": "completed"
    },
    "tags": []
   },
   "source": [
    "****Stack monthly data frames into one big data frame****"
   ]
  },
  {
   "cell_type": "code",
   "execution_count": 6,
   "id": "54c77c1d",
   "metadata": {
    "execution": {
     "iopub.execute_input": "2022-04-23T11:57:35.840788Z",
     "iopub.status.busy": "2022-04-23T11:57:35.838915Z",
     "iopub.status.idle": "2022-04-23T11:57:40.639434Z",
     "shell.execute_reply": "2022-04-23T11:57:40.637606Z"
    },
    "papermill": {
     "duration": 4.831966,
     "end_time": "2022-04-23T11:57:40.642307",
     "exception": false,
     "start_time": "2022-04-23T11:57:35.810341",
     "status": "completed"
    },
    "tags": []
   },
   "outputs": [],
   "source": [
    "april_to_march<- bind_rows(df_march_2022,df_february_2022,df_january_2022,df_december_2021,df_november_2021,df_october_2021,df_september_2021,df_august_2021,df_july_2021,df_june_2021,df_may_2021,df_april_2021)\n"
   ]
  },
  {
   "cell_type": "markdown",
   "id": "8bdb90bd",
   "metadata": {
    "papermill": {
     "duration": 0.025802,
     "end_time": "2022-04-23T11:57:40.694102",
     "exception": false,
     "start_time": "2022-04-23T11:57:40.668300",
     "status": "completed"
    },
    "tags": []
   },
   "source": [
    "Inspect new data frame"
   ]
  },
  {
   "cell_type": "code",
   "execution_count": 7,
   "id": "781231fc",
   "metadata": {
    "execution": {
     "iopub.execute_input": "2022-04-23T11:57:40.748278Z",
     "iopub.status.busy": "2022-04-23T11:57:40.746670Z",
     "iopub.status.idle": "2022-04-23T11:57:40.834791Z",
     "shell.execute_reply": "2022-04-23T11:57:40.832993Z"
    },
    "papermill": {
     "duration": 0.117649,
     "end_time": "2022-04-23T11:57:40.837265",
     "exception": false,
     "start_time": "2022-04-23T11:57:40.719616",
     "status": "completed"
    },
    "tags": []
   },
   "outputs": [
    {
     "name": "stdout",
     "output_type": "stream",
     "text": [
      "spec_tbl_df [5,723,532 × 13] (S3: spec_tbl_df/tbl_df/tbl/data.frame)\n",
      " $ ride_id           : chr [1:5723532] \"47EC0A7F82E65D52\" \"8494861979B0F477\" \"EFE527AF80B66109\" \"9F446FD9DEE3F389\" ...\n",
      " $ rideable_type     : chr [1:5723532] \"classic_bike\" \"electric_bike\" \"classic_bike\" \"classic_bike\" ...\n",
      " $ started_at        : POSIXct[1:5723532], format: \"2022-03-21 13:45:01\" \"2022-03-16 09:37:16\" ...\n",
      " $ ended_at          : POSIXct[1:5723532], format: \"2022-03-21 13:51:18\" \"2022-03-16 09:43:34\" ...\n",
      " $ start_station_name: chr [1:5723532] \"Wabash Ave & Wacker Pl\" \"Michigan Ave & Oak St\" \"Broadway & Berwyn Ave\" \"Wabash Ave & Wacker Pl\" ...\n",
      " $ start_station_id  : chr [1:5723532] \"TA1307000131\" \"13042\" \"13109\" \"TA1307000131\" ...\n",
      " $ end_station_name  : chr [1:5723532] \"Kingsbury St & Kinzie St\" \"Orleans St & Chestnut St (NEXT Apts)\" \"Broadway & Ridge Ave\" \"Franklin St & Jackson Blvd\" ...\n",
      " $ end_station_id    : chr [1:5723532] \"KA1503000043\" \"620\" \"15578\" \"TA1305000025\" ...\n",
      " $ start_lat         : num [1:5723532] 41.9 41.9 42 41.9 41.9 ...\n",
      " $ start_lng         : num [1:5723532] -87.6 -87.6 -87.7 -87.6 -87.6 ...\n",
      " $ end_lat           : num [1:5723532] 41.9 41.9 42 41.9 41.9 ...\n",
      " $ end_lng           : num [1:5723532] -87.6 -87.6 -87.7 -87.6 -87.7 ...\n",
      " $ member_casual     : chr [1:5723532] \"member\" \"member\" \"member\" \"member\" ...\n",
      " - attr(*, \"spec\")=\n",
      "  .. cols(\n",
      "  ..   ride_id = \u001b[31mcol_character()\u001b[39m,\n",
      "  ..   rideable_type = \u001b[31mcol_character()\u001b[39m,\n",
      "  ..   started_at = \u001b[34mcol_datetime(format = \"\")\u001b[39m,\n",
      "  ..   ended_at = \u001b[34mcol_datetime(format = \"\")\u001b[39m,\n",
      "  ..   start_station_name = \u001b[31mcol_character()\u001b[39m,\n",
      "  ..   start_station_id = \u001b[31mcol_character()\u001b[39m,\n",
      "  ..   end_station_name = \u001b[31mcol_character()\u001b[39m,\n",
      "  ..   end_station_id = \u001b[31mcol_character()\u001b[39m,\n",
      "  ..   start_lat = \u001b[32mcol_double()\u001b[39m,\n",
      "  ..   start_lng = \u001b[32mcol_double()\u001b[39m,\n",
      "  ..   end_lat = \u001b[32mcol_double()\u001b[39m,\n",
      "  ..   end_lng = \u001b[32mcol_double()\u001b[39m,\n",
      "  ..   member_casual = \u001b[31mcol_character()\u001b[39m\n",
      "  .. )\n",
      " - attr(*, \"problems\")=<externalptr> \n",
      "Rows: 5,723,532\n",
      "Columns: 13\n",
      "$ ride_id            \u001b[3m\u001b[90m<chr>\u001b[39m\u001b[23m \"47EC0A7F82E65D52\", \"8494861979B0F477\", \"EFE527AF80…\n",
      "$ rideable_type      \u001b[3m\u001b[90m<chr>\u001b[39m\u001b[23m \"classic_bike\", \"electric_bike\", \"classic_bike\", \"c…\n",
      "$ started_at         \u001b[3m\u001b[90m<dttm>\u001b[39m\u001b[23m 2022-03-21 13:45:01, 2022-03-16 09:37:16, 2022-03-…\n",
      "$ ended_at           \u001b[3m\u001b[90m<dttm>\u001b[39m\u001b[23m 2022-03-21 13:51:18, 2022-03-16 09:43:34, 2022-03-…\n",
      "$ start_station_name \u001b[3m\u001b[90m<chr>\u001b[39m\u001b[23m \"Wabash Ave & Wacker Pl\", \"Michigan Ave & Oak St\", …\n",
      "$ start_station_id   \u001b[3m\u001b[90m<chr>\u001b[39m\u001b[23m \"TA1307000131\", \"13042\", \"13109\", \"TA1307000131\", \"…\n",
      "$ end_station_name   \u001b[3m\u001b[90m<chr>\u001b[39m\u001b[23m \"Kingsbury St & Kinzie St\", \"Orleans St & Chestnut …\n",
      "$ end_station_id     \u001b[3m\u001b[90m<chr>\u001b[39m\u001b[23m \"KA1503000043\", \"620\", \"15578\", \"TA1305000025\", \"13…\n",
      "$ start_lat          \u001b[3m\u001b[90m<dbl>\u001b[39m\u001b[23m 41.88688, 41.90100, 41.97835, 41.88688, 41.91172, 4…\n",
      "$ start_lng          \u001b[3m\u001b[90m<dbl>\u001b[39m\u001b[23m -87.62603, -87.62375, -87.65975, -87.62603, -87.626…\n",
      "$ end_lat            \u001b[3m\u001b[90m<dbl>\u001b[39m\u001b[23m 41.88918, 41.89820, 41.98404, 41.87771, 41.87794, 4…\n",
      "$ end_lng            \u001b[3m\u001b[90m<dbl>\u001b[39m\u001b[23m -87.63851, -87.63754, -87.66027, -87.63532, -87.662…\n",
      "$ member_casual      \u001b[3m\u001b[90m<chr>\u001b[39m\u001b[23m \"member\", \"member\", \"member\", \"member\", \"member\", \"…\n"
     ]
    },
    {
     "data": {
      "text/html": [
       "<style>\n",
       ".list-inline {list-style: none; margin:0; padding: 0}\n",
       ".list-inline>li {display: inline-block}\n",
       ".list-inline>li:not(:last-child)::after {content: \"\\00b7\"; padding: 0 .5ex}\n",
       "</style>\n",
       "<ol class=list-inline><li>'ride_id'</li><li>'rideable_type'</li><li>'started_at'</li><li>'ended_at'</li><li>'start_station_name'</li><li>'start_station_id'</li><li>'end_station_name'</li><li>'end_station_id'</li><li>'start_lat'</li><li>'start_lng'</li><li>'end_lat'</li><li>'end_lng'</li><li>'member_casual'</li></ol>\n"
      ],
      "text/latex": [
       "\\begin{enumerate*}\n",
       "\\item 'ride\\_id'\n",
       "\\item 'rideable\\_type'\n",
       "\\item 'started\\_at'\n",
       "\\item 'ended\\_at'\n",
       "\\item 'start\\_station\\_name'\n",
       "\\item 'start\\_station\\_id'\n",
       "\\item 'end\\_station\\_name'\n",
       "\\item 'end\\_station\\_id'\n",
       "\\item 'start\\_lat'\n",
       "\\item 'start\\_lng'\n",
       "\\item 'end\\_lat'\n",
       "\\item 'end\\_lng'\n",
       "\\item 'member\\_casual'\n",
       "\\end{enumerate*}\n"
      ],
      "text/markdown": [
       "1. 'ride_id'\n",
       "2. 'rideable_type'\n",
       "3. 'started_at'\n",
       "4. 'ended_at'\n",
       "5. 'start_station_name'\n",
       "6. 'start_station_id'\n",
       "7. 'end_station_name'\n",
       "8. 'end_station_id'\n",
       "9. 'start_lat'\n",
       "10. 'start_lng'\n",
       "11. 'end_lat'\n",
       "12. 'end_lng'\n",
       "13. 'member_casual'\n",
       "\n",
       "\n"
      ],
      "text/plain": [
       " [1] \"ride_id\"            \"rideable_type\"      \"started_at\"        \n",
       " [4] \"ended_at\"           \"start_station_name\" \"start_station_id\"  \n",
       " [7] \"end_station_name\"   \"end_station_id\"     \"start_lat\"         \n",
       "[10] \"start_lng\"          \"end_lat\"            \"end_lng\"           \n",
       "[13] \"member_casual\"     "
      ]
     },
     "metadata": {},
     "output_type": "display_data"
    },
    {
     "data": {
      "text/html": [
       "<table class=\"dataframe\">\n",
       "<caption>A tibble: 6 × 13</caption>\n",
       "<thead>\n",
       "\t<tr><th scope=col>ride_id</th><th scope=col>rideable_type</th><th scope=col>started_at</th><th scope=col>ended_at</th><th scope=col>start_station_name</th><th scope=col>start_station_id</th><th scope=col>end_station_name</th><th scope=col>end_station_id</th><th scope=col>start_lat</th><th scope=col>start_lng</th><th scope=col>end_lat</th><th scope=col>end_lng</th><th scope=col>member_casual</th></tr>\n",
       "\t<tr><th scope=col>&lt;chr&gt;</th><th scope=col>&lt;chr&gt;</th><th scope=col>&lt;dttm&gt;</th><th scope=col>&lt;dttm&gt;</th><th scope=col>&lt;chr&gt;</th><th scope=col>&lt;chr&gt;</th><th scope=col>&lt;chr&gt;</th><th scope=col>&lt;chr&gt;</th><th scope=col>&lt;dbl&gt;</th><th scope=col>&lt;dbl&gt;</th><th scope=col>&lt;dbl&gt;</th><th scope=col>&lt;dbl&gt;</th><th scope=col>&lt;chr&gt;</th></tr>\n",
       "</thead>\n",
       "<tbody>\n",
       "\t<tr><td>47EC0A7F82E65D52</td><td>classic_bike </td><td>2022-03-21 13:45:01</td><td>2022-03-21 13:51:18</td><td><span style=white-space:pre-wrap>Wabash Ave &amp; Wacker Pl            </span></td><td>TA1307000131</td><td><span style=white-space:pre-wrap>Kingsbury St &amp; Kinzie St            </span></td><td>KA1503000043</td><td>41.88688</td><td>-87.62603</td><td>41.88918</td><td>-87.63851</td><td>member</td></tr>\n",
       "\t<tr><td>8494861979B0F477</td><td>electric_bike</td><td>2022-03-16 09:37:16</td><td>2022-03-16 09:43:34</td><td><span style=white-space:pre-wrap>Michigan Ave &amp; Oak St             </span></td><td><span style=white-space:pre-wrap>13042       </span></td><td>Orleans St &amp; Chestnut St (NEXT Apts)</td><td><span style=white-space:pre-wrap>620         </span></td><td>41.90100</td><td>-87.62375</td><td>41.89820</td><td>-87.63754</td><td>member</td></tr>\n",
       "\t<tr><td>EFE527AF80B66109</td><td>classic_bike </td><td>2022-03-23 19:52:02</td><td>2022-03-23 19:54:48</td><td><span style=white-space:pre-wrap>Broadway &amp; Berwyn Ave             </span></td><td><span style=white-space:pre-wrap>13109       </span></td><td><span style=white-space:pre-wrap>Broadway &amp; Ridge Ave                </span></td><td><span style=white-space:pre-wrap>15578       </span></td><td>41.97835</td><td>-87.65975</td><td>41.98404</td><td>-87.66027</td><td>member</td></tr>\n",
       "\t<tr><td>9F446FD9DEE3F389</td><td>classic_bike </td><td>2022-03-01 19:12:26</td><td>2022-03-01 19:22:14</td><td><span style=white-space:pre-wrap>Wabash Ave &amp; Wacker Pl            </span></td><td>TA1307000131</td><td><span style=white-space:pre-wrap>Franklin St &amp; Jackson Blvd          </span></td><td>TA1305000025</td><td>41.88688</td><td>-87.62603</td><td>41.87771</td><td>-87.63532</td><td>member</td></tr>\n",
       "\t<tr><td>431128AD9AFFEDC0</td><td>classic_bike </td><td>2022-03-21 18:37:01</td><td>2022-03-21 19:19:11</td><td>DuSable Lake Shore Dr &amp; North Blvd</td><td><span style=white-space:pre-wrap>LF-005      </span></td><td><span style=white-space:pre-wrap>Loomis St &amp; Jackson Blvd            </span></td><td><span style=white-space:pre-wrap>13206       </span></td><td>41.91172</td><td>-87.62680</td><td>41.87794</td><td>-87.66201</td><td>member</td></tr>\n",
       "\t<tr><td>9AA8A13AF7A85325</td><td>classic_bike </td><td>2022-03-07 17:10:22</td><td>2022-03-07 17:15:04</td><td><span style=white-space:pre-wrap>Bissell St &amp; Armitage Ave         </span></td><td><span style=white-space:pre-wrap>13059       </span></td><td><span style=white-space:pre-wrap>Southport Ave &amp; Clybourn Ave        </span></td><td>TA1309000030</td><td>41.91802</td><td>-87.65218</td><td>41.92077</td><td>-87.66371</td><td>member</td></tr>\n",
       "</tbody>\n",
       "</table>\n"
      ],
      "text/latex": [
       "A tibble: 6 × 13\n",
       "\\begin{tabular}{lllllllllllll}\n",
       " ride\\_id & rideable\\_type & started\\_at & ended\\_at & start\\_station\\_name & start\\_station\\_id & end\\_station\\_name & end\\_station\\_id & start\\_lat & start\\_lng & end\\_lat & end\\_lng & member\\_casual\\\\\n",
       " <chr> & <chr> & <dttm> & <dttm> & <chr> & <chr> & <chr> & <chr> & <dbl> & <dbl> & <dbl> & <dbl> & <chr>\\\\\n",
       "\\hline\n",
       "\t 47EC0A7F82E65D52 & classic\\_bike  & 2022-03-21 13:45:01 & 2022-03-21 13:51:18 & Wabash Ave \\& Wacker Pl             & TA1307000131 & Kingsbury St \\& Kinzie St             & KA1503000043 & 41.88688 & -87.62603 & 41.88918 & -87.63851 & member\\\\\n",
       "\t 8494861979B0F477 & electric\\_bike & 2022-03-16 09:37:16 & 2022-03-16 09:43:34 & Michigan Ave \\& Oak St              & 13042        & Orleans St \\& Chestnut St (NEXT Apts) & 620          & 41.90100 & -87.62375 & 41.89820 & -87.63754 & member\\\\\n",
       "\t EFE527AF80B66109 & classic\\_bike  & 2022-03-23 19:52:02 & 2022-03-23 19:54:48 & Broadway \\& Berwyn Ave              & 13109        & Broadway \\& Ridge Ave                 & 15578        & 41.97835 & -87.65975 & 41.98404 & -87.66027 & member\\\\\n",
       "\t 9F446FD9DEE3F389 & classic\\_bike  & 2022-03-01 19:12:26 & 2022-03-01 19:22:14 & Wabash Ave \\& Wacker Pl             & TA1307000131 & Franklin St \\& Jackson Blvd           & TA1305000025 & 41.88688 & -87.62603 & 41.87771 & -87.63532 & member\\\\\n",
       "\t 431128AD9AFFEDC0 & classic\\_bike  & 2022-03-21 18:37:01 & 2022-03-21 19:19:11 & DuSable Lake Shore Dr \\& North Blvd & LF-005       & Loomis St \\& Jackson Blvd             & 13206        & 41.91172 & -87.62680 & 41.87794 & -87.66201 & member\\\\\n",
       "\t 9AA8A13AF7A85325 & classic\\_bike  & 2022-03-07 17:10:22 & 2022-03-07 17:15:04 & Bissell St \\& Armitage Ave          & 13059        & Southport Ave \\& Clybourn Ave         & TA1309000030 & 41.91802 & -87.65218 & 41.92077 & -87.66371 & member\\\\\n",
       "\\end{tabular}\n"
      ],
      "text/markdown": [
       "\n",
       "A tibble: 6 × 13\n",
       "\n",
       "| ride_id &lt;chr&gt; | rideable_type &lt;chr&gt; | started_at &lt;dttm&gt; | ended_at &lt;dttm&gt; | start_station_name &lt;chr&gt; | start_station_id &lt;chr&gt; | end_station_name &lt;chr&gt; | end_station_id &lt;chr&gt; | start_lat &lt;dbl&gt; | start_lng &lt;dbl&gt; | end_lat &lt;dbl&gt; | end_lng &lt;dbl&gt; | member_casual &lt;chr&gt; |\n",
       "|---|---|---|---|---|---|---|---|---|---|---|---|---|\n",
       "| 47EC0A7F82E65D52 | classic_bike  | 2022-03-21 13:45:01 | 2022-03-21 13:51:18 | Wabash Ave &amp; Wacker Pl             | TA1307000131 | Kingsbury St &amp; Kinzie St             | KA1503000043 | 41.88688 | -87.62603 | 41.88918 | -87.63851 | member |\n",
       "| 8494861979B0F477 | electric_bike | 2022-03-16 09:37:16 | 2022-03-16 09:43:34 | Michigan Ave &amp; Oak St              | 13042        | Orleans St &amp; Chestnut St (NEXT Apts) | 620          | 41.90100 | -87.62375 | 41.89820 | -87.63754 | member |\n",
       "| EFE527AF80B66109 | classic_bike  | 2022-03-23 19:52:02 | 2022-03-23 19:54:48 | Broadway &amp; Berwyn Ave              | 13109        | Broadway &amp; Ridge Ave                 | 15578        | 41.97835 | -87.65975 | 41.98404 | -87.66027 | member |\n",
       "| 9F446FD9DEE3F389 | classic_bike  | 2022-03-01 19:12:26 | 2022-03-01 19:22:14 | Wabash Ave &amp; Wacker Pl             | TA1307000131 | Franklin St &amp; Jackson Blvd           | TA1305000025 | 41.88688 | -87.62603 | 41.87771 | -87.63532 | member |\n",
       "| 431128AD9AFFEDC0 | classic_bike  | 2022-03-21 18:37:01 | 2022-03-21 19:19:11 | DuSable Lake Shore Dr &amp; North Blvd | LF-005       | Loomis St &amp; Jackson Blvd             | 13206        | 41.91172 | -87.62680 | 41.87794 | -87.66201 | member |\n",
       "| 9AA8A13AF7A85325 | classic_bike  | 2022-03-07 17:10:22 | 2022-03-07 17:15:04 | Bissell St &amp; Armitage Ave          | 13059        | Southport Ave &amp; Clybourn Ave         | TA1309000030 | 41.91802 | -87.65218 | 41.92077 | -87.66371 | member |\n",
       "\n"
      ],
      "text/plain": [
       "  ride_id          rideable_type started_at          ended_at           \n",
       "1 47EC0A7F82E65D52 classic_bike  2022-03-21 13:45:01 2022-03-21 13:51:18\n",
       "2 8494861979B0F477 electric_bike 2022-03-16 09:37:16 2022-03-16 09:43:34\n",
       "3 EFE527AF80B66109 classic_bike  2022-03-23 19:52:02 2022-03-23 19:54:48\n",
       "4 9F446FD9DEE3F389 classic_bike  2022-03-01 19:12:26 2022-03-01 19:22:14\n",
       "5 431128AD9AFFEDC0 classic_bike  2022-03-21 18:37:01 2022-03-21 19:19:11\n",
       "6 9AA8A13AF7A85325 classic_bike  2022-03-07 17:10:22 2022-03-07 17:15:04\n",
       "  start_station_name                 start_station_id\n",
       "1 Wabash Ave & Wacker Pl             TA1307000131    \n",
       "2 Michigan Ave & Oak St              13042           \n",
       "3 Broadway & Berwyn Ave              13109           \n",
       "4 Wabash Ave & Wacker Pl             TA1307000131    \n",
       "5 DuSable Lake Shore Dr & North Blvd LF-005          \n",
       "6 Bissell St & Armitage Ave          13059           \n",
       "  end_station_name                     end_station_id start_lat start_lng\n",
       "1 Kingsbury St & Kinzie St             KA1503000043   41.88688  -87.62603\n",
       "2 Orleans St & Chestnut St (NEXT Apts) 620            41.90100  -87.62375\n",
       "3 Broadway & Ridge Ave                 15578          41.97835  -87.65975\n",
       "4 Franklin St & Jackson Blvd           TA1305000025   41.88688  -87.62603\n",
       "5 Loomis St & Jackson Blvd             13206          41.91172  -87.62680\n",
       "6 Southport Ave & Clybourn Ave         TA1309000030   41.91802  -87.65218\n",
       "  end_lat  end_lng   member_casual\n",
       "1 41.88918 -87.63851 member       \n",
       "2 41.89820 -87.63754 member       \n",
       "3 41.98404 -87.66027 member       \n",
       "4 41.87771 -87.63532 member       \n",
       "5 41.87794 -87.66201 member       \n",
       "6 41.92077 -87.66371 member       "
      ]
     },
     "metadata": {},
     "output_type": "display_data"
    }
   ],
   "source": [
    "str(april_to_march)\n",
    "glimpse(april_to_march)\n",
    "colnames(april_to_march)\n",
    "head(april_to_march)"
   ]
  },
  {
   "cell_type": "markdown",
   "id": "262d81a1",
   "metadata": {
    "papermill": {
     "duration": 0.026625,
     "end_time": "2022-04-23T11:57:40.891320",
     "exception": false,
     "start_time": "2022-04-23T11:57:40.864695",
     "status": "completed"
    },
    "tags": []
   },
   "source": [
    "# PHASE 3 Process Data"
   ]
  },
  {
   "cell_type": "markdown",
   "id": "2aaf72e3",
   "metadata": {
    "papermill": {
     "duration": 0.026478,
     "end_time": "2022-04-23T11:57:40.944690",
     "exception": false,
     "start_time": "2022-04-23T11:57:40.918212",
     "status": "completed"
    },
    "tags": []
   },
   "source": [
    "****Using the unique function to get the distinct values in ride types and membership types****\n",
    "\n"
   ]
  },
  {
   "cell_type": "code",
   "execution_count": 8,
   "id": "e1393686",
   "metadata": {
    "execution": {
     "iopub.execute_input": "2022-04-23T11:57:41.001613Z",
     "iopub.status.busy": "2022-04-23T11:57:41.000047Z",
     "iopub.status.idle": "2022-04-23T11:57:43.339696Z",
     "shell.execute_reply": "2022-04-23T11:57:43.337729Z"
    },
    "papermill": {
     "duration": 2.370829,
     "end_time": "2022-04-23T11:57:43.342405",
     "exception": false,
     "start_time": "2022-04-23T11:57:40.971576",
     "status": "completed"
    },
    "tags": []
   },
   "outputs": [
    {
     "data": {
      "text/html": [
       "<style>\n",
       ".list-inline {list-style: none; margin:0; padding: 0}\n",
       ".list-inline>li {display: inline-block}\n",
       ".list-inline>li:not(:last-child)::after {content: \"\\00b7\"; padding: 0 .5ex}\n",
       "</style>\n",
       "<ol class=list-inline><li>'classic_bike'</li><li>'electric_bike'</li><li>'docked_bike'</li></ol>\n"
      ],
      "text/latex": [
       "\\begin{enumerate*}\n",
       "\\item 'classic\\_bike'\n",
       "\\item 'electric\\_bike'\n",
       "\\item 'docked\\_bike'\n",
       "\\end{enumerate*}\n"
      ],
      "text/markdown": [
       "1. 'classic_bike'\n",
       "2. 'electric_bike'\n",
       "3. 'docked_bike'\n",
       "\n",
       "\n"
      ],
      "text/plain": [
       "[1] \"classic_bike\"  \"electric_bike\" \"docked_bike\"  "
      ]
     },
     "metadata": {},
     "output_type": "display_data"
    },
    {
     "data": {
      "text/html": [
       "<style>\n",
       ".list-inline {list-style: none; margin:0; padding: 0}\n",
       ".list-inline>li {display: inline-block}\n",
       ".list-inline>li:not(:last-child)::after {content: \"\\00b7\"; padding: 0 .5ex}\n",
       "</style>\n",
       "<ol class=list-inline><li>'member'</li><li>'casual'</li></ol>\n"
      ],
      "text/latex": [
       "\\begin{enumerate*}\n",
       "\\item 'member'\n",
       "\\item 'casual'\n",
       "\\end{enumerate*}\n"
      ],
      "text/markdown": [
       "1. 'member'\n",
       "2. 'casual'\n",
       "\n",
       "\n"
      ],
      "text/plain": [
       "[1] \"member\" \"casual\""
      ]
     },
     "metadata": {},
     "output_type": "display_data"
    }
   ],
   "source": [
    "unique(april_to_march$rideable_type)\n",
    "unique(april_to_march$member_casual)"
   ]
  },
  {
   "cell_type": "markdown",
   "id": "94a80018",
   "metadata": {
    "papermill": {
     "duration": 0.029033,
     "end_time": "2022-04-23T11:57:43.399879",
     "exception": false,
     "start_time": "2022-04-23T11:57:43.370846",
     "status": "completed"
    },
    "tags": []
   },
   "source": [
    "****Checking for duplicated rides****"
   ]
  },
  {
   "cell_type": "code",
   "execution_count": 9,
   "id": "d794ce8a",
   "metadata": {
    "execution": {
     "iopub.execute_input": "2022-04-23T11:57:43.462077Z",
     "iopub.status.busy": "2022-04-23T11:57:43.460412Z",
     "iopub.status.idle": "2022-04-23T11:57:44.074193Z",
     "shell.execute_reply": "2022-04-23T11:57:44.072291Z"
    },
    "papermill": {
     "duration": 0.647723,
     "end_time": "2022-04-23T11:57:44.076900",
     "exception": false,
     "start_time": "2022-04-23T11:57:43.429177",
     "status": "completed"
    },
    "tags": []
   },
   "outputs": [
    {
     "data": {
      "text/html": [
       "<table class=\"dataframe\">\n",
       "<caption>A tibble: 0 × 13</caption>\n",
       "<thead>\n",
       "\t<tr><th scope=col>ride_id</th><th scope=col>rideable_type</th><th scope=col>started_at</th><th scope=col>ended_at</th><th scope=col>start_station_name</th><th scope=col>start_station_id</th><th scope=col>end_station_name</th><th scope=col>end_station_id</th><th scope=col>start_lat</th><th scope=col>start_lng</th><th scope=col>end_lat</th><th scope=col>end_lng</th><th scope=col>member_casual</th></tr>\n",
       "\t<tr><th scope=col>&lt;chr&gt;</th><th scope=col>&lt;chr&gt;</th><th scope=col>&lt;dttm&gt;</th><th scope=col>&lt;dttm&gt;</th><th scope=col>&lt;chr&gt;</th><th scope=col>&lt;chr&gt;</th><th scope=col>&lt;chr&gt;</th><th scope=col>&lt;chr&gt;</th><th scope=col>&lt;dbl&gt;</th><th scope=col>&lt;dbl&gt;</th><th scope=col>&lt;dbl&gt;</th><th scope=col>&lt;dbl&gt;</th><th scope=col>&lt;chr&gt;</th></tr>\n",
       "</thead>\n",
       "<tbody>\n",
       "</tbody>\n",
       "</table>\n"
      ],
      "text/latex": [
       "A tibble: 0 × 13\n",
       "\\begin{tabular}{lllllllllllll}\n",
       " ride\\_id & rideable\\_type & started\\_at & ended\\_at & start\\_station\\_name & start\\_station\\_id & end\\_station\\_name & end\\_station\\_id & start\\_lat & start\\_lng & end\\_lat & end\\_lng & member\\_casual\\\\\n",
       " <chr> & <chr> & <dttm> & <dttm> & <chr> & <chr> & <chr> & <chr> & <dbl> & <dbl> & <dbl> & <dbl> & <chr>\\\\\n",
       "\\hline\n",
       "\\end{tabular}\n"
      ],
      "text/markdown": [
       "\n",
       "A tibble: 0 × 13\n",
       "\n",
       "| ride_id &lt;chr&gt; | rideable_type &lt;chr&gt; | started_at &lt;dttm&gt; | ended_at &lt;dttm&gt; | start_station_name &lt;chr&gt; | start_station_id &lt;chr&gt; | end_station_name &lt;chr&gt; | end_station_id &lt;chr&gt; | start_lat &lt;dbl&gt; | start_lng &lt;dbl&gt; | end_lat &lt;dbl&gt; | end_lng &lt;dbl&gt; | member_casual &lt;chr&gt; |\n",
       "|---|---|---|---|---|---|---|---|---|---|---|---|---|\n",
       "\n"
      ],
      "text/plain": [
       "     ride_id rideable_type started_at ended_at start_station_name\n",
       "     start_station_id end_station_name end_station_id start_lat start_lng\n",
       "     end_lat end_lng member_casual"
      ]
     },
     "metadata": {},
     "output_type": "display_data"
    }
   ],
   "source": [
    "april_to_march[duplicated(april_to_march$ride_id), ]\n"
   ]
  },
  {
   "cell_type": "markdown",
   "id": "f2222ddf",
   "metadata": {
    "papermill": {
     "duration": 0.028541,
     "end_time": "2022-04-23T11:57:44.133452",
     "exception": false,
     "start_time": "2022-04-23T11:57:44.104911",
     "status": "completed"
    },
    "tags": []
   },
   "source": [
    "output shows there are no duplicate values"
   ]
  },
  {
   "cell_type": "markdown",
   "id": "e77ff42a",
   "metadata": {
    "papermill": {
     "duration": 0.029172,
     "end_time": "2022-04-23T11:57:44.192110",
     "exception": false,
     "start_time": "2022-04-23T11:57:44.162938",
     "status": "completed"
    },
    "tags": []
   },
   "source": [
    "****Checking for negative time****\n"
   ]
  },
  {
   "cell_type": "code",
   "execution_count": 10,
   "id": "ce9256a4",
   "metadata": {
    "execution": {
     "iopub.execute_input": "2022-04-23T11:57:44.253128Z",
     "iopub.status.busy": "2022-04-23T11:57:44.251361Z",
     "iopub.status.idle": "2022-04-23T11:57:44.427182Z",
     "shell.execute_reply": "2022-04-23T11:57:44.425264Z"
    },
    "papermill": {
     "duration": 0.208673,
     "end_time": "2022-04-23T11:57:44.429939",
     "exception": false,
     "start_time": "2022-04-23T11:57:44.221266",
     "status": "completed"
    },
    "tags": []
   },
   "outputs": [
    {
     "data": {
      "text/html": [
       "<table class=\"dataframe\">\n",
       "<caption>A spec_tbl_df: 1 × 1</caption>\n",
       "<thead>\n",
       "\t<tr><th scope=col>n</th></tr>\n",
       "\t<tr><th scope=col>&lt;int&gt;</th></tr>\n",
       "</thead>\n",
       "<tbody>\n",
       "\t<tr><td>145</td></tr>\n",
       "</tbody>\n",
       "</table>\n"
      ],
      "text/latex": [
       "A spec\\_tbl\\_df: 1 × 1\n",
       "\\begin{tabular}{l}\n",
       " n\\\\\n",
       " <int>\\\\\n",
       "\\hline\n",
       "\t 145\\\\\n",
       "\\end{tabular}\n"
      ],
      "text/markdown": [
       "\n",
       "A spec_tbl_df: 1 × 1\n",
       "\n",
       "| n &lt;int&gt; |\n",
       "|---|\n",
       "| 145 |\n",
       "\n"
      ],
      "text/plain": [
       "  n  \n",
       "1 145"
      ]
     },
     "metadata": {},
     "output_type": "display_data"
    }
   ],
   "source": [
    "april_to_march %>% \n",
    "  filter(ended_at < started_at) %>% \n",
    "  count()\n"
   ]
  },
  {
   "cell_type": "markdown",
   "id": "0eb82e8d",
   "metadata": {
    "papermill": {
     "duration": 0.028233,
     "end_time": "2022-04-23T11:57:44.487693",
     "exception": false,
     "start_time": "2022-04-23T11:57:44.459460",
     "status": "completed"
    },
    "tags": []
   },
   "source": [
    "one case found and would have to be excluded from our analysis"
   ]
  },
  {
   "cell_type": "code",
   "execution_count": 11,
   "id": "c6ddb8ba",
   "metadata": {
    "execution": {
     "iopub.execute_input": "2022-04-23T11:57:44.547496Z",
     "iopub.status.busy": "2022-04-23T11:57:44.545685Z",
     "iopub.status.idle": "2022-04-23T11:57:47.434626Z",
     "shell.execute_reply": "2022-04-23T11:57:47.432710Z"
    },
    "papermill": {
     "duration": 2.921776,
     "end_time": "2022-04-23T11:57:47.437251",
     "exception": false,
     "start_time": "2022-04-23T11:57:44.515475",
     "status": "completed"
    },
    "tags": []
   },
   "outputs": [],
   "source": [
    "april_to_march<- april_to_march %>% \n",
    "  filter(ended_at > started_at)"
   ]
  },
  {
   "cell_type": "markdown",
   "id": "28c114c8",
   "metadata": {
    "papermill": {
     "duration": 0.028356,
     "end_time": "2022-04-23T11:57:47.493198",
     "exception": false,
     "start_time": "2022-04-23T11:57:47.464842",
     "status": "completed"
    },
    "tags": []
   },
   "source": [
    "****Removing rows with na values****"
   ]
  },
  {
   "cell_type": "code",
   "execution_count": 12,
   "id": "03cf8580",
   "metadata": {
    "execution": {
     "iopub.execute_input": "2022-04-23T11:57:47.550776Z",
     "iopub.status.busy": "2022-04-23T11:57:47.549007Z",
     "iopub.status.idle": "2022-04-23T11:57:51.099513Z",
     "shell.execute_reply": "2022-04-23T11:57:51.097616Z"
    },
    "papermill": {
     "duration": 3.582689,
     "end_time": "2022-04-23T11:57:51.102837",
     "exception": false,
     "start_time": "2022-04-23T11:57:47.520148",
     "status": "completed"
    },
    "tags": []
   },
   "outputs": [],
   "source": [
    "april_to_march <- april_to_march %>% \n",
    "  na.omit()"
   ]
  },
  {
   "cell_type": "markdown",
   "id": "90df323b",
   "metadata": {
    "papermill": {
     "duration": 0.026782,
     "end_time": "2022-04-23T11:57:51.156608",
     "exception": false,
     "start_time": "2022-04-23T11:57:51.129826",
     "status": "completed"
    },
    "tags": []
   },
   "source": [
    "****Renaming variables****\n"
   ]
  },
  {
   "cell_type": "code",
   "execution_count": 13,
   "id": "b77632cf",
   "metadata": {
    "execution": {
     "iopub.execute_input": "2022-04-23T11:57:51.213784Z",
     "iopub.status.busy": "2022-04-23T11:57:51.212095Z",
     "iopub.status.idle": "2022-04-23T11:58:29.925016Z",
     "shell.execute_reply": "2022-04-23T11:58:29.922235Z"
    },
    "papermill": {
     "duration": 38.770894,
     "end_time": "2022-04-23T11:58:29.954492",
     "exception": false,
     "start_time": "2022-04-23T11:57:51.183598",
     "status": "completed"
    },
    "tags": []
   },
   "outputs": [
    {
     "name": "stdout",
     "output_type": "stream",
     "text": [
      "Rows: 4,641,188\n",
      "Columns: 11\n",
      "$ ride_id            \u001b[3m\u001b[90m<chr>\u001b[39m\u001b[23m \"47EC0A7F82E65D52\", \"8494861979B0F477\", \"EFE527AF80…\n",
      "$ ride_type          \u001b[3m\u001b[90m<chr>\u001b[39m\u001b[23m \"classic_bike\", \"electric_bike\", \"classic_bike\", \"c…\n",
      "$ started_at         \u001b[3m\u001b[90m<dttm>\u001b[39m\u001b[23m 2022-03-21 13:45:01, 2022-03-16 09:37:16, 2022-03-…\n",
      "$ ended_at           \u001b[3m\u001b[90m<dttm>\u001b[39m\u001b[23m 2022-03-21 13:51:18, 2022-03-16 09:43:34, 2022-03-…\n",
      "$ start_station_name \u001b[3m\u001b[90m<chr>\u001b[39m\u001b[23m \"Wabash Ave & Wacker Pl\", \"Michigan Ave & Oak St\", …\n",
      "$ start_station_id   \u001b[3m\u001b[90m<chr>\u001b[39m\u001b[23m \"TA1307000131\", \"13042\", \"13109\", \"TA1307000131\", \"…\n",
      "$ end_station_name   \u001b[3m\u001b[90m<chr>\u001b[39m\u001b[23m \"Kingsbury St & Kinzie St\", \"Orleans St & Chestnut …\n",
      "$ end_station_id     \u001b[3m\u001b[90m<chr>\u001b[39m\u001b[23m \"KA1503000043\", \"620\", \"15578\", \"TA1305000025\", \"13…\n",
      "$ start_lat_lng      \u001b[3m\u001b[90m<chr>\u001b[39m\u001b[23m \"-87.6260341.886875\", \"-87.623751666666741.90099766…\n",
      "$ end_lat_lng        \u001b[3m\u001b[90m<chr>\u001b[39m\u001b[23m \"-87.6385057718 41.88917683258\", \"-87.637536 41.898…\n",
      "$ user_type          \u001b[3m\u001b[90m<chr>\u001b[39m\u001b[23m \"member\", \"member\", \"member\", \"member\", \"member\", \"…\n"
     ]
    }
   ],
   "source": [
    "april_to_march <- april_to_march %>% \n",
    "  rename(ride_type = rideable_type, # changing rideable_type col to ride_type\n",
    "         user_type = member_casual) %>%  # changing member_casual col to membership_type col\n",
    "  unite(start_lat_lng , c('start_lng', 'start_lat'), sep = \"\") %>% \n",
    "  unite(end_lat_lng, c('end_lng', 'end_lat'), sep = \" \")\n",
    "\n",
    "glimpse(april_to_march)\n"
   ]
  },
  {
   "cell_type": "markdown",
   "id": "ef99722d",
   "metadata": {
    "papermill": {
     "duration": 0.027992,
     "end_time": "2022-04-23T11:58:30.009753",
     "exception": false,
     "start_time": "2022-04-23T11:58:29.981761",
     "status": "completed"
    },
    "tags": []
   },
   "source": [
    "****Changing started_at and ended_at type to datetime****\n"
   ]
  },
  {
   "cell_type": "markdown",
   "id": "53da2b7e",
   "metadata": {
    "papermill": {
     "duration": 0.027007,
     "end_time": "2022-04-23T11:58:30.063813",
     "exception": false,
     "start_time": "2022-04-23T11:58:30.036806",
     "status": "completed"
    },
    "tags": []
   },
   "source": [
    "We need to change the columns containing datetime values from chr to datatime type in order to work with it\n",
    "\n"
   ]
  },
  {
   "cell_type": "code",
   "execution_count": 14,
   "id": "922ba0e7",
   "metadata": {
    "execution": {
     "iopub.execute_input": "2022-04-23T11:58:30.120973Z",
     "iopub.status.busy": "2022-04-23T11:58:30.119432Z",
     "iopub.status.idle": "2022-04-23T11:59:31.464256Z",
     "shell.execute_reply": "2022-04-23T11:59:31.462432Z"
    },
    "papermill": {
     "duration": 61.376241,
     "end_time": "2022-04-23T11:59:31.466940",
     "exception": false,
     "start_time": "2022-04-23T11:58:30.090699",
     "status": "completed"
    },
    "tags": []
   },
   "outputs": [],
   "source": [
    "april_to_march <- april_to_march %>%\n",
    "  mutate(started_at = ymd_hms(started_at),\n",
    "         ended_at = ymd_hms(ended_at))"
   ]
  },
  {
   "cell_type": "markdown",
   "id": "f24a3580",
   "metadata": {
    "papermill": {
     "duration": 0.02751,
     "end_time": "2022-04-23T11:59:31.522337",
     "exception": false,
     "start_time": "2022-04-23T11:59:31.494827",
     "status": "completed"
    },
    "tags": []
   },
   "source": [
    "****Extracting the days from the started_at variable****"
   ]
  },
  {
   "cell_type": "code",
   "execution_count": 15,
   "id": "b6a0ec67",
   "metadata": {
    "execution": {
     "iopub.execute_input": "2022-04-23T11:59:31.580046Z",
     "iopub.status.busy": "2022-04-23T11:59:31.578459Z",
     "iopub.status.idle": "2022-04-23T11:59:39.430112Z",
     "shell.execute_reply": "2022-04-23T11:59:39.428238Z"
    },
    "papermill": {
     "duration": 7.883357,
     "end_time": "2022-04-23T11:59:39.432565",
     "exception": false,
     "start_time": "2022-04-23T11:59:31.549208",
     "status": "completed"
    },
    "tags": []
   },
   "outputs": [],
   "source": [
    "april_to_march<- april_to_march %>% \n",
    "  mutate(weekday = wday(started_at, label=TRUE, abbr=TRUE))"
   ]
  },
  {
   "cell_type": "markdown",
   "id": "776aaf0c",
   "metadata": {
    "papermill": {
     "duration": 0.027823,
     "end_time": "2022-04-23T11:59:39.487993",
     "exception": false,
     "start_time": "2022-04-23T11:59:39.460170",
     "status": "completed"
    },
    "tags": []
   },
   "source": [
    "****Extracting months from started_at variable****"
   ]
  },
  {
   "cell_type": "code",
   "execution_count": 16,
   "id": "a7a0d41d",
   "metadata": {
    "execution": {
     "iopub.execute_input": "2022-04-23T11:59:39.547646Z",
     "iopub.status.busy": "2022-04-23T11:59:39.545979Z",
     "iopub.status.idle": "2022-04-23T11:59:44.452362Z",
     "shell.execute_reply": "2022-04-23T11:59:44.450480Z"
    },
    "papermill": {
     "duration": 4.938984,
     "end_time": "2022-04-23T11:59:44.454834",
     "exception": false,
     "start_time": "2022-04-23T11:59:39.515850",
     "status": "completed"
    },
    "tags": []
   },
   "outputs": [],
   "source": [
    "april_to_march <- april_to_march %>% \n",
    "  mutate(month = month(started_at, label=TRUE, abbr=TRUE))"
   ]
  },
  {
   "cell_type": "markdown",
   "id": "a0b3234b",
   "metadata": {
    "papermill": {
     "duration": 0.027716,
     "end_time": "2022-04-23T11:59:44.509862",
     "exception": false,
     "start_time": "2022-04-23T11:59:44.482146",
     "status": "completed"
    },
    "tags": []
   },
   "source": [
    "****Extracting the years from the started_at variable****"
   ]
  },
  {
   "cell_type": "code",
   "execution_count": 17,
   "id": "2440b18b",
   "metadata": {
    "execution": {
     "iopub.execute_input": "2022-04-23T11:59:44.569259Z",
     "iopub.status.busy": "2022-04-23T11:59:44.567539Z",
     "iopub.status.idle": "2022-04-23T11:59:46.455154Z",
     "shell.execute_reply": "2022-04-23T11:59:46.453261Z"
    },
    "papermill": {
     "duration": 1.91933,
     "end_time": "2022-04-23T11:59:46.457617",
     "exception": false,
     "start_time": "2022-04-23T11:59:44.538287",
     "status": "completed"
    },
    "tags": []
   },
   "outputs": [],
   "source": [
    "april_to_march<- april_to_march %>% \n",
    "  mutate(year = year(started_at))"
   ]
  },
  {
   "cell_type": "markdown",
   "id": "53535361",
   "metadata": {
    "papermill": {
     "duration": 0.027848,
     "end_time": "2022-04-23T11:59:46.513651",
     "exception": false,
     "start_time": "2022-04-23T11:59:46.485803",
     "status": "completed"
    },
    "tags": []
   },
   "source": [
    "****Extracting the time from the started_at and ended_at as a variable****"
   ]
  },
  {
   "cell_type": "code",
   "execution_count": 18,
   "id": "72414553",
   "metadata": {
    "execution": {
     "iopub.execute_input": "2022-04-23T11:59:46.571121Z",
     "iopub.status.busy": "2022-04-23T11:59:46.569360Z",
     "iopub.status.idle": "2022-04-23T12:00:04.203276Z",
     "shell.execute_reply": "2022-04-23T12:00:04.201503Z"
    },
    "papermill": {
     "duration": 17.665701,
     "end_time": "2022-04-23T12:00:04.206204",
     "exception": false,
     "start_time": "2022-04-23T11:59:46.540503",
     "status": "completed"
    },
    "tags": []
   },
   "outputs": [],
   "source": [
    "april_to_march<- april_to_march%>% \n",
    "  mutate(start_time = format(started_at, \"%H:%M:%S\")) %>% \n",
    "  mutate(end_time = format(ended_at, \"%H:%M:%S\")) %>% \n",
    "  # converting the time variable the the approriate datatype\n",
    "  mutate(start_time = hms(start_time)) %>% \n",
    "  mutate(end_time = hms(end_time))\n"
   ]
  },
  {
   "cell_type": "markdown",
   "id": "c6a1d127",
   "metadata": {
    "papermill": {
     "duration": 0.029385,
     "end_time": "2022-04-23T12:00:04.263098",
     "exception": false,
     "start_time": "2022-04-23T12:00:04.233713",
     "status": "completed"
    },
    "tags": []
   },
   "source": [
    "****Extracting the hour from the timestamp as a variable****"
   ]
  },
  {
   "cell_type": "code",
   "execution_count": 19,
   "id": "95eb5dd6",
   "metadata": {
    "execution": {
     "iopub.execute_input": "2022-04-23T12:00:04.321141Z",
     "iopub.status.busy": "2022-04-23T12:00:04.319472Z",
     "iopub.status.idle": "2022-04-23T12:00:04.337126Z",
     "shell.execute_reply": "2022-04-23T12:00:04.335253Z"
    },
    "papermill": {
     "duration": 0.049532,
     "end_time": "2022-04-23T12:00:04.339754",
     "exception": false,
     "start_time": "2022-04-23T12:00:04.290222",
     "status": "completed"
    },
    "tags": []
   },
   "outputs": [],
   "source": [
    "# creating an hour variable\n",
    "april_to_march<- april_to_march %>% \n",
    "  mutate(hour = hour(start_time))"
   ]
  },
  {
   "cell_type": "markdown",
   "id": "d6d223fe",
   "metadata": {
    "papermill": {
     "duration": 0.026955,
     "end_time": "2022-04-23T12:00:04.393714",
     "exception": false,
     "start_time": "2022-04-23T12:00:04.366759",
     "status": "completed"
    },
    "tags": []
   },
   "source": [
    "****Creating a duration variable****"
   ]
  },
  {
   "cell_type": "code",
   "execution_count": 20,
   "id": "1686f3e1",
   "metadata": {
    "execution": {
     "iopub.execute_input": "2022-04-23T12:00:04.451645Z",
     "iopub.status.busy": "2022-04-23T12:00:04.449651Z",
     "iopub.status.idle": "2022-04-23T12:00:04.520461Z",
     "shell.execute_reply": "2022-04-23T12:00:04.518737Z"
    },
    "papermill": {
     "duration": 0.102344,
     "end_time": "2022-04-23T12:00:04.522968",
     "exception": false,
     "start_time": "2022-04-23T12:00:04.420624",
     "status": "completed"
    },
    "tags": []
   },
   "outputs": [
    {
     "data": {
      "text/html": [
       "<table class=\"dataframe\">\n",
       "<caption>A tibble: 5 × 18</caption>\n",
       "<thead>\n",
       "\t<tr><th scope=col>ride_id</th><th scope=col>ride_type</th><th scope=col>started_at</th><th scope=col>ended_at</th><th scope=col>start_station_name</th><th scope=col>start_station_id</th><th scope=col>end_station_name</th><th scope=col>end_station_id</th><th scope=col>start_lat_lng</th><th scope=col>end_lat_lng</th><th scope=col>user_type</th><th scope=col>weekday</th><th scope=col>month</th><th scope=col>year</th><th scope=col>start_time</th><th scope=col>end_time</th><th scope=col>hour</th><th scope=col>duration</th></tr>\n",
       "\t<tr><th scope=col>&lt;chr&gt;</th><th scope=col>&lt;chr&gt;</th><th scope=col>&lt;dttm&gt;</th><th scope=col>&lt;dttm&gt;</th><th scope=col>&lt;chr&gt;</th><th scope=col>&lt;chr&gt;</th><th scope=col>&lt;chr&gt;</th><th scope=col>&lt;chr&gt;</th><th scope=col>&lt;chr&gt;</th><th scope=col>&lt;chr&gt;</th><th scope=col>&lt;chr&gt;</th><th scope=col>&lt;ord&gt;</th><th scope=col>&lt;ord&gt;</th><th scope=col>&lt;dbl&gt;</th><th scope=col>&lt;Period&gt;</th><th scope=col>&lt;Period&gt;</th><th scope=col>&lt;dbl&gt;</th><th scope=col>&lt;drtn&gt;</th></tr>\n",
       "</thead>\n",
       "<tbody>\n",
       "\t<tr><td>47EC0A7F82E65D52</td><td>classic_bike </td><td>2022-03-21 13:45:01</td><td>2022-03-21 13:51:18</td><td><span style=white-space:pre-wrap>Wabash Ave &amp; Wacker Pl            </span></td><td>TA1307000131</td><td><span style=white-space:pre-wrap>Kingsbury St &amp; Kinzie St            </span></td><td>KA1503000043</td><td><span style=white-space:pre-wrap>-87.6260341.886875               </span></td><td>-87.6385057718 41.88917683258</td><td>member</td><td>Mon</td><td>Mar</td><td>2022</td><td>13H 45M 1S</td><td>13H 51M 18S</td><td>13</td><td> 6.283333 mins</td></tr>\n",
       "\t<tr><td>8494861979B0F477</td><td>electric_bike</td><td>2022-03-16 09:37:16</td><td>2022-03-16 09:43:34</td><td><span style=white-space:pre-wrap>Michigan Ave &amp; Oak St             </span></td><td><span style=white-space:pre-wrap>13042       </span></td><td>Orleans St &amp; Chestnut St (NEXT Apts)</td><td><span style=white-space:pre-wrap>620         </span></td><td>-87.623751666666741.9009976666667</td><td><span style=white-space:pre-wrap>-87.637536 41.898203         </span></td><td>member</td><td>Wed</td><td>Mar</td><td>2022</td><td>9H 37M 16S</td><td>9H 43M 34S</td><td> 9</td><td> 6.300000 mins</td></tr>\n",
       "\t<tr><td>EFE527AF80B66109</td><td>classic_bike </td><td>2022-03-23 19:52:02</td><td>2022-03-23 19:54:48</td><td><span style=white-space:pre-wrap>Broadway &amp; Berwyn Ave             </span></td><td><span style=white-space:pre-wrap>13109       </span></td><td><span style=white-space:pre-wrap>Broadway &amp; Ridge Ave                </span></td><td><span style=white-space:pre-wrap>15578       </span></td><td><span style=white-space:pre-wrap>-87.65975341.978353              </span></td><td>-87.6602738295 41.9840446107 </td><td>member</td><td>Wed</td><td>Mar</td><td>2022</td><td>19H 52M 2S</td><td>19H 54M 48S</td><td>19</td><td> 2.766667 mins</td></tr>\n",
       "\t<tr><td>9F446FD9DEE3F389</td><td>classic_bike </td><td>2022-03-01 19:12:26</td><td>2022-03-01 19:22:14</td><td><span style=white-space:pre-wrap>Wabash Ave &amp; Wacker Pl            </span></td><td>TA1307000131</td><td><span style=white-space:pre-wrap>Franklin St &amp; Jackson Blvd          </span></td><td>TA1305000025</td><td><span style=white-space:pre-wrap>-87.6260341.886875               </span></td><td>-87.6353211408 41.8777079559 </td><td>member</td><td>Tue</td><td>Mar</td><td>2022</td><td>19H 12M 26S</td><td>19H 22M 14S</td><td>19</td><td> 9.800000 mins</td></tr>\n",
       "\t<tr><td>431128AD9AFFEDC0</td><td>classic_bike </td><td>2022-03-21 18:37:01</td><td>2022-03-21 19:19:11</td><td>DuSable Lake Shore Dr &amp; North Blvd</td><td><span style=white-space:pre-wrap>LF-005      </span></td><td><span style=white-space:pre-wrap>Loomis St &amp; Jackson Blvd            </span></td><td><span style=white-space:pre-wrap>13206       </span></td><td><span style=white-space:pre-wrap>-87.62680441.911722              </span></td><td><span style=white-space:pre-wrap>-87.662007 41.877945         </span></td><td>member</td><td>Mon</td><td>Mar</td><td>2022</td><td>18H 37M 1S</td><td>19H 19M 11S</td><td>18</td><td>42.166667 mins</td></tr>\n",
       "</tbody>\n",
       "</table>\n"
      ],
      "text/latex": [
       "A tibble: 5 × 18\n",
       "\\begin{tabular}{llllllllllllllllll}\n",
       " ride\\_id & ride\\_type & started\\_at & ended\\_at & start\\_station\\_name & start\\_station\\_id & end\\_station\\_name & end\\_station\\_id & start\\_lat\\_lng & end\\_lat\\_lng & user\\_type & weekday & month & year & start\\_time & end\\_time & hour & duration\\\\\n",
       " <chr> & <chr> & <dttm> & <dttm> & <chr> & <chr> & <chr> & <chr> & <chr> & <chr> & <chr> & <ord> & <ord> & <dbl> & <Period> & <Period> & <dbl> & <drtn>\\\\\n",
       "\\hline\n",
       "\t 47EC0A7F82E65D52 & classic\\_bike  & 2022-03-21 13:45:01 & 2022-03-21 13:51:18 & Wabash Ave \\& Wacker Pl             & TA1307000131 & Kingsbury St \\& Kinzie St             & KA1503000043 & -87.6260341.886875                & -87.6385057718 41.88917683258 & member & Mon & Mar & 2022 & 13H 45M 1S & 13H 51M 18S & 13 &  6.283333 mins\\\\\n",
       "\t 8494861979B0F477 & electric\\_bike & 2022-03-16 09:37:16 & 2022-03-16 09:43:34 & Michigan Ave \\& Oak St              & 13042        & Orleans St \\& Chestnut St (NEXT Apts) & 620          & -87.623751666666741.9009976666667 & -87.637536 41.898203          & member & Wed & Mar & 2022 & 9H 37M 16S & 9H 43M 34S &  9 &  6.300000 mins\\\\\n",
       "\t EFE527AF80B66109 & classic\\_bike  & 2022-03-23 19:52:02 & 2022-03-23 19:54:48 & Broadway \\& Berwyn Ave              & 13109        & Broadway \\& Ridge Ave                 & 15578        & -87.65975341.978353               & -87.6602738295 41.9840446107  & member & Wed & Mar & 2022 & 19H 52M 2S & 19H 54M 48S & 19 &  2.766667 mins\\\\\n",
       "\t 9F446FD9DEE3F389 & classic\\_bike  & 2022-03-01 19:12:26 & 2022-03-01 19:22:14 & Wabash Ave \\& Wacker Pl             & TA1307000131 & Franklin St \\& Jackson Blvd           & TA1305000025 & -87.6260341.886875                & -87.6353211408 41.8777079559  & member & Tue & Mar & 2022 & 19H 12M 26S & 19H 22M 14S & 19 &  9.800000 mins\\\\\n",
       "\t 431128AD9AFFEDC0 & classic\\_bike  & 2022-03-21 18:37:01 & 2022-03-21 19:19:11 & DuSable Lake Shore Dr \\& North Blvd & LF-005       & Loomis St \\& Jackson Blvd             & 13206        & -87.62680441.911722               & -87.662007 41.877945          & member & Mon & Mar & 2022 & 18H 37M 1S & 19H 19M 11S & 18 & 42.166667 mins\\\\\n",
       "\\end{tabular}\n"
      ],
      "text/markdown": [
       "\n",
       "A tibble: 5 × 18\n",
       "\n",
       "| ride_id &lt;chr&gt; | ride_type &lt;chr&gt; | started_at &lt;dttm&gt; | ended_at &lt;dttm&gt; | start_station_name &lt;chr&gt; | start_station_id &lt;chr&gt; | end_station_name &lt;chr&gt; | end_station_id &lt;chr&gt; | start_lat_lng &lt;chr&gt; | end_lat_lng &lt;chr&gt; | user_type &lt;chr&gt; | weekday &lt;ord&gt; | month &lt;ord&gt; | year &lt;dbl&gt; | start_time &lt;Period&gt; | end_time &lt;Period&gt; | hour &lt;dbl&gt; | duration &lt;drtn&gt; |\n",
       "|---|---|---|---|---|---|---|---|---|---|---|---|---|---|---|---|---|---|\n",
       "| 47EC0A7F82E65D52 | classic_bike  | 2022-03-21 13:45:01 | 2022-03-21 13:51:18 | Wabash Ave &amp; Wacker Pl             | TA1307000131 | Kingsbury St &amp; Kinzie St             | KA1503000043 | -87.6260341.886875                | -87.6385057718 41.88917683258 | member | Mon | Mar | 2022 | 13H 45M 1S | 13H 51M 18S | 13 |  6.283333 mins |\n",
       "| 8494861979B0F477 | electric_bike | 2022-03-16 09:37:16 | 2022-03-16 09:43:34 | Michigan Ave &amp; Oak St              | 13042        | Orleans St &amp; Chestnut St (NEXT Apts) | 620          | -87.623751666666741.9009976666667 | -87.637536 41.898203          | member | Wed | Mar | 2022 | 9H 37M 16S | 9H 43M 34S |  9 |  6.300000 mins |\n",
       "| EFE527AF80B66109 | classic_bike  | 2022-03-23 19:52:02 | 2022-03-23 19:54:48 | Broadway &amp; Berwyn Ave              | 13109        | Broadway &amp; Ridge Ave                 | 15578        | -87.65975341.978353               | -87.6602738295 41.9840446107  | member | Wed | Mar | 2022 | 19H 52M 2S | 19H 54M 48S | 19 |  2.766667 mins |\n",
       "| 9F446FD9DEE3F389 | classic_bike  | 2022-03-01 19:12:26 | 2022-03-01 19:22:14 | Wabash Ave &amp; Wacker Pl             | TA1307000131 | Franklin St &amp; Jackson Blvd           | TA1305000025 | -87.6260341.886875                | -87.6353211408 41.8777079559  | member | Tue | Mar | 2022 | 19H 12M 26S | 19H 22M 14S | 19 |  9.800000 mins |\n",
       "| 431128AD9AFFEDC0 | classic_bike  | 2022-03-21 18:37:01 | 2022-03-21 19:19:11 | DuSable Lake Shore Dr &amp; North Blvd | LF-005       | Loomis St &amp; Jackson Blvd             | 13206        | -87.62680441.911722               | -87.662007 41.877945          | member | Mon | Mar | 2022 | 18H 37M 1S | 19H 19M 11S | 18 | 42.166667 mins |\n",
       "\n"
      ],
      "text/plain": [
       "  ride_id          ride_type     started_at          ended_at           \n",
       "1 47EC0A7F82E65D52 classic_bike  2022-03-21 13:45:01 2022-03-21 13:51:18\n",
       "2 8494861979B0F477 electric_bike 2022-03-16 09:37:16 2022-03-16 09:43:34\n",
       "3 EFE527AF80B66109 classic_bike  2022-03-23 19:52:02 2022-03-23 19:54:48\n",
       "4 9F446FD9DEE3F389 classic_bike  2022-03-01 19:12:26 2022-03-01 19:22:14\n",
       "5 431128AD9AFFEDC0 classic_bike  2022-03-21 18:37:01 2022-03-21 19:19:11\n",
       "  start_station_name                 start_station_id\n",
       "1 Wabash Ave & Wacker Pl             TA1307000131    \n",
       "2 Michigan Ave & Oak St              13042           \n",
       "3 Broadway & Berwyn Ave              13109           \n",
       "4 Wabash Ave & Wacker Pl             TA1307000131    \n",
       "5 DuSable Lake Shore Dr & North Blvd LF-005          \n",
       "  end_station_name                     end_station_id\n",
       "1 Kingsbury St & Kinzie St             KA1503000043  \n",
       "2 Orleans St & Chestnut St (NEXT Apts) 620           \n",
       "3 Broadway & Ridge Ave                 15578         \n",
       "4 Franklin St & Jackson Blvd           TA1305000025  \n",
       "5 Loomis St & Jackson Blvd             13206         \n",
       "  start_lat_lng                     end_lat_lng                   user_type\n",
       "1 -87.6260341.886875                -87.6385057718 41.88917683258 member   \n",
       "2 -87.623751666666741.9009976666667 -87.637536 41.898203          member   \n",
       "3 -87.65975341.978353               -87.6602738295 41.9840446107  member   \n",
       "4 -87.6260341.886875                -87.6353211408 41.8777079559  member   \n",
       "5 -87.62680441.911722               -87.662007 41.877945          member   \n",
       "  weekday month year start_time  end_time    hour duration      \n",
       "1 Mon     Mar   2022 13H 45M 1S  13H 51M 18S 13    6.283333 mins\n",
       "2 Wed     Mar   2022 9H 37M 16S  9H 43M 34S   9    6.300000 mins\n",
       "3 Wed     Mar   2022 19H 52M 2S  19H 54M 48S 19    2.766667 mins\n",
       "4 Tue     Mar   2022 19H 12M 26S 19H 22M 14S 19    9.800000 mins\n",
       "5 Mon     Mar   2022 18H 37M 1S  19H 19M 11S 18   42.166667 mins"
      ]
     },
     "metadata": {},
     "output_type": "display_data"
    }
   ],
   "source": [
    "# Creating duration variable in mins\n",
    "april_to_march$duration <- difftime(april_to_march$ended_at, \n",
    "                               april_to_march$started_at, units = \"mins\")\n",
    "\n",
    "head(april_to_march, 5)\n"
   ]
  },
  {
   "cell_type": "markdown",
   "id": "8f2ec851",
   "metadata": {
    "papermill": {
     "duration": 0.028735,
     "end_time": "2022-04-23T12:00:04.579950",
     "exception": false,
     "start_time": "2022-04-23T12:00:04.551215",
     "status": "completed"
    },
    "tags": []
   },
   "source": [
    "# PHASE 4 - Analyze Data\n"
   ]
  },
  {
   "cell_type": "markdown",
   "id": "e29192c5",
   "metadata": {
    "papermill": {
     "duration": 0.027666,
     "end_time": "2022-04-23T12:00:04.636839",
     "exception": false,
     "start_time": "2022-04-23T12:00:04.609173",
     "status": "completed"
    },
    "tags": []
   },
   "source": [
    "****checking for the count of members and casual riders****"
   ]
  },
  {
   "cell_type": "code",
   "execution_count": 21,
   "id": "e4ff4166",
   "metadata": {
    "execution": {
     "iopub.execute_input": "2022-04-23T12:00:04.697039Z",
     "iopub.status.busy": "2022-04-23T12:00:04.695279Z",
     "iopub.status.idle": "2022-04-23T12:00:05.483341Z",
     "shell.execute_reply": "2022-04-23T12:00:05.481085Z"
    },
    "papermill": {
     "duration": 0.821849,
     "end_time": "2022-04-23T12:00:05.486432",
     "exception": false,
     "start_time": "2022-04-23T12:00:04.664583",
     "status": "completed"
    },
    "tags": []
   },
   "outputs": [
    {
     "data": {
      "text/plain": [
       "\n",
       " casual  member \n",
       "2044256 2596932 "
      ]
     },
     "metadata": {},
     "output_type": "display_data"
    },
    {
     "data": {
      "text/plain": [
       "\n",
       " classic_bike   docked_bike electric_bike \n",
       "      3241837        303515       1095836 "
      ]
     },
     "metadata": {},
     "output_type": "display_data"
    }
   ],
   "source": [
    "table(april_to_march$user_type)\n",
    "table(april_to_march$ride_type)"
   ]
  },
  {
   "cell_type": "markdown",
   "id": "b9262ede",
   "metadata": {
    "papermill": {
     "duration": 0.02868,
     "end_time": "2022-04-23T12:00:05.543215",
     "exception": false,
     "start_time": "2022-04-23T12:00:05.514535",
     "status": "completed"
    },
    "tags": []
   },
   "source": [
    "****visualizing the user count as a bar chart****"
   ]
  },
  {
   "cell_type": "code",
   "execution_count": 22,
   "id": "f87aff30",
   "metadata": {
    "execution": {
     "iopub.execute_input": "2022-04-23T12:00:05.603778Z",
     "iopub.status.busy": "2022-04-23T12:00:05.602006Z",
     "iopub.status.idle": "2022-04-23T12:00:11.615250Z",
     "shell.execute_reply": "2022-04-23T12:00:11.612606Z"
    },
    "papermill": {
     "duration": 6.047279,
     "end_time": "2022-04-23T12:00:11.618306",
     "exception": false,
     "start_time": "2022-04-23T12:00:05.571027",
     "status": "completed"
    },
    "tags": []
   },
   "outputs": [
    {
     "data": {
      "image/png": "[encoded data removed]"
     },
     "metadata": {
      "image/png": {
       "height": 420,
       "width": 420
      }
     },
     "output_type": "display_data"
    }
   ],
   "source": [
    "ggplot(april_to_march, aes(user_type, fill = user_type)) +\n",
    "  geom_bar() +\n",
    "labs(title = 'User type Count',\n",
    "    x = 'User Type',\n",
    "    y = 'Count')\n",
    "# casual -> 2240479\n",
    "# member -> 267181\n",
    "\n"
   ]
  },
  {
   "cell_type": "markdown",
   "id": "3a2bcadc",
   "metadata": {
    "papermill": {
     "duration": 0.030419,
     "end_time": "2022-04-23T12:00:11.678694",
     "exception": false,
     "start_time": "2022-04-23T12:00:11.648275",
     "status": "completed"
    },
    "tags": []
   },
   "source": [
    "****As a pie chart****"
   ]
  },
  {
   "cell_type": "code",
   "execution_count": 23,
   "id": "10020571",
   "metadata": {
    "execution": {
     "iopub.execute_input": "2022-04-23T12:00:11.747523Z",
     "iopub.status.busy": "2022-04-23T12:00:11.745827Z",
     "iopub.status.idle": "2022-04-23T12:00:16.534425Z",
     "shell.execute_reply": "2022-04-23T12:00:16.532194Z"
    },
    "papermill": {
     "duration": 4.825934,
     "end_time": "2022-04-23T12:00:16.537514",
     "exception": false,
     "start_time": "2022-04-23T12:00:11.711580",
     "status": "completed"
    },
    "tags": []
   },
   "outputs": [
    {
     "name": "stderr",
     "output_type": "stream",
     "text": [
      "Warning message:\n",
      "“Ignoring unknown parameters: start”\n"
     ]
    },
    {
     "data": {
      "image/png": "[encoded data removed]"
     },
     "metadata": {
      "image/png": {
       "height": 420,
       "width": 420
      }
     },
     "output_type": "display_data"
    }
   ],
   "source": [
    "#first create a barplot\n",
    "bp<- ggplot(april_to_march,aes(x=\"\", fill=user_type)) + \n",
    "geom_bar(width = 1, start =\"identity\") \n",
    "#then use the barplot to create a pie chart\n",
    "pie<-bp+ coord_polar(\"y\",start=0)\n",
    "pie"
   ]
  },
  {
   "cell_type": "markdown",
   "id": "ce168930",
   "metadata": {
    "papermill": {
     "duration": 0.031457,
     "end_time": "2022-04-23T12:00:16.601079",
     "exception": false,
     "start_time": "2022-04-23T12:00:16.569622",
     "status": "completed"
    },
    "tags": []
   },
   "source": [
    "****Visualizing count of rides by ride_type and user_type****"
   ]
  },
  {
   "cell_type": "code",
   "execution_count": 24,
   "id": "835dc8a6",
   "metadata": {
    "execution": {
     "iopub.execute_input": "2022-04-23T12:00:16.669921Z",
     "iopub.status.busy": "2022-04-23T12:00:16.668033Z",
     "iopub.status.idle": "2022-04-23T12:00:24.393969Z",
     "shell.execute_reply": "2022-04-23T12:00:24.391975Z"
    },
    "papermill": {
     "duration": 7.76228,
     "end_time": "2022-04-23T12:00:24.396437",
     "exception": false,
     "start_time": "2022-04-23T12:00:16.634157",
     "status": "completed"
    },
    "tags": []
   },
   "outputs": [
    {
     "data": {
      "image/png": "[encoded data removed]"
     },
     "metadata": {
      "image/png": {
       "height": 420,
       "width": 420
      }
     },
     "output_type": "display_data"
    }
   ],
   "source": [
    "april_to_march %>%\n",
    "ggplot(aes(x = ride_type, fill = ride_type)) +\n",
    "  geom_bar() +\n",
    "  facet_wrap(~user_type) +\n",
    "  labs(title = 'Count of Casual and Members Riders', \n",
    "       x = 'Ride Type',\n",
    "       y = 'Count')"
   ]
  },
  {
   "cell_type": "markdown",
   "id": "d6b89188",
   "metadata": {
    "papermill": {
     "duration": 0.030599,
     "end_time": "2022-04-23T12:00:24.458047",
     "exception": false,
     "start_time": "2022-04-23T12:00:24.427448",
     "status": "completed"
    },
    "tags": []
   },
   "source": []
  },
  {
   "cell_type": "markdown",
   "id": "5aa7826c",
   "metadata": {
    "papermill": {
     "duration": 0.031547,
     "end_time": "2022-04-23T12:00:24.520537",
     "exception": false,
     "start_time": "2022-04-23T12:00:24.488990",
     "status": "completed"
    },
    "tags": []
   },
   "source": [
    "****Getting the total numbers of ride for each user type for each ride type and the percentage****\n"
   ]
  },
  {
   "cell_type": "code",
   "execution_count": 25,
   "id": "69c00bd6",
   "metadata": {
    "execution": {
     "iopub.execute_input": "2022-04-23T12:00:24.585836Z",
     "iopub.status.busy": "2022-04-23T12:00:24.583728Z",
     "iopub.status.idle": "2022-04-23T12:00:24.788936Z",
     "shell.execute_reply": "2022-04-23T12:00:24.787121Z"
    },
    "papermill": {
     "duration": 0.239948,
     "end_time": "2022-04-23T12:00:24.791453",
     "exception": false,
     "start_time": "2022-04-23T12:00:24.551505",
     "status": "completed"
    },
    "tags": []
   },
   "outputs": [
    {
     "data": {
      "text/html": [
       "<table class=\"dataframe\">\n",
       "<caption>A grouped_df: 5 × 4</caption>\n",
       "<thead>\n",
       "\t<tr><th scope=col>ride_type</th><th scope=col>user_type</th><th scope=col>n</th><th scope=col>percentage</th></tr>\n",
       "\t<tr><th scope=col>&lt;chr&gt;</th><th scope=col>&lt;chr&gt;</th><th scope=col>&lt;int&gt;</th><th scope=col>&lt;dbl&gt;</th></tr>\n",
       "</thead>\n",
       "<tbody>\n",
       "\t<tr><td>classic_bike </td><td>member</td><td>1989279</td><td>40.498145</td></tr>\n",
       "\t<tr><td>classic_bike </td><td>casual</td><td>1252558</td><td>25.499830</td></tr>\n",
       "\t<tr><td>electric_bike</td><td>member</td><td> 607653</td><td>12.370723</td></tr>\n",
       "\t<tr><td>electric_bike</td><td>casual</td><td> 488183</td><td> 9.938528</td></tr>\n",
       "\t<tr><td>docked_bike  </td><td>casual</td><td> 303515</td><td> 6.179020</td></tr>\n",
       "</tbody>\n",
       "</table>\n"
      ],
      "text/latex": [
       "A grouped\\_df: 5 × 4\n",
       "\\begin{tabular}{llll}\n",
       " ride\\_type & user\\_type & n & percentage\\\\\n",
       " <chr> & <chr> & <int> & <dbl>\\\\\n",
       "\\hline\n",
       "\t classic\\_bike  & member & 1989279 & 40.498145\\\\\n",
       "\t classic\\_bike  & casual & 1252558 & 25.499830\\\\\n",
       "\t electric\\_bike & member &  607653 & 12.370723\\\\\n",
       "\t electric\\_bike & casual &  488183 &  9.938528\\\\\n",
       "\t docked\\_bike   & casual &  303515 &  6.179020\\\\\n",
       "\\end{tabular}\n"
      ],
      "text/markdown": [
       "\n",
       "A grouped_df: 5 × 4\n",
       "\n",
       "| ride_type &lt;chr&gt; | user_type &lt;chr&gt; | n &lt;int&gt; | percentage &lt;dbl&gt; |\n",
       "|---|---|---|---|\n",
       "| classic_bike  | member | 1989279 | 40.498145 |\n",
       "| classic_bike  | casual | 1252558 | 25.499830 |\n",
       "| electric_bike | member |  607653 | 12.370723 |\n",
       "| electric_bike | casual |  488183 |  9.938528 |\n",
       "| docked_bike   | casual |  303515 |  6.179020 |\n",
       "\n"
      ],
      "text/plain": [
       "  ride_type     user_type n       percentage\n",
       "1 classic_bike  member    1989279 40.498145 \n",
       "2 classic_bike  casual    1252558 25.499830 \n",
       "3 electric_bike member     607653 12.370723 \n",
       "4 electric_bike casual     488183  9.938528 \n",
       "5 docked_bike   casual     303515  6.179020 "
      ]
     },
     "metadata": {},
     "output_type": "display_data"
    }
   ],
   "source": [
    "df <- april_to_march %>% \n",
    "  select(ride_id, user_type, ride_type) %>% \n",
    "  group_by(ride_type, user_type) %>% \n",
    "  count() %>% \n",
    "  mutate(percentage = (n/4912025*100)) %>% \n",
    "  arrange(-percentage) #to arrange by percentage in descending order\n",
    "\n",
    "head(df)\n"
   ]
  },
  {
   "cell_type": "markdown",
   "id": "9243f437",
   "metadata": {
    "papermill": {
     "duration": 0.030455,
     "end_time": "2022-04-23T12:00:24.852965",
     "exception": false,
     "start_time": "2022-04-23T12:00:24.822510",
     "status": "completed"
    },
    "tags": []
   },
   "source": [
    "****Getting the no of rides for each month****"
   ]
  },
  {
   "cell_type": "code",
   "execution_count": 26,
   "id": "2477f933",
   "metadata": {
    "execution": {
     "iopub.execute_input": "2022-04-23T12:00:24.917974Z",
     "iopub.status.busy": "2022-04-23T12:00:24.916202Z",
     "iopub.status.idle": "2022-04-23T12:00:25.171633Z",
     "shell.execute_reply": "2022-04-23T12:00:25.169628Z"
    },
    "papermill": {
     "duration": 0.290714,
     "end_time": "2022-04-23T12:00:25.174175",
     "exception": false,
     "start_time": "2022-04-23T12:00:24.883461",
     "status": "completed"
    },
    "tags": []
   },
   "outputs": [
    {
     "data": {
      "text/html": [
       "<table class=\"dataframe\">\n",
       "<caption>A grouped_df: 6 × 3</caption>\n",
       "<thead>\n",
       "\t<tr><th scope=col>month</th><th scope=col>user_type</th><th scope=col>n</th></tr>\n",
       "\t<tr><th scope=col>&lt;ord&gt;</th><th scope=col>&lt;chr&gt;</th><th scope=col>&lt;int&gt;</th></tr>\n",
       "</thead>\n",
       "<tbody>\n",
       "\t<tr><td>Jan</td><td>casual</td><td> 12605</td></tr>\n",
       "\t<tr><td>Jan</td><td>member</td><td> 67523</td></tr>\n",
       "\t<tr><td>Feb</td><td>casual</td><td> 15143</td></tr>\n",
       "\t<tr><td>Feb</td><td>member</td><td> 74031</td></tr>\n",
       "\t<tr><td>Mar</td><td>casual</td><td> 67150</td></tr>\n",
       "\t<tr><td>Mar</td><td>member</td><td>148821</td></tr>\n",
       "</tbody>\n",
       "</table>\n"
      ],
      "text/latex": [
       "A grouped\\_df: 6 × 3\n",
       "\\begin{tabular}{lll}\n",
       " month & user\\_type & n\\\\\n",
       " <ord> & <chr> & <int>\\\\\n",
       "\\hline\n",
       "\t Jan & casual &  12605\\\\\n",
       "\t Jan & member &  67523\\\\\n",
       "\t Feb & casual &  15143\\\\\n",
       "\t Feb & member &  74031\\\\\n",
       "\t Mar & casual &  67150\\\\\n",
       "\t Mar & member & 148821\\\\\n",
       "\\end{tabular}\n"
      ],
      "text/markdown": [
       "\n",
       "A grouped_df: 6 × 3\n",
       "\n",
       "| month &lt;ord&gt; | user_type &lt;chr&gt; | n &lt;int&gt; |\n",
       "|---|---|---|\n",
       "| Jan | casual |  12605 |\n",
       "| Jan | member |  67523 |\n",
       "| Feb | casual |  15143 |\n",
       "| Feb | member |  74031 |\n",
       "| Mar | casual |  67150 |\n",
       "| Mar | member | 148821 |\n",
       "\n"
      ],
      "text/plain": [
       "  month user_type n     \n",
       "1 Jan   casual     12605\n",
       "2 Jan   member     67523\n",
       "3 Feb   casual     15143\n",
       "4 Feb   member     74031\n",
       "5 Mar   casual     67150\n",
       "6 Mar   member    148821"
      ]
     },
     "metadata": {},
     "output_type": "display_data"
    }
   ],
   "source": [
    "df_month <- april_to_march %>% \n",
    "    select(user_type, month) %>% \n",
    "    group_by(month, user_type) %>% \n",
    "    count() %>% \n",
    "    arrange()\n",
    "head(df_month)"
   ]
  },
  {
   "cell_type": "markdown",
   "id": "61734aa8",
   "metadata": {
    "papermill": {
     "duration": 0.031616,
     "end_time": "2022-04-23T12:00:25.237215",
     "exception": false,
     "start_time": "2022-04-23T12:00:25.205599",
     "status": "completed"
    },
    "tags": []
   },
   "source": [
    "****Visualizing the number of rides per months****\n"
   ]
  },
  {
   "cell_type": "code",
   "execution_count": 27,
   "id": "b0c28d6e",
   "metadata": {
    "execution": {
     "iopub.execute_input": "2022-04-23T12:00:25.303702Z",
     "iopub.status.busy": "2022-04-23T12:00:25.301904Z",
     "iopub.status.idle": "2022-04-23T12:00:25.934514Z",
     "shell.execute_reply": "2022-04-23T12:00:25.930899Z"
    },
    "papermill": {
     "duration": 0.66911,
     "end_time": "2022-04-23T12:00:25.937731",
     "exception": false,
     "start_time": "2022-04-23T12:00:25.268621",
     "status": "completed"
    },
    "tags": []
   },
   "outputs": [
    {
     "data": {
      "image/png": "[encoded data removed]"
     },
     "metadata": {
      "image/png": {
       "height": 420,
       "width": 420
      }
     },
     "output_type": "display_data"
    }
   ],
   "source": [
    "ggplot(df_month, aes(x=month,y=n, fill = month)) +\n",
    "  geom_col() +\n",
    "  facet_wrap(~user_type) +\n",
    "  labs(title = 'Number of Rides per Months',\n",
    "       x = 'Months',\n",
    "       y = 'Count')\n"
   ]
  },
  {
   "cell_type": "markdown",
   "id": "d2b1cdc9",
   "metadata": {
    "papermill": {
     "duration": 0.032962,
     "end_time": "2022-04-23T12:00:26.003376",
     "exception": false,
     "start_time": "2022-04-23T12:00:25.970414",
     "status": "completed"
    },
    "tags": []
   },
   "source": [
    "****Getting the no of rides for each weekday****"
   ]
  },
  {
   "cell_type": "code",
   "execution_count": 28,
   "id": "66a8b1f2",
   "metadata": {
    "execution": {
     "iopub.execute_input": "2022-04-23T12:00:26.074191Z",
     "iopub.status.busy": "2022-04-23T12:00:26.072478Z",
     "iopub.status.idle": "2022-04-23T12:00:26.092270Z",
     "shell.execute_reply": "2022-04-23T12:00:26.089962Z"
    },
    "papermill": {
     "duration": 0.058789,
     "end_time": "2022-04-23T12:00:26.095330",
     "exception": false,
     "start_time": "2022-04-23T12:00:26.036541",
     "status": "completed"
    },
    "tags": []
   },
   "outputs": [
    {
     "data": {
      "text/html": [
       "<style>\n",
       ".list-inline {list-style: none; margin:0; padding: 0}\n",
       ".list-inline>li {display: inline-block}\n",
       ".list-inline>li:not(:last-child)::after {content: \"\\00b7\"; padding: 0 .5ex}\n",
       "</style>\n",
       "<ol class=list-inline><li>'ride_id'</li><li>'ride_type'</li><li>'started_at'</li><li>'ended_at'</li><li>'start_station_name'</li><li>'start_station_id'</li><li>'end_station_name'</li><li>'end_station_id'</li><li>'start_lat_lng'</li><li>'end_lat_lng'</li><li>'user_type'</li><li>'weekday'</li><li>'month'</li><li>'year'</li><li>'start_time'</li><li>'end_time'</li><li>'hour'</li><li>'duration'</li></ol>\n"
      ],
      "text/latex": [
       "\\begin{enumerate*}\n",
       "\\item 'ride\\_id'\n",
       "\\item 'ride\\_type'\n",
       "\\item 'started\\_at'\n",
       "\\item 'ended\\_at'\n",
       "\\item 'start\\_station\\_name'\n",
       "\\item 'start\\_station\\_id'\n",
       "\\item 'end\\_station\\_name'\n",
       "\\item 'end\\_station\\_id'\n",
       "\\item 'start\\_lat\\_lng'\n",
       "\\item 'end\\_lat\\_lng'\n",
       "\\item 'user\\_type'\n",
       "\\item 'weekday'\n",
       "\\item 'month'\n",
       "\\item 'year'\n",
       "\\item 'start\\_time'\n",
       "\\item 'end\\_time'\n",
       "\\item 'hour'\n",
       "\\item 'duration'\n",
       "\\end{enumerate*}\n"
      ],
      "text/markdown": [
       "1. 'ride_id'\n",
       "2. 'ride_type'\n",
       "3. 'started_at'\n",
       "4. 'ended_at'\n",
       "5. 'start_station_name'\n",
       "6. 'start_station_id'\n",
       "7. 'end_station_name'\n",
       "8. 'end_station_id'\n",
       "9. 'start_lat_lng'\n",
       "10. 'end_lat_lng'\n",
       "11. 'user_type'\n",
       "12. 'weekday'\n",
       "13. 'month'\n",
       "14. 'year'\n",
       "15. 'start_time'\n",
       "16. 'end_time'\n",
       "17. 'hour'\n",
       "18. 'duration'\n",
       "\n",
       "\n"
      ],
      "text/plain": [
       " [1] \"ride_id\"            \"ride_type\"          \"started_at\"        \n",
       " [4] \"ended_at\"           \"start_station_name\" \"start_station_id\"  \n",
       " [7] \"end_station_name\"   \"end_station_id\"     \"start_lat_lng\"     \n",
       "[10] \"end_lat_lng\"        \"user_type\"          \"weekday\"           \n",
       "[13] \"month\"              \"year\"               \"start_time\"        \n",
       "[16] \"end_time\"           \"hour\"               \"duration\"          "
      ]
     },
     "metadata": {},
     "output_type": "display_data"
    }
   ],
   "source": [
    "colnames(april_to_march)"
   ]
  },
  {
   "cell_type": "code",
   "execution_count": 29,
   "id": "637c9724",
   "metadata": {
    "execution": {
     "iopub.execute_input": "2022-04-23T12:00:26.163209Z",
     "iopub.status.busy": "2022-04-23T12:00:26.161495Z",
     "iopub.status.idle": "2022-04-23T12:00:27.338392Z",
     "shell.execute_reply": "2022-04-23T12:00:27.335963Z"
    },
    "papermill": {
     "duration": 1.214692,
     "end_time": "2022-04-23T12:00:27.342138",
     "exception": false,
     "start_time": "2022-04-23T12:00:26.127446",
     "status": "completed"
    },
    "tags": []
   },
   "outputs": [
    {
     "data": {
      "text/html": [
       "<table class=\"dataframe\">\n",
       "<caption>A grouped_df: 6 × 3</caption>\n",
       "<thead>\n",
       "\t<tr><th scope=col>weekday</th><th scope=col>user_type</th><th scope=col>n</th></tr>\n",
       "\t<tr><th scope=col>&lt;ord&gt;</th><th scope=col>&lt;chr&gt;</th><th scope=col>&lt;int&gt;</th></tr>\n",
       "</thead>\n",
       "<tbody>\n",
       "\t<tr><td>Sun</td><td>casual</td><td>402105</td></tr>\n",
       "\t<tr><td>Mon</td><td>casual</td><td>231686</td></tr>\n",
       "\t<tr><td>Tue</td><td>casual</td><td>213936</td></tr>\n",
       "\t<tr><td>Wed</td><td>casual</td><td>222069</td></tr>\n",
       "\t<tr><td>Thu</td><td>casual</td><td>228205</td></tr>\n",
       "\t<tr><td>Fri</td><td>casual</td><td>288223</td></tr>\n",
       "</tbody>\n",
       "</table>\n"
      ],
      "text/latex": [
       "A grouped\\_df: 6 × 3\n",
       "\\begin{tabular}{lll}\n",
       " weekday & user\\_type & n\\\\\n",
       " <ord> & <chr> & <int>\\\\\n",
       "\\hline\n",
       "\t Sun & casual & 402105\\\\\n",
       "\t Mon & casual & 231686\\\\\n",
       "\t Tue & casual & 213936\\\\\n",
       "\t Wed & casual & 222069\\\\\n",
       "\t Thu & casual & 228205\\\\\n",
       "\t Fri & casual & 288223\\\\\n",
       "\\end{tabular}\n"
      ],
      "text/markdown": [
       "\n",
       "A grouped_df: 6 × 3\n",
       "\n",
       "| weekday &lt;ord&gt; | user_type &lt;chr&gt; | n &lt;int&gt; |\n",
       "|---|---|---|\n",
       "| Sun | casual | 402105 |\n",
       "| Mon | casual | 231686 |\n",
       "| Tue | casual | 213936 |\n",
       "| Wed | casual | 222069 |\n",
       "| Thu | casual | 228205 |\n",
       "| Fri | casual | 288223 |\n",
       "\n"
      ],
      "text/plain": [
       "  weekday user_type n     \n",
       "1 Sun     casual    402105\n",
       "2 Mon     casual    231686\n",
       "3 Tue     casual    213936\n",
       "4 Wed     casual    222069\n",
       "5 Thu     casual    228205\n",
       "6 Fri     casual    288223"
      ]
     },
     "metadata": {},
     "output_type": "display_data"
    }
   ],
   "source": [
    "df_weekdays <- april_to_march %>% \n",
    "  select(user_type,weekday) %>% \n",
    "  group_by(weekday, user_type) %>% \n",
    "  count() %>% \n",
    "  arrange(user_type)\n",
    "\n",
    "head(df_weekdays)"
   ]
  },
  {
   "cell_type": "markdown",
   "id": "bb4e4500",
   "metadata": {
    "papermill": {
     "duration": 0.032508,
     "end_time": "2022-04-23T12:00:27.411502",
     "exception": false,
     "start_time": "2022-04-23T12:00:27.378994",
     "status": "completed"
    },
    "tags": []
   },
   "source": [
    "****Visualizing the  weekday data****\n"
   ]
  },
  {
   "cell_type": "code",
   "execution_count": 30,
   "id": "6a411529",
   "metadata": {
    "execution": {
     "iopub.execute_input": "2022-04-23T12:00:27.479744Z",
     "iopub.status.busy": "2022-04-23T12:00:27.477940Z",
     "iopub.status.idle": "2022-04-23T12:00:28.012613Z",
     "shell.execute_reply": "2022-04-23T12:00:28.010513Z"
    },
    "papermill": {
     "duration": 0.571484,
     "end_time": "2022-04-23T12:00:28.015260",
     "exception": false,
     "start_time": "2022-04-23T12:00:27.443776",
     "status": "completed"
    },
    "tags": []
   },
   "outputs": [
    {
     "data": {
      "image/png": "[encoded data removed]"
     },
     "metadata": {
      "image/png": {
       "height": 420,
       "width": 420
      }
     },
     "output_type": "display_data"
    }
   ],
   "source": [
    "ggplot(df_weekdays, aes(weekday, y=n, fill = weekday)) +\n",
    "  geom_col(position = \"dodge\") +\n",
    "  facet_wrap(~user_type) +\n",
    "  labs(title = \"Number of Rides Per Weekday\",\n",
    "       x = 'Weekdays',\n",
    "       y = 'Count')\n"
   ]
  },
  {
   "cell_type": "markdown",
   "id": "13a39f39",
   "metadata": {
    "papermill": {
     "duration": 0.03415,
     "end_time": "2022-04-23T12:00:28.083732",
     "exception": false,
     "start_time": "2022-04-23T12:00:28.049582",
     "status": "completed"
    },
    "tags": []
   },
   "source": [
    "****Getting the number of rides for each hour of the day****\n"
   ]
  },
  {
   "cell_type": "code",
   "execution_count": 31,
   "id": "6ec5f6ef",
   "metadata": {
    "execution": {
     "iopub.execute_input": "2022-04-23T12:00:28.155794Z",
     "iopub.status.busy": "2022-04-23T12:00:28.153781Z",
     "iopub.status.idle": "2022-04-23T12:00:28.440384Z",
     "shell.execute_reply": "2022-04-23T12:00:28.438581Z"
    },
    "papermill": {
     "duration": 0.324165,
     "end_time": "2022-04-23T12:00:28.442996",
     "exception": false,
     "start_time": "2022-04-23T12:00:28.118831",
     "status": "completed"
    },
    "tags": []
   },
   "outputs": [
    {
     "data": {
      "text/html": [
       "<table class=\"dataframe\">\n",
       "<caption>A grouped_df: 6 × 3</caption>\n",
       "<thead>\n",
       "\t<tr><th scope=col>hour</th><th scope=col>user_type</th><th scope=col>n</th></tr>\n",
       "\t<tr><th scope=col>&lt;dbl&gt;</th><th scope=col>&lt;chr&gt;</th><th scope=col>&lt;int&gt;</th></tr>\n",
       "</thead>\n",
       "<tbody>\n",
       "\t<tr><td>0</td><td>casual</td><td>42116</td></tr>\n",
       "\t<tr><td>1</td><td>casual</td><td>30724</td></tr>\n",
       "\t<tr><td>2</td><td>casual</td><td>19792</td></tr>\n",
       "\t<tr><td>3</td><td>casual</td><td>10322</td></tr>\n",
       "\t<tr><td>4</td><td>casual</td><td> 6674</td></tr>\n",
       "\t<tr><td>5</td><td>casual</td><td> 9029</td></tr>\n",
       "</tbody>\n",
       "</table>\n"
      ],
      "text/latex": [
       "A grouped\\_df: 6 × 3\n",
       "\\begin{tabular}{lll}\n",
       " hour & user\\_type & n\\\\\n",
       " <dbl> & <chr> & <int>\\\\\n",
       "\\hline\n",
       "\t 0 & casual & 42116\\\\\n",
       "\t 1 & casual & 30724\\\\\n",
       "\t 2 & casual & 19792\\\\\n",
       "\t 3 & casual & 10322\\\\\n",
       "\t 4 & casual &  6674\\\\\n",
       "\t 5 & casual &  9029\\\\\n",
       "\\end{tabular}\n"
      ],
      "text/markdown": [
       "\n",
       "A grouped_df: 6 × 3\n",
       "\n",
       "| hour &lt;dbl&gt; | user_type &lt;chr&gt; | n &lt;int&gt; |\n",
       "|---|---|---|\n",
       "| 0 | casual | 42116 |\n",
       "| 1 | casual | 30724 |\n",
       "| 2 | casual | 19792 |\n",
       "| 3 | casual | 10322 |\n",
       "| 4 | casual |  6674 |\n",
       "| 5 | casual |  9029 |\n",
       "\n"
      ],
      "text/plain": [
       "  hour user_type n    \n",
       "1 0    casual    42116\n",
       "2 1    casual    30724\n",
       "3 2    casual    19792\n",
       "4 3    casual    10322\n",
       "5 4    casual     6674\n",
       "6 5    casual     9029"
      ]
     },
     "metadata": {},
     "output_type": "display_data"
    }
   ],
   "source": [
    "df_hour <- april_to_march %>% \n",
    "  select(hour, user_type) %>% \n",
    "  group_by(hour, user_type) %>% \n",
    "  count() %>% \n",
    "  arrange(user_type)\n",
    "\n",
    "head(df_hour)\n"
   ]
  },
  {
   "cell_type": "markdown",
   "id": "b42b1080",
   "metadata": {
    "papermill": {
     "duration": 0.033056,
     "end_time": "2022-04-23T12:00:28.508721",
     "exception": false,
     "start_time": "2022-04-23T12:00:28.475665",
     "status": "completed"
    },
    "tags": []
   },
   "source": [
    "****Visualizing the number of rides for each hour of the day****"
   ]
  },
  {
   "cell_type": "code",
   "execution_count": 32,
   "id": "b98b68bf",
   "metadata": {
    "execution": {
     "iopub.execute_input": "2022-04-23T12:00:28.579155Z",
     "iopub.status.busy": "2022-04-23T12:00:28.577405Z",
     "iopub.status.idle": "2022-04-23T12:00:28.957449Z",
     "shell.execute_reply": "2022-04-23T12:00:28.955436Z"
    },
    "papermill": {
     "duration": 0.418476,
     "end_time": "2022-04-23T12:00:28.960578",
     "exception": false,
     "start_time": "2022-04-23T12:00:28.542102",
     "status": "completed"
    },
    "tags": []
   },
   "outputs": [
    {
     "data": {
      "image/png": "[encoded data removed]"
     },
     "metadata": {
      "image/png": {
       "height": 420,
       "width": 420
      }
     },
     "output_type": "display_data"
    }
   ],
   "source": [
    "ggplot(df_hour, aes(hour, n, fill = hour)) +\n",
    "  geom_col() +\n",
    "  facet_wrap(~user_type) +\n",
    "  labs(title = 'Frequency of rides in each hour of the Day',\n",
    "       x = 'Hour of the Day',\n",
    "       y = 'Count of Rides')"
   ]
  },
  {
   "cell_type": "markdown",
   "id": "1b2da272",
   "metadata": {
    "papermill": {
     "duration": 0.034965,
     "end_time": "2022-04-23T12:00:29.029264",
     "exception": false,
     "start_time": "2022-04-23T12:00:28.994299",
     "status": "completed"
    },
    "tags": []
   },
   "source": [
    "****finding the mean duration****\n"
   ]
  },
  {
   "cell_type": "code",
   "execution_count": 33,
   "id": "e2bb1706",
   "metadata": {
    "execution": {
     "iopub.execute_input": "2022-04-23T12:00:29.101261Z",
     "iopub.status.busy": "2022-04-23T12:00:29.099493Z",
     "iopub.status.idle": "2022-04-23T12:00:29.143707Z",
     "shell.execute_reply": "2022-04-23T12:00:29.141782Z"
    },
    "papermill": {
     "duration": 0.0825,
     "end_time": "2022-04-23T12:00:29.146350",
     "exception": false,
     "start_time": "2022-04-23T12:00:29.063850",
     "status": "completed"
    },
    "tags": []
   },
   "outputs": [
    {
     "data": {
      "text/html": [
       "<table class=\"dataframe\">\n",
       "<caption>A tibble: 1 × 1</caption>\n",
       "<thead>\n",
       "\t<tr><th scope=col>mean_duration</th></tr>\n",
       "\t<tr><th scope=col>&lt;drtn&gt;</th></tr>\n",
       "</thead>\n",
       "<tbody>\n",
       "\t<tr><td>21.35781 mins</td></tr>\n",
       "</tbody>\n",
       "</table>\n"
      ],
      "text/latex": [
       "A tibble: 1 × 1\n",
       "\\begin{tabular}{l}\n",
       " mean\\_duration\\\\\n",
       " <drtn>\\\\\n",
       "\\hline\n",
       "\t 21.35781 mins\\\\\n",
       "\\end{tabular}\n"
      ],
      "text/markdown": [
       "\n",
       "A tibble: 1 × 1\n",
       "\n",
       "| mean_duration &lt;drtn&gt; |\n",
       "|---|\n",
       "| 21.35781 mins |\n",
       "\n"
      ],
      "text/plain": [
       "  mean_duration\n",
       "1 21.35781 mins"
      ]
     },
     "metadata": {},
     "output_type": "display_data"
    }
   ],
   "source": [
    "april_to_march %>% \n",
    "  select(user_type, duration) %>% \n",
    "  summarise(mean_duration = mean(duration))\n"
   ]
  },
  {
   "cell_type": "markdown",
   "id": "c86b47a5",
   "metadata": {
    "papermill": {
     "duration": 0.033577,
     "end_time": "2022-04-23T12:00:29.213537",
     "exception": false,
     "start_time": "2022-04-23T12:00:29.179960",
     "status": "completed"
    },
    "tags": []
   },
   "source": [
    "****Creating a dataframe for only casual riders****"
   ]
  },
  {
   "cell_type": "code",
   "execution_count": 34,
   "id": "e8336f4e",
   "metadata": {
    "execution": {
     "iopub.execute_input": "2022-04-23T12:00:29.285003Z",
     "iopub.status.busy": "2022-04-23T12:00:29.282948Z",
     "iopub.status.idle": "2022-04-23T12:00:31.059023Z",
     "shell.execute_reply": "2022-04-23T12:00:31.056651Z"
    },
    "papermill": {
     "duration": 1.814714,
     "end_time": "2022-04-23T12:00:31.061758",
     "exception": false,
     "start_time": "2022-04-23T12:00:29.247044",
     "status": "completed"
    },
    "tags": []
   },
   "outputs": [
    {
     "data": {
      "text/html": [
       "<table class=\"dataframe\">\n",
       "<caption>A tibble: 6 × 18</caption>\n",
       "<thead>\n",
       "\t<tr><th scope=col>ride_id</th><th scope=col>ride_type</th><th scope=col>started_at</th><th scope=col>ended_at</th><th scope=col>start_station_name</th><th scope=col>start_station_id</th><th scope=col>end_station_name</th><th scope=col>end_station_id</th><th scope=col>start_lat_lng</th><th scope=col>end_lat_lng</th><th scope=col>user_type</th><th scope=col>weekday</th><th scope=col>month</th><th scope=col>year</th><th scope=col>start_time</th><th scope=col>end_time</th><th scope=col>hour</th><th scope=col>duration</th></tr>\n",
       "\t<tr><th scope=col>&lt;chr&gt;</th><th scope=col>&lt;chr&gt;</th><th scope=col>&lt;dttm&gt;</th><th scope=col>&lt;dttm&gt;</th><th scope=col>&lt;chr&gt;</th><th scope=col>&lt;chr&gt;</th><th scope=col>&lt;chr&gt;</th><th scope=col>&lt;chr&gt;</th><th scope=col>&lt;chr&gt;</th><th scope=col>&lt;chr&gt;</th><th scope=col>&lt;chr&gt;</th><th scope=col>&lt;ord&gt;</th><th scope=col>&lt;ord&gt;</th><th scope=col>&lt;dbl&gt;</th><th scope=col>&lt;Period&gt;</th><th scope=col>&lt;Period&gt;</th><th scope=col>&lt;dbl&gt;</th><th scope=col>&lt;drtn&gt;</th></tr>\n",
       "</thead>\n",
       "<tbody>\n",
       "\t<tr><td>BD70E7114BC486F1</td><td>electric_bike</td><td>2022-03-17 17:32:44</td><td>2022-03-17 17:43:27</td><td><span style=white-space:pre-wrap>Western Ave &amp; Winnebago Ave       </span></td><td><span style=white-space:pre-wrap>13068       </span></td><td><span style=white-space:pre-wrap>Dayton St &amp; North Ave        </span></td><td><span style=white-space:pre-wrap>13058       </span></td><td><span style=white-space:pre-wrap>-87.68706989341.915544152        </span></td><td>-87.6494219288 41.9105780349 </td><td>casual</td><td>Thu</td><td>Mar</td><td>2022</td><td>17H 32M 44S</td><td>17H 43M 27S</td><td>17</td><td>10.71667 mins</td></tr>\n",
       "\t<tr><td>75BD7ABE39FCE179</td><td>classic_bike </td><td>2022-03-20 21:03:05</td><td>2022-03-20 21:21:21</td><td><span style=white-space:pre-wrap>Wabash Ave &amp; Wacker Pl            </span></td><td>TA1307000131</td><td><span style=white-space:pre-wrap>Federal St &amp; Polk St         </span></td><td><span style=white-space:pre-wrap>SL-008      </span></td><td><span style=white-space:pre-wrap>-87.6260341.886875               </span></td><td>-87.6295437729 41.87207763285</td><td>casual</td><td>Sun</td><td>Mar</td><td>2022</td><td>21H 3M 5S</td><td>21H 21M 21S</td><td>21</td><td>18.26667 mins</td></tr>\n",
       "\t<tr><td>92B926FA3B4A248A</td><td><span style=white-space:pre-wrap>docked_bike  </span></td><td>2022-03-20 13:51:15</td><td>2022-03-20 14:02:25</td><td><span style=white-space:pre-wrap>Desplaines St &amp; Kinzie St         </span></td><td>TA1306000003</td><td><span style=white-space:pre-wrap>Halsted St &amp; Polk St         </span></td><td>TA1307000121</td><td><span style=white-space:pre-wrap>-87.64444841.888716              </span></td><td><span style=white-space:pre-wrap>-87.64664 41.87184           </span></td><td>casual</td><td>Sun</td><td>Mar</td><td>2022</td><td>13H 51M 15S</td><td>14H 2M 25S</td><td>13</td><td>11.16667 mins</td></tr>\n",
       "\t<tr><td>88ED64FC44697404</td><td>electric_bike</td><td>2022-03-02 19:12:24</td><td>2022-03-02 19:23:28</td><td><span style=white-space:pre-wrap>Wabash Ave &amp; Wacker Pl            </span></td><td>TA1307000131</td><td><span style=white-space:pre-wrap>Michigan Ave &amp; Pearson St    </span></td><td><span style=white-space:pre-wrap>13034       </span></td><td>-87.626226666666741.8869578333333</td><td><span style=white-space:pre-wrap>-87.62351 41.89766           </span></td><td>casual</td><td>Wed</td><td>Mar</td><td>2022</td><td>19H 12M 24S</td><td>19H 23M 28S</td><td>19</td><td>11.06667 mins</td></tr>\n",
       "\t<tr><td>2750EFD6556B6F2F</td><td>classic_bike </td><td>2022-03-16 21:21:43</td><td>2022-03-16 21:57:50</td><td><span style=white-space:pre-wrap>Wabash Ave &amp; Wacker Pl            </span></td><td>TA1307000131</td><td><span style=white-space:pre-wrap>Columbus Dr &amp; Randolph St    </span></td><td><span style=white-space:pre-wrap>13263       </span></td><td><span style=white-space:pre-wrap>-87.6260341.886875               </span></td><td><span style=white-space:pre-wrap>-87.619521 41.884728         </span></td><td>casual</td><td>Wed</td><td>Mar</td><td>2022</td><td>21H 21M 43S</td><td>21H 57M 50S</td><td>21</td><td>36.11667 mins</td></tr>\n",
       "\t<tr><td>7DD156E458955076</td><td><span style=white-space:pre-wrap>docked_bike  </span></td><td>2022-03-05 17:43:00</td><td>2022-03-05 18:08:00</td><td>DuSable Lake Shore Dr &amp; North Blvd</td><td><span style=white-space:pre-wrap>LF-005      </span></td><td>Sheffield Ave &amp; Fullerton Ave</td><td>TA1306000016</td><td><span style=white-space:pre-wrap>-87.62680441.911722              </span></td><td><span style=white-space:pre-wrap>-87.653708 41.925602         </span></td><td>casual</td><td>Sat</td><td>Mar</td><td>2022</td><td>17H 43M 0S</td><td>18H 8M 0S</td><td>17</td><td>25.00000 mins</td></tr>\n",
       "</tbody>\n",
       "</table>\n"
      ],
      "text/latex": [
       "A tibble: 6 × 18\n",
       "\\begin{tabular}{llllllllllllllllll}\n",
       " ride\\_id & ride\\_type & started\\_at & ended\\_at & start\\_station\\_name & start\\_station\\_id & end\\_station\\_name & end\\_station\\_id & start\\_lat\\_lng & end\\_lat\\_lng & user\\_type & weekday & month & year & start\\_time & end\\_time & hour & duration\\\\\n",
       " <chr> & <chr> & <dttm> & <dttm> & <chr> & <chr> & <chr> & <chr> & <chr> & <chr> & <chr> & <ord> & <ord> & <dbl> & <Period> & <Period> & <dbl> & <drtn>\\\\\n",
       "\\hline\n",
       "\t BD70E7114BC486F1 & electric\\_bike & 2022-03-17 17:32:44 & 2022-03-17 17:43:27 & Western Ave \\& Winnebago Ave        & 13068        & Dayton St \\& North Ave         & 13058        & -87.68706989341.915544152         & -87.6494219288 41.9105780349  & casual & Thu & Mar & 2022 & 17H 32M 44S & 17H 43M 27S & 17 & 10.71667 mins\\\\\n",
       "\t 75BD7ABE39FCE179 & classic\\_bike  & 2022-03-20 21:03:05 & 2022-03-20 21:21:21 & Wabash Ave \\& Wacker Pl             & TA1307000131 & Federal St \\& Polk St          & SL-008       & -87.6260341.886875                & -87.6295437729 41.87207763285 & casual & Sun & Mar & 2022 & 21H 3M 5S & 21H 21M 21S & 21 & 18.26667 mins\\\\\n",
       "\t 92B926FA3B4A248A & docked\\_bike   & 2022-03-20 13:51:15 & 2022-03-20 14:02:25 & Desplaines St \\& Kinzie St          & TA1306000003 & Halsted St \\& Polk St          & TA1307000121 & -87.64444841.888716               & -87.64664 41.87184            & casual & Sun & Mar & 2022 & 13H 51M 15S & 14H 2M 25S & 13 & 11.16667 mins\\\\\n",
       "\t 88ED64FC44697404 & electric\\_bike & 2022-03-02 19:12:24 & 2022-03-02 19:23:28 & Wabash Ave \\& Wacker Pl             & TA1307000131 & Michigan Ave \\& Pearson St     & 13034        & -87.626226666666741.8869578333333 & -87.62351 41.89766            & casual & Wed & Mar & 2022 & 19H 12M 24S & 19H 23M 28S & 19 & 11.06667 mins\\\\\n",
       "\t 2750EFD6556B6F2F & classic\\_bike  & 2022-03-16 21:21:43 & 2022-03-16 21:57:50 & Wabash Ave \\& Wacker Pl             & TA1307000131 & Columbus Dr \\& Randolph St     & 13263        & -87.6260341.886875                & -87.619521 41.884728          & casual & Wed & Mar & 2022 & 21H 21M 43S & 21H 57M 50S & 21 & 36.11667 mins\\\\\n",
       "\t 7DD156E458955076 & docked\\_bike   & 2022-03-05 17:43:00 & 2022-03-05 18:08:00 & DuSable Lake Shore Dr \\& North Blvd & LF-005       & Sheffield Ave \\& Fullerton Ave & TA1306000016 & -87.62680441.911722               & -87.653708 41.925602          & casual & Sat & Mar & 2022 & 17H 43M 0S & 18H 8M 0S & 17 & 25.00000 mins\\\\\n",
       "\\end{tabular}\n"
      ],
      "text/markdown": [
       "\n",
       "A tibble: 6 × 18\n",
       "\n",
       "| ride_id &lt;chr&gt; | ride_type &lt;chr&gt; | started_at &lt;dttm&gt; | ended_at &lt;dttm&gt; | start_station_name &lt;chr&gt; | start_station_id &lt;chr&gt; | end_station_name &lt;chr&gt; | end_station_id &lt;chr&gt; | start_lat_lng &lt;chr&gt; | end_lat_lng &lt;chr&gt; | user_type &lt;chr&gt; | weekday &lt;ord&gt; | month &lt;ord&gt; | year &lt;dbl&gt; | start_time &lt;Period&gt; | end_time &lt;Period&gt; | hour &lt;dbl&gt; | duration &lt;drtn&gt; |\n",
       "|---|---|---|---|---|---|---|---|---|---|---|---|---|---|---|---|---|---|\n",
       "| BD70E7114BC486F1 | electric_bike | 2022-03-17 17:32:44 | 2022-03-17 17:43:27 | Western Ave &amp; Winnebago Ave        | 13068        | Dayton St &amp; North Ave         | 13058        | -87.68706989341.915544152         | -87.6494219288 41.9105780349  | casual | Thu | Mar | 2022 | 17H 32M 44S | 17H 43M 27S | 17 | 10.71667 mins |\n",
       "| 75BD7ABE39FCE179 | classic_bike  | 2022-03-20 21:03:05 | 2022-03-20 21:21:21 | Wabash Ave &amp; Wacker Pl             | TA1307000131 | Federal St &amp; Polk St          | SL-008       | -87.6260341.886875                | -87.6295437729 41.87207763285 | casual | Sun | Mar | 2022 | 21H 3M 5S | 21H 21M 21S | 21 | 18.26667 mins |\n",
       "| 92B926FA3B4A248A | docked_bike   | 2022-03-20 13:51:15 | 2022-03-20 14:02:25 | Desplaines St &amp; Kinzie St          | TA1306000003 | Halsted St &amp; Polk St          | TA1307000121 | -87.64444841.888716               | -87.64664 41.87184            | casual | Sun | Mar | 2022 | 13H 51M 15S | 14H 2M 25S | 13 | 11.16667 mins |\n",
       "| 88ED64FC44697404 | electric_bike | 2022-03-02 19:12:24 | 2022-03-02 19:23:28 | Wabash Ave &amp; Wacker Pl             | TA1307000131 | Michigan Ave &amp; Pearson St     | 13034        | -87.626226666666741.8869578333333 | -87.62351 41.89766            | casual | Wed | Mar | 2022 | 19H 12M 24S | 19H 23M 28S | 19 | 11.06667 mins |\n",
       "| 2750EFD6556B6F2F | classic_bike  | 2022-03-16 21:21:43 | 2022-03-16 21:57:50 | Wabash Ave &amp; Wacker Pl             | TA1307000131 | Columbus Dr &amp; Randolph St     | 13263        | -87.6260341.886875                | -87.619521 41.884728          | casual | Wed | Mar | 2022 | 21H 21M 43S | 21H 57M 50S | 21 | 36.11667 mins |\n",
       "| 7DD156E458955076 | docked_bike   | 2022-03-05 17:43:00 | 2022-03-05 18:08:00 | DuSable Lake Shore Dr &amp; North Blvd | LF-005       | Sheffield Ave &amp; Fullerton Ave | TA1306000016 | -87.62680441.911722               | -87.653708 41.925602          | casual | Sat | Mar | 2022 | 17H 43M 0S | 18H 8M 0S | 17 | 25.00000 mins |\n",
       "\n"
      ],
      "text/plain": [
       "  ride_id          ride_type     started_at          ended_at           \n",
       "1 BD70E7114BC486F1 electric_bike 2022-03-17 17:32:44 2022-03-17 17:43:27\n",
       "2 75BD7ABE39FCE179 classic_bike  2022-03-20 21:03:05 2022-03-20 21:21:21\n",
       "3 92B926FA3B4A248A docked_bike   2022-03-20 13:51:15 2022-03-20 14:02:25\n",
       "4 88ED64FC44697404 electric_bike 2022-03-02 19:12:24 2022-03-02 19:23:28\n",
       "5 2750EFD6556B6F2F classic_bike  2022-03-16 21:21:43 2022-03-16 21:57:50\n",
       "6 7DD156E458955076 docked_bike   2022-03-05 17:43:00 2022-03-05 18:08:00\n",
       "  start_station_name                 start_station_id\n",
       "1 Western Ave & Winnebago Ave        13068           \n",
       "2 Wabash Ave & Wacker Pl             TA1307000131    \n",
       "3 Desplaines St & Kinzie St          TA1306000003    \n",
       "4 Wabash Ave & Wacker Pl             TA1307000131    \n",
       "5 Wabash Ave & Wacker Pl             TA1307000131    \n",
       "6 DuSable Lake Shore Dr & North Blvd LF-005          \n",
       "  end_station_name              end_station_id\n",
       "1 Dayton St & North Ave         13058         \n",
       "2 Federal St & Polk St          SL-008        \n",
       "3 Halsted St & Polk St          TA1307000121  \n",
       "4 Michigan Ave & Pearson St     13034         \n",
       "5 Columbus Dr & Randolph St     13263         \n",
       "6 Sheffield Ave & Fullerton Ave TA1306000016  \n",
       "  start_lat_lng                     end_lat_lng                   user_type\n",
       "1 -87.68706989341.915544152         -87.6494219288 41.9105780349  casual   \n",
       "2 -87.6260341.886875                -87.6295437729 41.87207763285 casual   \n",
       "3 -87.64444841.888716               -87.64664 41.87184            casual   \n",
       "4 -87.626226666666741.8869578333333 -87.62351 41.89766            casual   \n",
       "5 -87.6260341.886875                -87.619521 41.884728          casual   \n",
       "6 -87.62680441.911722               -87.653708 41.925602          casual   \n",
       "  weekday month year start_time  end_time    hour duration     \n",
       "1 Thu     Mar   2022 17H 32M 44S 17H 43M 27S 17   10.71667 mins\n",
       "2 Sun     Mar   2022 21H 3M 5S   21H 21M 21S 21   18.26667 mins\n",
       "3 Sun     Mar   2022 13H 51M 15S 14H 2M 25S  13   11.16667 mins\n",
       "4 Wed     Mar   2022 19H 12M 24S 19H 23M 28S 19   11.06667 mins\n",
       "5 Wed     Mar   2022 21H 21M 43S 21H 57M 50S 21   36.11667 mins\n",
       "6 Sat     Mar   2022 17H 43M 0S  18H 8M 0S   17   25.00000 mins"
      ]
     },
     "metadata": {},
     "output_type": "display_data"
    }
   ],
   "source": [
    "duration_casual <- april_to_march%>% \n",
    "  filter(user_type == 'casual')\n",
    "head(duration_casual)"
   ]
  },
  {
   "cell_type": "markdown",
   "id": "9f7e81ca",
   "metadata": {
    "papermill": {
     "duration": 0.036201,
     "end_time": "2022-04-23T12:00:31.134633",
     "exception": false,
     "start_time": "2022-04-23T12:00:31.098432",
     "status": "completed"
    },
    "tags": []
   },
   "source": [
    "****getting the average duration for casual riders****"
   ]
  },
  {
   "cell_type": "code",
   "execution_count": 35,
   "id": "01a83b98",
   "metadata": {
    "execution": {
     "iopub.execute_input": "2022-04-23T12:00:31.206777Z",
     "iopub.status.busy": "2022-04-23T12:00:31.205039Z",
     "iopub.status.idle": "2022-04-23T12:00:31.240056Z",
     "shell.execute_reply": "2022-04-23T12:00:31.238131Z"
    },
    "papermill": {
     "duration": 0.074143,
     "end_time": "2022-04-23T12:00:31.242802",
     "exception": false,
     "start_time": "2022-04-23T12:00:31.168659",
     "status": "completed"
    },
    "tags": []
   },
   "outputs": [
    {
     "data": {
      "text/html": [
       "<table class=\"dataframe\">\n",
       "<caption>A tibble: 1 × 1</caption>\n",
       "<thead>\n",
       "\t<tr><th scope=col>mean_duration</th></tr>\n",
       "\t<tr><th scope=col>&lt;drtn&gt;</th></tr>\n",
       "</thead>\n",
       "<tbody>\n",
       "\t<tr><td>32.04929 mins</td></tr>\n",
       "</tbody>\n",
       "</table>\n"
      ],
      "text/latex": [
       "A tibble: 1 × 1\n",
       "\\begin{tabular}{l}\n",
       " mean\\_duration\\\\\n",
       " <drtn>\\\\\n",
       "\\hline\n",
       "\t 32.04929 mins\\\\\n",
       "\\end{tabular}\n"
      ],
      "text/markdown": [
       "\n",
       "A tibble: 1 × 1\n",
       "\n",
       "| mean_duration &lt;drtn&gt; |\n",
       "|---|\n",
       "| 32.04929 mins |\n",
       "\n"
      ],
      "text/plain": [
       "  mean_duration\n",
       "1 32.04929 mins"
      ]
     },
     "metadata": {},
     "output_type": "display_data"
    }
   ],
   "source": [
    "duration_casual %>% \n",
    "  select(user_type, duration) %>% \n",
    "  summarise(mean_duration = mean(duration))\n"
   ]
  },
  {
   "cell_type": "markdown",
   "id": "1b90192f",
   "metadata": {
    "papermill": {
     "duration": 0.034531,
     "end_time": "2022-04-23T12:00:31.312419",
     "exception": false,
     "start_time": "2022-04-23T12:00:31.277888",
     "status": "completed"
    },
    "tags": []
   },
   "source": [
    "****Creating a dataframe for only member riders****"
   ]
  },
  {
   "cell_type": "code",
   "execution_count": 36,
   "id": "681831bd",
   "metadata": {
    "execution": {
     "iopub.execute_input": "2022-04-23T12:00:31.385422Z",
     "iopub.status.busy": "2022-04-23T12:00:31.383469Z",
     "iopub.status.idle": "2022-04-23T12:00:36.122084Z",
     "shell.execute_reply": "2022-04-23T12:00:36.120352Z"
    },
    "papermill": {
     "duration": 4.777743,
     "end_time": "2022-04-23T12:00:36.124461",
     "exception": false,
     "start_time": "2022-04-23T12:00:31.346718",
     "status": "completed"
    },
    "tags": []
   },
   "outputs": [
    {
     "data": {
      "text/html": [
       "<table class=\"dataframe\">\n",
       "<caption>A tibble: 6 × 18</caption>\n",
       "<thead>\n",
       "\t<tr><th scope=col>ride_id</th><th scope=col>ride_type</th><th scope=col>started_at</th><th scope=col>ended_at</th><th scope=col>start_station_name</th><th scope=col>start_station_id</th><th scope=col>end_station_name</th><th scope=col>end_station_id</th><th scope=col>start_lat_lng</th><th scope=col>end_lat_lng</th><th scope=col>user_type</th><th scope=col>weekday</th><th scope=col>month</th><th scope=col>year</th><th scope=col>start_time</th><th scope=col>end_time</th><th scope=col>hour</th><th scope=col>duration</th></tr>\n",
       "\t<tr><th scope=col>&lt;chr&gt;</th><th scope=col>&lt;chr&gt;</th><th scope=col>&lt;dttm&gt;</th><th scope=col>&lt;dttm&gt;</th><th scope=col>&lt;chr&gt;</th><th scope=col>&lt;chr&gt;</th><th scope=col>&lt;chr&gt;</th><th scope=col>&lt;chr&gt;</th><th scope=col>&lt;chr&gt;</th><th scope=col>&lt;chr&gt;</th><th scope=col>&lt;chr&gt;</th><th scope=col>&lt;ord&gt;</th><th scope=col>&lt;ord&gt;</th><th scope=col>&lt;dbl&gt;</th><th scope=col>&lt;Period&gt;</th><th scope=col>&lt;Period&gt;</th><th scope=col>&lt;dbl&gt;</th><th scope=col>&lt;drtn&gt;</th></tr>\n",
       "</thead>\n",
       "<tbody>\n",
       "\t<tr><td>47EC0A7F82E65D52</td><td>classic_bike </td><td>2022-03-21 13:45:01</td><td>2022-03-21 13:51:18</td><td><span style=white-space:pre-wrap>Wabash Ave &amp; Wacker Pl            </span></td><td>TA1307000131</td><td><span style=white-space:pre-wrap>Kingsbury St &amp; Kinzie St            </span></td><td>KA1503000043</td><td><span style=white-space:pre-wrap>-87.6260341.886875               </span></td><td>-87.6385057718 41.88917683258</td><td>member</td><td>Mon</td><td>Mar</td><td>2022</td><td>13H 45M 1S</td><td>13H 51M 18S</td><td>13</td><td> 6.283333 mins</td></tr>\n",
       "\t<tr><td>8494861979B0F477</td><td>electric_bike</td><td>2022-03-16 09:37:16</td><td>2022-03-16 09:43:34</td><td><span style=white-space:pre-wrap>Michigan Ave &amp; Oak St             </span></td><td><span style=white-space:pre-wrap>13042       </span></td><td>Orleans St &amp; Chestnut St (NEXT Apts)</td><td><span style=white-space:pre-wrap>620         </span></td><td>-87.623751666666741.9009976666667</td><td><span style=white-space:pre-wrap>-87.637536 41.898203         </span></td><td>member</td><td>Wed</td><td>Mar</td><td>2022</td><td>9H 37M 16S</td><td>9H 43M 34S</td><td> 9</td><td> 6.300000 mins</td></tr>\n",
       "\t<tr><td>EFE527AF80B66109</td><td>classic_bike </td><td>2022-03-23 19:52:02</td><td>2022-03-23 19:54:48</td><td><span style=white-space:pre-wrap>Broadway &amp; Berwyn Ave             </span></td><td><span style=white-space:pre-wrap>13109       </span></td><td><span style=white-space:pre-wrap>Broadway &amp; Ridge Ave                </span></td><td><span style=white-space:pre-wrap>15578       </span></td><td><span style=white-space:pre-wrap>-87.65975341.978353              </span></td><td>-87.6602738295 41.9840446107 </td><td>member</td><td>Wed</td><td>Mar</td><td>2022</td><td>19H 52M 2S</td><td>19H 54M 48S</td><td>19</td><td> 2.766667 mins</td></tr>\n",
       "\t<tr><td>9F446FD9DEE3F389</td><td>classic_bike </td><td>2022-03-01 19:12:26</td><td>2022-03-01 19:22:14</td><td><span style=white-space:pre-wrap>Wabash Ave &amp; Wacker Pl            </span></td><td>TA1307000131</td><td><span style=white-space:pre-wrap>Franklin St &amp; Jackson Blvd          </span></td><td>TA1305000025</td><td><span style=white-space:pre-wrap>-87.6260341.886875               </span></td><td>-87.6353211408 41.8777079559 </td><td>member</td><td>Tue</td><td>Mar</td><td>2022</td><td>19H 12M 26S</td><td>19H 22M 14S</td><td>19</td><td> 9.800000 mins</td></tr>\n",
       "\t<tr><td>431128AD9AFFEDC0</td><td>classic_bike </td><td>2022-03-21 18:37:01</td><td>2022-03-21 19:19:11</td><td>DuSable Lake Shore Dr &amp; North Blvd</td><td><span style=white-space:pre-wrap>LF-005      </span></td><td><span style=white-space:pre-wrap>Loomis St &amp; Jackson Blvd            </span></td><td><span style=white-space:pre-wrap>13206       </span></td><td><span style=white-space:pre-wrap>-87.62680441.911722              </span></td><td><span style=white-space:pre-wrap>-87.662007 41.877945         </span></td><td>member</td><td>Mon</td><td>Mar</td><td>2022</td><td>18H 37M 1S</td><td>19H 19M 11S</td><td>18</td><td>42.166667 mins</td></tr>\n",
       "\t<tr><td>9AA8A13AF7A85325</td><td>classic_bike </td><td>2022-03-07 17:10:22</td><td>2022-03-07 17:15:04</td><td><span style=white-space:pre-wrap>Bissell St &amp; Armitage Ave         </span></td><td><span style=white-space:pre-wrap>13059       </span></td><td><span style=white-space:pre-wrap>Southport Ave &amp; Clybourn Ave        </span></td><td>TA1309000030</td><td>-87.652181982994141.9180181423719</td><td><span style=white-space:pre-wrap>-87.663712 41.920771         </span></td><td>member</td><td>Mon</td><td>Mar</td><td>2022</td><td>17H 10M 22S</td><td>17H 15M 4S</td><td>17</td><td> 4.700000 mins</td></tr>\n",
       "</tbody>\n",
       "</table>\n"
      ],
      "text/latex": [
       "A tibble: 6 × 18\n",
       "\\begin{tabular}{llllllllllllllllll}\n",
       " ride\\_id & ride\\_type & started\\_at & ended\\_at & start\\_station\\_name & start\\_station\\_id & end\\_station\\_name & end\\_station\\_id & start\\_lat\\_lng & end\\_lat\\_lng & user\\_type & weekday & month & year & start\\_time & end\\_time & hour & duration\\\\\n",
       " <chr> & <chr> & <dttm> & <dttm> & <chr> & <chr> & <chr> & <chr> & <chr> & <chr> & <chr> & <ord> & <ord> & <dbl> & <Period> & <Period> & <dbl> & <drtn>\\\\\n",
       "\\hline\n",
       "\t 47EC0A7F82E65D52 & classic\\_bike  & 2022-03-21 13:45:01 & 2022-03-21 13:51:18 & Wabash Ave \\& Wacker Pl             & TA1307000131 & Kingsbury St \\& Kinzie St             & KA1503000043 & -87.6260341.886875                & -87.6385057718 41.88917683258 & member & Mon & Mar & 2022 & 13H 45M 1S & 13H 51M 18S & 13 &  6.283333 mins\\\\\n",
       "\t 8494861979B0F477 & electric\\_bike & 2022-03-16 09:37:16 & 2022-03-16 09:43:34 & Michigan Ave \\& Oak St              & 13042        & Orleans St \\& Chestnut St (NEXT Apts) & 620          & -87.623751666666741.9009976666667 & -87.637536 41.898203          & member & Wed & Mar & 2022 & 9H 37M 16S & 9H 43M 34S &  9 &  6.300000 mins\\\\\n",
       "\t EFE527AF80B66109 & classic\\_bike  & 2022-03-23 19:52:02 & 2022-03-23 19:54:48 & Broadway \\& Berwyn Ave              & 13109        & Broadway \\& Ridge Ave                 & 15578        & -87.65975341.978353               & -87.6602738295 41.9840446107  & member & Wed & Mar & 2022 & 19H 52M 2S & 19H 54M 48S & 19 &  2.766667 mins\\\\\n",
       "\t 9F446FD9DEE3F389 & classic\\_bike  & 2022-03-01 19:12:26 & 2022-03-01 19:22:14 & Wabash Ave \\& Wacker Pl             & TA1307000131 & Franklin St \\& Jackson Blvd           & TA1305000025 & -87.6260341.886875                & -87.6353211408 41.8777079559  & member & Tue & Mar & 2022 & 19H 12M 26S & 19H 22M 14S & 19 &  9.800000 mins\\\\\n",
       "\t 431128AD9AFFEDC0 & classic\\_bike  & 2022-03-21 18:37:01 & 2022-03-21 19:19:11 & DuSable Lake Shore Dr \\& North Blvd & LF-005       & Loomis St \\& Jackson Blvd             & 13206        & -87.62680441.911722               & -87.662007 41.877945          & member & Mon & Mar & 2022 & 18H 37M 1S & 19H 19M 11S & 18 & 42.166667 mins\\\\\n",
       "\t 9AA8A13AF7A85325 & classic\\_bike  & 2022-03-07 17:10:22 & 2022-03-07 17:15:04 & Bissell St \\& Armitage Ave          & 13059        & Southport Ave \\& Clybourn Ave         & TA1309000030 & -87.652181982994141.9180181423719 & -87.663712 41.920771          & member & Mon & Mar & 2022 & 17H 10M 22S & 17H 15M 4S & 17 &  4.700000 mins\\\\\n",
       "\\end{tabular}\n"
      ],
      "text/markdown": [
       "\n",
       "A tibble: 6 × 18\n",
       "\n",
       "| ride_id &lt;chr&gt; | ride_type &lt;chr&gt; | started_at &lt;dttm&gt; | ended_at &lt;dttm&gt; | start_station_name &lt;chr&gt; | start_station_id &lt;chr&gt; | end_station_name &lt;chr&gt; | end_station_id &lt;chr&gt; | start_lat_lng &lt;chr&gt; | end_lat_lng &lt;chr&gt; | user_type &lt;chr&gt; | weekday &lt;ord&gt; | month &lt;ord&gt; | year &lt;dbl&gt; | start_time &lt;Period&gt; | end_time &lt;Period&gt; | hour &lt;dbl&gt; | duration &lt;drtn&gt; |\n",
       "|---|---|---|---|---|---|---|---|---|---|---|---|---|---|---|---|---|---|\n",
       "| 47EC0A7F82E65D52 | classic_bike  | 2022-03-21 13:45:01 | 2022-03-21 13:51:18 | Wabash Ave &amp; Wacker Pl             | TA1307000131 | Kingsbury St &amp; Kinzie St             | KA1503000043 | -87.6260341.886875                | -87.6385057718 41.88917683258 | member | Mon | Mar | 2022 | 13H 45M 1S | 13H 51M 18S | 13 |  6.283333 mins |\n",
       "| 8494861979B0F477 | electric_bike | 2022-03-16 09:37:16 | 2022-03-16 09:43:34 | Michigan Ave &amp; Oak St              | 13042        | Orleans St &amp; Chestnut St (NEXT Apts) | 620          | -87.623751666666741.9009976666667 | -87.637536 41.898203          | member | Wed | Mar | 2022 | 9H 37M 16S | 9H 43M 34S |  9 |  6.300000 mins |\n",
       "| EFE527AF80B66109 | classic_bike  | 2022-03-23 19:52:02 | 2022-03-23 19:54:48 | Broadway &amp; Berwyn Ave              | 13109        | Broadway &amp; Ridge Ave                 | 15578        | -87.65975341.978353               | -87.6602738295 41.9840446107  | member | Wed | Mar | 2022 | 19H 52M 2S | 19H 54M 48S | 19 |  2.766667 mins |\n",
       "| 9F446FD9DEE3F389 | classic_bike  | 2022-03-01 19:12:26 | 2022-03-01 19:22:14 | Wabash Ave &amp; Wacker Pl             | TA1307000131 | Franklin St &amp; Jackson Blvd           | TA1305000025 | -87.6260341.886875                | -87.6353211408 41.8777079559  | member | Tue | Mar | 2022 | 19H 12M 26S | 19H 22M 14S | 19 |  9.800000 mins |\n",
       "| 431128AD9AFFEDC0 | classic_bike  | 2022-03-21 18:37:01 | 2022-03-21 19:19:11 | DuSable Lake Shore Dr &amp; North Blvd | LF-005       | Loomis St &amp; Jackson Blvd             | 13206        | -87.62680441.911722               | -87.662007 41.877945          | member | Mon | Mar | 2022 | 18H 37M 1S | 19H 19M 11S | 18 | 42.166667 mins |\n",
       "| 9AA8A13AF7A85325 | classic_bike  | 2022-03-07 17:10:22 | 2022-03-07 17:15:04 | Bissell St &amp; Armitage Ave          | 13059        | Southport Ave &amp; Clybourn Ave         | TA1309000030 | -87.652181982994141.9180181423719 | -87.663712 41.920771          | member | Mon | Mar | 2022 | 17H 10M 22S | 17H 15M 4S | 17 |  4.700000 mins |\n",
       "\n"
      ],
      "text/plain": [
       "  ride_id          ride_type     started_at          ended_at           \n",
       "1 47EC0A7F82E65D52 classic_bike  2022-03-21 13:45:01 2022-03-21 13:51:18\n",
       "2 8494861979B0F477 electric_bike 2022-03-16 09:37:16 2022-03-16 09:43:34\n",
       "3 EFE527AF80B66109 classic_bike  2022-03-23 19:52:02 2022-03-23 19:54:48\n",
       "4 9F446FD9DEE3F389 classic_bike  2022-03-01 19:12:26 2022-03-01 19:22:14\n",
       "5 431128AD9AFFEDC0 classic_bike  2022-03-21 18:37:01 2022-03-21 19:19:11\n",
       "6 9AA8A13AF7A85325 classic_bike  2022-03-07 17:10:22 2022-03-07 17:15:04\n",
       "  start_station_name                 start_station_id\n",
       "1 Wabash Ave & Wacker Pl             TA1307000131    \n",
       "2 Michigan Ave & Oak St              13042           \n",
       "3 Broadway & Berwyn Ave              13109           \n",
       "4 Wabash Ave & Wacker Pl             TA1307000131    \n",
       "5 DuSable Lake Shore Dr & North Blvd LF-005          \n",
       "6 Bissell St & Armitage Ave          13059           \n",
       "  end_station_name                     end_station_id\n",
       "1 Kingsbury St & Kinzie St             KA1503000043  \n",
       "2 Orleans St & Chestnut St (NEXT Apts) 620           \n",
       "3 Broadway & Ridge Ave                 15578         \n",
       "4 Franklin St & Jackson Blvd           TA1305000025  \n",
       "5 Loomis St & Jackson Blvd             13206         \n",
       "6 Southport Ave & Clybourn Ave         TA1309000030  \n",
       "  start_lat_lng                     end_lat_lng                   user_type\n",
       "1 -87.6260341.886875                -87.6385057718 41.88917683258 member   \n",
       "2 -87.623751666666741.9009976666667 -87.637536 41.898203          member   \n",
       "3 -87.65975341.978353               -87.6602738295 41.9840446107  member   \n",
       "4 -87.6260341.886875                -87.6353211408 41.8777079559  member   \n",
       "5 -87.62680441.911722               -87.662007 41.877945          member   \n",
       "6 -87.652181982994141.9180181423719 -87.663712 41.920771          member   \n",
       "  weekday month year start_time  end_time    hour duration      \n",
       "1 Mon     Mar   2022 13H 45M 1S  13H 51M 18S 13    6.283333 mins\n",
       "2 Wed     Mar   2022 9H 37M 16S  9H 43M 34S   9    6.300000 mins\n",
       "3 Wed     Mar   2022 19H 52M 2S  19H 54M 48S 19    2.766667 mins\n",
       "4 Tue     Mar   2022 19H 12M 26S 19H 22M 14S 19    9.800000 mins\n",
       "5 Mon     Mar   2022 18H 37M 1S  19H 19M 11S 18   42.166667 mins\n",
       "6 Mon     Mar   2022 17H 10M 22S 17H 15M 4S  17    4.700000 mins"
      ]
     },
     "metadata": {},
     "output_type": "display_data"
    }
   ],
   "source": [
    "duration_member <- april_to_march %>% \n",
    "  filter(user_type == 'member')\n",
    "head(duration_member)"
   ]
  },
  {
   "cell_type": "markdown",
   "id": "64819c82",
   "metadata": {
    "papermill": {
     "duration": 0.035465,
     "end_time": "2022-04-23T12:00:36.193974",
     "exception": false,
     "start_time": "2022-04-23T12:00:36.158509",
     "status": "completed"
    },
    "tags": []
   },
   "source": [
    "****getting the average duration for member riders****"
   ]
  },
  {
   "cell_type": "code",
   "execution_count": 37,
   "id": "90538492",
   "metadata": {
    "execution": {
     "iopub.execute_input": "2022-04-23T12:00:36.266575Z",
     "iopub.status.busy": "2022-04-23T12:00:36.264891Z",
     "iopub.status.idle": "2022-04-23T12:00:36.300039Z",
     "shell.execute_reply": "2022-04-23T12:00:36.298153Z"
    },
    "papermill": {
     "duration": 0.07408,
     "end_time": "2022-04-23T12:00:36.302433",
     "exception": false,
     "start_time": "2022-04-23T12:00:36.228353",
     "status": "completed"
    },
    "tags": []
   },
   "outputs": [
    {
     "data": {
      "text/html": [
       "<table class=\"dataframe\">\n",
       "<caption>A tibble: 1 × 1</caption>\n",
       "<thead>\n",
       "\t<tr><th scope=col>mean_duration</th></tr>\n",
       "\t<tr><th scope=col>&lt;drtn&gt;</th></tr>\n",
       "</thead>\n",
       "<tbody>\n",
       "\t<tr><td>12.94168 mins</td></tr>\n",
       "</tbody>\n",
       "</table>\n"
      ],
      "text/latex": [
       "A tibble: 1 × 1\n",
       "\\begin{tabular}{l}\n",
       " mean\\_duration\\\\\n",
       " <drtn>\\\\\n",
       "\\hline\n",
       "\t 12.94168 mins\\\\\n",
       "\\end{tabular}\n"
      ],
      "text/markdown": [
       "\n",
       "A tibble: 1 × 1\n",
       "\n",
       "| mean_duration &lt;drtn&gt; |\n",
       "|---|\n",
       "| 12.94168 mins |\n",
       "\n"
      ],
      "text/plain": [
       "  mean_duration\n",
       "1 12.94168 mins"
      ]
     },
     "metadata": {},
     "output_type": "display_data"
    }
   ],
   "source": [
    "duration_member %>% \n",
    "  select(user_type, duration) %>% \n",
    "  summarise(mean_duration = mean(duration))\n"
   ]
  },
  {
   "cell_type": "markdown",
   "id": "3b558490",
   "metadata": {
    "papermill": {
     "duration": 0.034836,
     "end_time": "2022-04-23T12:00:36.371885",
     "exception": false,
     "start_time": "2022-04-23T12:00:36.337049",
     "status": "completed"
    },
    "tags": []
   },
   "source": [
    "****mean duration for each of both user types****"
   ]
  },
  {
   "cell_type": "code",
   "execution_count": 38,
   "id": "c3262119",
   "metadata": {
    "execution": {
     "iopub.execute_input": "2022-04-23T12:00:36.444561Z",
     "iopub.status.busy": "2022-04-23T12:00:36.442847Z",
     "iopub.status.idle": "2022-04-23T12:00:36.643535Z",
     "shell.execute_reply": "2022-04-23T12:00:36.641679Z"
    },
    "papermill": {
     "duration": 0.239416,
     "end_time": "2022-04-23T12:00:36.645794",
     "exception": false,
     "start_time": "2022-04-23T12:00:36.406378",
     "status": "completed"
    },
    "tags": []
   },
   "outputs": [
    {
     "data": {
      "text/html": [
       "<table class=\"dataframe\">\n",
       "<caption>A tibble: 2 × 2</caption>\n",
       "<thead>\n",
       "\t<tr><th scope=col>user_type</th><th scope=col>mean_time</th></tr>\n",
       "\t<tr><th scope=col>&lt;chr&gt;</th><th scope=col>&lt;drtn&gt;</th></tr>\n",
       "</thead>\n",
       "<tbody>\n",
       "\t<tr><td>casual</td><td>32.04929 mins</td></tr>\n",
       "\t<tr><td>member</td><td>12.94168 mins</td></tr>\n",
       "</tbody>\n",
       "</table>\n"
      ],
      "text/latex": [
       "A tibble: 2 × 2\n",
       "\\begin{tabular}{ll}\n",
       " user\\_type & mean\\_time\\\\\n",
       " <chr> & <drtn>\\\\\n",
       "\\hline\n",
       "\t casual & 32.04929 mins\\\\\n",
       "\t member & 12.94168 mins\\\\\n",
       "\\end{tabular}\n"
      ],
      "text/markdown": [
       "\n",
       "A tibble: 2 × 2\n",
       "\n",
       "| user_type &lt;chr&gt; | mean_time &lt;drtn&gt; |\n",
       "|---|---|\n",
       "| casual | 32.04929 mins |\n",
       "| member | 12.94168 mins |\n",
       "\n"
      ],
      "text/plain": [
       "  user_type mean_time    \n",
       "1 casual    32.04929 mins\n",
       "2 member    12.94168 mins"
      ]
     },
     "metadata": {},
     "output_type": "display_data"
    }
   ],
   "source": [
    "mean_duration <- april_to_march%>% \n",
    "  group_by(user_type) %>% \n",
    "  summarise(mean_time = mean(duration))\n",
    "head(mean_duration)"
   ]
  },
  {
   "cell_type": "markdown",
   "id": "52e38442",
   "metadata": {
    "papermill": {
     "duration": 0.03506,
     "end_time": "2022-04-23T12:00:36.715448",
     "exception": false,
     "start_time": "2022-04-23T12:00:36.680388",
     "status": "completed"
    },
    "tags": []
   },
   "source": [
    "* mean duration for both rider types = 12.9 minutes.\n",
    "* mean duration for casual riders = 32 minutes.\n",
    "* mean duration for member riders = 12.9 minutes."
   ]
  },
  {
   "cell_type": "markdown",
   "id": "245760fc",
   "metadata": {
    "papermill": {
     "duration": 0.036442,
     "end_time": "2022-04-23T12:00:36.789969",
     "exception": false,
     "start_time": "2022-04-23T12:00:36.753527",
     "status": "completed"
    },
    "tags": []
   },
   "source": [
    "****Visualizing the mean duration for each user type.****"
   ]
  },
  {
   "cell_type": "code",
   "execution_count": 39,
   "id": "eec11cbf",
   "metadata": {
    "execution": {
     "iopub.execute_input": "2022-04-23T12:00:36.865170Z",
     "iopub.status.busy": "2022-04-23T12:00:36.863349Z",
     "iopub.status.idle": "2022-04-23T12:00:37.146286Z",
     "shell.execute_reply": "2022-04-23T12:00:37.143280Z"
    },
    "papermill": {
     "duration": 0.322879,
     "end_time": "2022-04-23T12:00:37.149131",
     "exception": false,
     "start_time": "2022-04-23T12:00:36.826252",
     "status": "completed"
    },
    "tags": []
   },
   "outputs": [
    {
     "name": "stderr",
     "output_type": "stream",
     "text": [
      "Don't know how to automatically pick scale for object of type difftime. Defaulting to continuous.\n",
      "\n"
     ]
    },
    {
     "data": {
      "image/png": "[encoded data removed]"
     },
     "metadata": {
      "image/png": {
       "height": 420,
       "width": 420
      }
     },
     "output_type": "display_data"
    }
   ],
   "source": [
    "ggplot(mean_duration, aes(user_type, mean_time,\n",
    "                          fill = user_type)) +\n",
    "  geom_col() +\n",
    "  labs(title = 'Mean Time Travelled by User',\n",
    "       x = 'User',\n",
    "       y = 'Mean time travelled in mins')"
   ]
  },
  {
   "cell_type": "markdown",
   "id": "1543c8b2",
   "metadata": {
    "papermill": {
     "duration": 0.035547,
     "end_time": "2022-04-23T12:00:37.220652",
     "exception": false,
     "start_time": "2022-04-23T12:00:37.185105",
     "status": "completed"
    },
    "tags": []
   },
   "source": [
    "****visualizing total ride frequency****"
   ]
  },
  {
   "cell_type": "code",
   "execution_count": 40,
   "id": "ad8a30c6",
   "metadata": {
    "execution": {
     "iopub.execute_input": "2022-04-23T12:00:37.298868Z",
     "iopub.status.busy": "2022-04-23T12:00:37.297227Z",
     "iopub.status.idle": "2022-04-23T12:00:37.686147Z",
     "shell.execute_reply": "2022-04-23T12:00:37.684146Z"
    },
    "papermill": {
     "duration": 0.43198,
     "end_time": "2022-04-23T12:00:37.689284",
     "exception": false,
     "start_time": "2022-04-23T12:00:37.257304",
     "status": "completed"
    },
    "tags": []
   },
   "outputs": [],
   "source": [
    " frequenct_df<- table(april_to_march$user_type)"
   ]
  },
  {
   "cell_type": "markdown",
   "id": "8980b4e0",
   "metadata": {
    "papermill": {
     "duration": 0.036363,
     "end_time": "2022-04-23T12:00:37.762480",
     "exception": false,
     "start_time": "2022-04-23T12:00:37.726117",
     "status": "completed"
    },
    "tags": []
   },
   "source": [
    "# PHASE 5 - Share\n"
   ]
  },
  {
   "cell_type": "markdown",
   "id": "8141e0fe",
   "metadata": {
    "papermill": {
     "duration": 0.035468,
     "end_time": "2022-04-23T12:00:37.833669",
     "exception": false,
     "start_time": "2022-04-23T12:00:37.798201",
     "status": "completed"
    },
    "tags": []
   },
   "source": [
    "****Conclusions:****\n"
   ]
  },
  {
   "cell_type": "markdown",
   "id": "95c71d12",
   "metadata": {
    "papermill": {
     "duration": 0.036248,
     "end_time": "2022-04-23T12:00:37.905962",
     "exception": false,
     "start_time": "2022-04-23T12:00:37.869714",
     "status": "completed"
    },
    "tags": []
   },
   "source": [
    "* Casual riders make more use of docked bike than bike share members who makes more use of classic bikes.\n",
    "* Highest activity during summer - Casual and member riders are seen to be more active between July and September\n",
    "* From the analysis above, casual riders are seen to be very active during the weekends (Saturday and Sunday) indicating that they probably use this service for leisure.It can also be inferred that members activities, to a noticeable extent are fairly distributed across the week without sudden pikes indicating that they might be using the bike share service as a means of transportation to work on a daily basis although we'll need more data to support this proposition.\n",
    "* Casual and member riders were obbserved using the service more in the evening period.\n",
    "* members usertype frequency is just a third of casual usertypes frequency.\n"
   ]
  },
  {
   "cell_type": "markdown",
   "id": "e5f44ac5",
   "metadata": {
    "papermill": {
     "duration": 0.037064,
     "end_time": "2022-04-23T12:00:37.979476",
     "exception": false,
     "start_time": "2022-04-23T12:00:37.942412",
     "status": "completed"
    },
    "tags": []
   },
   "source": [
    "# Recommendations\n"
   ]
  },
  {
   "cell_type": "markdown",
   "id": "54b6357a",
   "metadata": {
    "papermill": {
     "duration": 0.036215,
     "end_time": "2022-04-23T12:00:38.051856",
     "exception": false,
     "start_time": "2022-04-23T12:00:38.015641",
     "status": "completed"
    },
    "tags": []
   },
   "source": [
    "* Discounts should be given on weekends to casual riders when they use the bike share service most.\n",
    "\n",
    "* Ads could also be created outlining the benefits of resorting to using bikes to commute to work on a daily basis - like how it is a form of exercise and helps maintain good health and also how it contributes to maintaining a green environment.\n",
    "\n",
    "* Since more of the casual riders make more use of docked bikes, plans on getting more docked bikes in place should be considered.\n",
    "\n"
   ]
  }
 ],
 "metadata": {
  "kernelspec": {
   "display_name": "R",
   "language": "R",
   "name": "ir"
  },
  "language_info": {
   "codemirror_mode": "r",
   "file_extension": ".r",
   "mimetype": "text/x-r-source",
   "name": "R",
   "pygments_lexer": "r",
   "version": "4.0.5"
  },
  "papermill": {
   "default_parameters": {},
   "duration": 221.676169,
   "end_time": "2022-04-23T12:00:38.411310",
   "environment_variables": {},
   "exception": null,
   "input_path": "__notebook__.ipynb",
   "output_path": "__notebook__.ipynb",
   "parameters": {},
   "start_time": "2022-04-23T11:56:56.735141",
   "version": "2.3.4"
  }
 },
 "nbformat": 4,
 "nbformat_minor": 5
}
